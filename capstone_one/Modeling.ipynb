{
 "cells": [
  {
   "cell_type": "code",
   "execution_count": 123,
   "metadata": {},
   "outputs": [],
   "source": [
    "import pandas as pd\n",
    "import numpy as np\n",
    "import seaborn as sns\n",
    "import matplotlib.pyplot as plt\n",
    "\n",
    "from sklearn.model_selection import train_test_split\n",
    "from sklearn.linear_model import LogisticRegression\n",
    "from sklearn.metrics import accuracy_score, roc_auc_score, make_scorer, fbeta_score, roc_curve\n",
    "\n",
    "from sklearn.model_selection import KFold\n",
    "from sklearn.model_selection import GridSearchCV\n",
    "\n",
    "from sklearn.preprocessing import RobustScaler\n",
    "from sklearn.pipeline import Pipeline"
   ]
  },
  {
   "cell_type": "code",
   "execution_count": 2,
   "metadata": {},
   "outputs": [],
   "source": [
    "df = pd.read_pickle('kickstarter_analysis.pkl')\n",
    "df = df.dropna()"
   ]
  },
  {
   "cell_type": "code",
   "execution_count": 84,
   "metadata": {},
   "outputs": [],
   "source": [
    "## Selecting Features\n",
    "features=['country','img_count', 'vid_count',\n",
    "          'usd_goal', 'description_len', 'blurb_len', 'slug_len', 'med_rewards','category_core']\n",
    "dependent=['reach_goal']\n",
    "toscale = ['img_count', 'vid_count', 'usd_goal', 'description_len', 'blurb_len', 'slug_len', 'med_rewards']"
   ]
  },
  {
   "cell_type": "code",
   "execution_count": 85,
   "metadata": {},
   "outputs": [],
   "source": [
    "X=df[features]\n",
    "y=df[dependent]\n",
    "\n",
    "## Getting dummy variables\n",
    "X = pd.get_dummies(X, drop_first = True)\n",
    "y = y.values.ravel()"
   ]
  },
  {
   "cell_type": "markdown",
   "metadata": {},
   "source": [
    "# Logistic Regression"
   ]
  },
  {
   "cell_type": "code",
   "execution_count": 86,
   "metadata": {},
   "outputs": [
    {
     "name": "stdout",
     "output_type": "stream",
     "text": [
      "Training acc_score: 0.6959186081796419 \n",
      "Testing acc_score: 0.6985740977480578\n"
     ]
    }
   ],
   "source": [
    "###################\n",
    "## Initial Model\n",
    "###################\n",
    "X_train, X_test, y_train, y_test = train_test_split(X, y, \n",
    "                                                   test_size = 0.3, random_state = 42)\n",
    "\n",
    "clf = LogisticRegression(solver = 'liblinear')\n",
    "clf.fit(X_train, y_train)\n",
    "\n",
    "training = clf.predict(X_train)\n",
    "testing = clf.predict(X_test)\n",
    "\n",
    "train_acc = accuracy_score(y_train, training)\n",
    "test_acc = accuracy_score(y_test, testing)\n",
    "\n",
    "print(\"Training acc_score: {} \\nTesting acc_score: {}\".format(train_acc, test_acc))"
   ]
  },
  {
   "cell_type": "code",
   "execution_count": 87,
   "metadata": {},
   "outputs": [
    {
     "name": "stdout",
     "output_type": "stream",
     "text": [
      "0.7005386359428177\n"
     ]
    }
   ],
   "source": [
    "#################\n",
    "## Utilizing CV\n",
    "#################\n",
    "X_arr = X.values\n",
    "final = 0\n",
    "clf = LogisticRegression(solver='liblinear')\n",
    "for train, test in KFold(n_splits=5).split(X_arr):\n",
    "    clf.fit(X_arr[train], y[train])\n",
    "    pred = clf.predict(X_arr[test])\n",
    "    acc = accuracy_score(y[test], pred)\n",
    "    final += acc\n",
    "    \n",
    "final = final / 5 # n of folds\n",
    "print(final)"
   ]
  },
  {
   "cell_type": "code",
   "execution_count": 88,
   "metadata": {},
   "outputs": [
    {
     "name": "stdout",
     "output_type": "stream",
     "text": [
      "The best parameters are: {'C': 100} \n",
      "and the best score is: 0.7011362486934826\n"
     ]
    }
   ],
   "source": [
    "###########################\n",
    "## Utilizing GridSearchCV\n",
    "###########################\n",
    "params = {'C':[0.0001, 0.001, 0.1, 1, 10, 100]}\n",
    "clf = LogisticRegression(solver='liblinear')\n",
    "gs_cv = GridSearchCV(clf, param_grid=params, cv = 5)\n",
    "gs_cv.fit(X_train, y_train)\n",
    "\n",
    "print('The best parameters are: {} \\nand the best score is: {}'.format(gs_cv.best_params_, gs_cv.best_score_))"
   ]
  },
  {
   "cell_type": "code",
   "execution_count": 93,
   "metadata": {},
   "outputs": [],
   "source": [
    "################################\n",
    "## Implementing A Robust Scaler\n",
    "################################\n",
    "from sklearn.compose import ColumnTransformer\n",
    "robust_transformer = Pipeline(steps = [ ('robust', RobustScaler()) ] )\n",
    "preprocessor = ColumnTransformer(remainder = 'passthrough', \n",
    "                                transformers = [('rb', robust_transformer, toscale)])\n",
    "preprocessor.fit(X)\n",
    "X_scale = preprocessor.transform(X)"
   ]
  },
  {
   "cell_type": "code",
   "execution_count": 119,
   "metadata": {},
   "outputs": [
    {
     "name": "stdout",
     "output_type": "stream",
     "text": [
      "Training acc_score: 0.7270980140935298 \n",
      "Testing acc_score: 0.7315960271413118\n"
     ]
    }
   ],
   "source": [
    "###############################\n",
    "## Initial Model using Scaled\n",
    "###############################\n",
    "Xs_train, Xs_test, ys_train, ys_test = train_test_split(X_scale, y, \n",
    "                                                   test_size = 0.3, random_state = 42)\n",
    "\n",
    "\n",
    "clf = LogisticRegression(solver='liblinear')\n",
    "clf.fit(Xs_train, ys_train)\n",
    "\n",
    "training = clf.predict(Xs_train)\n",
    "y_pred = clf.predict(Xs_test)\n",
    "\n",
    "train_acc = accuracy_score(ys_train, training)\n",
    "test_acc = accuracy_score(ys_test, y_pred)\n",
    "\n",
    "print(\"Training acc_score: {} \\nTesting acc_score: {}\".format(train_acc, test_acc))"
   ]
  },
  {
   "cell_type": "code",
   "execution_count": 106,
   "metadata": {},
   "outputs": [
    {
     "name": "stdout",
     "output_type": "stream",
     "text": [
      "Training acc_score: 0.7117531733271156 \n",
      "Testing acc_score: 0.7173605953558871\n"
     ]
    }
   ],
   "source": [
    "###############################\n",
    "## Initial Model using Scaled & roc_auc\n",
    "###############################\n",
    "training = clf.predict(Xs_train)\n",
    "y_pred = clf.predict(Xs_test)\n",
    "\n",
    "ra_train_acc = roc_auc_score(ys_train, training)\n",
    "ra_test_acc = roc_auc_score(ys_test, y_pred)\n",
    "\n",
    "print(\"Training acc_score: {} \\nTesting acc_score: {}\".format(ra_train_acc, ra_test_acc))"
   ]
  },
  {
   "cell_type": "code",
   "execution_count": 117,
   "metadata": {},
   "outputs": [
    {
     "name": "stdout",
     "output_type": "stream",
     "text": [
      "[0.         0.39974028 1.        ]\n",
      "[0.         0.83446147 1.        ]\n",
      "[2 1 0]\n"
     ]
    }
   ],
   "source": [
    "#####################\n",
    "## ROC Curve\n",
    "####################\n",
    "fpr, tpr, thresholds = roc_curve(ys_test, y_pred)\n",
    "print(fpr)\n",
    "print(tpr)\n",
    "print(thresholds)"
   ]
  },
  {
   "cell_type": "code",
   "execution_count": 124,
   "metadata": {},
   "outputs": [
    {
     "data": {
      "text/plain": [
       "(0, 1)"
      ]
     },
     "execution_count": 124,
     "metadata": {},
     "output_type": "execute_result"
    },
    {
     "data": {
      "image/png": "[encoded data removed]",
      "text/plain": [
       "<Figure size 432x288 with 1 Axes>"
      ]
     },
     "metadata": {
      "needs_background": "light"
     },
     "output_type": "display_data"
    }
   ],
   "source": [
    "########################\n",
    "## Using Precision/Recall graphically\n",
    "########################\n",
    "## https://stackoverflow.com/questions/28716241/controlling-the-threshold-in-logistic-regression-in-scikit-learn\n",
    "y_pred = clf.predict(Xs_test)\n",
    "y_probs = clf.predict_proba(Xs_test)\n",
    "\n",
    "from sklearn.metrics import precision_recall_curve, auc\n",
    "\n",
    "precision, recall, thresholds = precision_recall_curve(ys_test, y_probs[:,1])\n",
    "\n",
    "pr_auc = auc(recall, precision)\n",
    "\n",
    "\n",
    "plt.title(\"Precision-Recall vs Threshold Chart\")\n",
    "plt.plot(thresholds, precision[: -1], \"b--\", label=\"Precision\")\n",
    "plt.plot(thresholds, recall[: -1], \"r--\", label=\"Recall\")\n",
    "plt.ylabel(\"Precision, Recall\")\n",
    "plt.xlabel(\"Threshold\")\n",
    "plt.legend(loc=\"lower left\")\n",
    "plt.ylim([0,1])"
   ]
  },
  {
   "cell_type": "code",
   "execution_count": 104,
   "metadata": {},
   "outputs": [
    {
     "name": "stdout",
     "output_type": "stream",
     "text": [
      "The best parameters are: {'C': 0.001} \n",
      "and the best score is: 0.7143655989802629\n"
     ]
    }
   ],
   "source": [
    "###########################\n",
    "## Utilizing GridSearchCV w/ roc_auc\n",
    "###########################\n",
    "r_a = make_scorer(roc_auc_score)\n",
    "\n",
    "params = {'C':[0.0001, 0.001, 0.1, 1, 10, 100]}\n",
    "clf = LogisticRegression(solver='liblinear')\n",
    "gs_cv = GridSearchCV(clf, param_grid=params, scoring = r_a, cv = 5)\n",
    "gs_cv.fit(Xs_train, ys_train)\n",
    "\n",
    "print('The best parameters are: {} \\nand the best score is: {}'.format(gs_cv.best_params_, gs_cv.best_score_))"
   ]
  },
  {
   "cell_type": "code",
   "execution_count": 110,
   "metadata": {},
   "outputs": [
    {
     "name": "stdout",
     "output_type": "stream",
     "text": [
      "The best parameters are: {'C': 0.001} \n",
      "and the best score is: 0.7443336134110379\n"
     ]
    }
   ],
   "source": [
    "#########################\n",
    "## Utilizing GSCV w/ fbeta\n",
    "#########################\n",
    "f_precision = make_scorer(fbeta_score, beta = .5) ## More weight towards precision\n",
    "\n",
    "params = {'C':[0.0001, 0.001, 0.1, 1, 10, 100]}\n",
    "clf = LogisticRegression(solver='liblinear')\n",
    "gs_cv = GridSearchCV(clf, param_grid=params, scoring = f_precision, cv = 5)\n",
    "gs_cv.fit(Xs_train, ys_train)\n",
    "\n",
    "print('The best parameters are: {} \\nand the best score is: {}'.format(gs_cv.best_params_, gs_cv.best_score_))"
   ]
  },
  {
   "cell_type": "code",
   "execution_count": 134,
   "metadata": {},
   "outputs": [
    {
     "name": "stdout",
     "output_type": "stream",
     "text": [
      "0.7543588011958393\n"
     ]
    }
   ],
   "source": [
    "######################\n",
    "## LogReg model using optimal C and scored by fbeta\n",
    "######################\n",
    "\n",
    "logreg = LogisticRegression(solver='liblinear', C=0.001)\n",
    "logreg.fit(Xs_train, ys_train)\n",
    "\n",
    "y_pred = logreg.predict(Xs_test)\n",
    "y_probs = logreg.predict_proba(Xs_test)\n",
    "\n",
    "thresh = y_probs[:,1] > .6\n",
    "\n",
    "score = fbeta_score(y_test, thresh, beta = 0.5)\n",
    "print(score)"
   ]
  },
  {
   "cell_type": "markdown",
   "metadata": {},
   "source": [
    "# SVM"
   ]
  },
  {
   "cell_type": "code",
   "execution_count": 135,
   "metadata": {},
   "outputs": [],
   "source": [
    "from sklearn.svm import LinearSVC"
   ]
  },
  {
   "cell_type": "code",
   "execution_count": 136,
   "metadata": {},
   "outputs": [
    {
     "name": "stdout",
     "output_type": "stream",
     "text": [
      "0.7413578063627394\n"
     ]
    },
    {
     "name": "stderr",
     "output_type": "stream",
     "text": [
      "/Users/Matt/anaconda3/lib/python3.7/site-packages/sklearn/svm/base.py:931: ConvergenceWarning: Liblinear failed to converge, increase the number of iterations.\n",
      "  \"the number of iterations.\", ConvergenceWarning)\n"
     ]
    }
   ],
   "source": [
    "######################\n",
    "## Initial SVM Model\n",
    "######################\n",
    "svc = LinearSVC()\n",
    "svc.fit(Xs_train, ys_train)\n",
    "y_pred = svc.predict(Xs_test)\n",
    "\n",
    "score = fbeta_score(y_test, y_pred, beta = 0.5)\n",
    "print(score)"
   ]
  },
  {
   "cell_type": "code",
   "execution_count": 137,
   "metadata": {},
   "outputs": [
    {
     "name": "stdout",
     "output_type": "stream",
     "text": [
      "0.7409795812070217\n"
     ]
    },
    {
     "name": "stderr",
     "output_type": "stream",
     "text": [
      "/Users/Matt/anaconda3/lib/python3.7/site-packages/sklearn/svm/base.py:931: ConvergenceWarning: Liblinear failed to converge, increase the number of iterations.\n",
      "  \"the number of iterations.\", ConvergenceWarning)\n"
     ]
    }
   ],
   "source": [
    "######################\n",
    "## Initial SVM Model, adjusting max_iter\n",
    "######################\n",
    "svc = LinearSVC(max_iter = 2000)\n",
    "svc.fit(Xs_train, ys_train)\n",
    "y_pred = svc.predict(Xs_test)\n",
    "\n",
    "score = fbeta_score(y_test, y_pred, beta = 0.5)\n",
    "print(score)"
   ]
  },
  {
   "cell_type": "code",
   "execution_count": 138,
   "metadata": {},
   "outputs": [
    {
     "name": "stdout",
     "output_type": "stream",
     "text": [
      "0.740694812160143\n"
     ]
    },
    {
     "name": "stderr",
     "output_type": "stream",
     "text": [
      "/Users/Matt/anaconda3/lib/python3.7/site-packages/sklearn/svm/base.py:931: ConvergenceWarning: Liblinear failed to converge, increase the number of iterations.\n",
      "  \"the number of iterations.\", ConvergenceWarning)\n"
     ]
    }
   ],
   "source": [
    "######################\n",
    "## Initial SVM Model, adjusting max_iter, 4000\n",
    "######################\n",
    "svc = LinearSVC(max_iter = 4000)\n",
    "svc.fit(Xs_train, ys_train)\n",
    "y_pred = svc.predict(Xs_test)\n",
    "\n",
    "score = fbeta_score(y_test, y_pred, beta = 0.5)\n",
    "print(score)"
   ]
  },
  {
   "cell_type": "code",
   "execution_count": null,
   "metadata": {},
   "outputs": [],
   "source": []
  }
 ],
 "metadata": {
  "kernelspec": {
   "display_name": "Python 3",
   "language": "python",
   "name": "python3"
  },
  "language_info": {
   "codemirror_mode": {
    "name": "ipython",
    "version": 3
   },
   "file_extension": ".py",
   "mimetype": "text/x-python",
   "name": "python",
   "nbconvert_exporter": "python",
   "pygments_lexer": "ipython3",
   "version": "3.7.3"
  }
 },
 "nbformat": 4,
 "nbformat_minor": 2
}
