{
 "cells": [
  {
   "cell_type": "code",
   "execution_count": 1,
   "metadata": {},
   "outputs": [],
   "source": [
    "import pandas as pd\n",
    "import numpy as np"
   ]
  },
  {
   "cell_type": "code",
   "execution_count": 2,
   "metadata": {},
   "outputs": [],
   "source": [
    "df = pd.read_pickle('kickstarter_desc.pkl')"
   ]
  },
  {
   "cell_type": "code",
   "execution_count": 3,
   "metadata": {},
   "outputs": [],
   "source": [
    "# step one, rename parsed\n",
    "df.rename(columns = {\"description\":\"parsed\"}, inplace = True)"
   ]
  },
  {
   "cell_type": "code",
   "execution_count": 4,
   "metadata": {},
   "outputs": [],
   "source": [
    "# step two, pull out the four columns\n",
    "df[['description', 'img_count', 'vid_count', 'rewards']] = pd.DataFrame(df['parsed'].tolist(), index=df.index) "
   ]
  },
  {
   "cell_type": "code",
   "execution_count": 5,
   "metadata": {},
   "outputs": [],
   "source": [
    "## df[df['description'].str.contains('This Error:')].info()\n",
    "## Uhh there's 184 errors and I may just drop them all. Pulling the URLs again doesn't seem to be worth it. There's\n",
    "## multiple error that can result from this and 184/200,000 records isn't so bad. \n",
    "\n",
    "\n",
    "## Step three, drop parsed column\n",
    "df.drop('parsed',axis = 1, inplace = True)"
   ]
  },
  {
   "cell_type": "code",
   "execution_count": 6,
   "metadata": {},
   "outputs": [],
   "source": [
    "## Step four, drop rows that don't have all information\n",
    "df.dropna(subset=['img_count', 'vid_count', 'rewards'], inplace = True)"
   ]
  },
  {
   "cell_type": "code",
   "execution_count": 7,
   "metadata": {},
   "outputs": [],
   "source": [
    "## Step five, transforms \"N/A\" strings to NaNs, clean up empty vals\n",
    "df.replace('N/A',np.NaN, inplace = True)"
   ]
  },
  {
   "cell_type": "code",
   "execution_count": 8,
   "metadata": {},
   "outputs": [],
   "source": [
    "##step six, clean up empty / null values\n",
    "df.description.replace('', None, inplace = True)\n",
    "\n",
    "## It looks like for some descriptions, it's a long string of null characters that we may be able to ignore\n",
    "## during analysis"
   ]
  },
  {
   "cell_type": "code",
   "execution_count": 9,
   "metadata": {},
   "outputs": [],
   "source": [
    "## Step seven, clean up categories\n",
    "\n",
    "# df.loc[10]['category']\n",
    "# df.groupby([\"category_name\", \"category_slug\"]).size()\n",
    "def cat_core(str):\n",
    "    if \"/\" in str:\n",
    "        split_list = str.split('/')\n",
    "        core = split_list[0]\n",
    "        return core\n",
    "    else:\n",
    "        return str\n",
    "    \n",
    "df['category_core'] = df['category_slug'].apply(cat_core)"
   ]
  },
  {
   "cell_type": "code",
   "execution_count": 10,
   "metadata": {
    "scrolled": true
   },
   "outputs": [],
   "source": [
    "## Step eight, clean up dates \n",
    "\n",
    "## df.loc[0]['created_at_date']\n",
    "\n",
    "df['created_at_date'] = pd.to_datetime(df['created_at_date'])\n",
    "df['deadline_date'] = pd.to_datetime(df['deadline_date'])\n",
    "df['launched_at_date'] = pd.to_datetime(df['launched_at_date'])\n",
    "df['state_changed_at_date'] = pd.to_datetime(df['state_changed_at_date'])"
   ]
  },
  {
   "cell_type": "code",
   "execution_count": null,
   "metadata": {},
   "outputs": [],
   "source": []
  },
  {
   "cell_type": "code",
   "execution_count": null,
   "metadata": {},
   "outputs": [],
   "source": []
  },
  {
   "cell_type": "code",
   "execution_count": 19,
   "metadata": {},
   "outputs": [],
   "source": []
  },
  {
   "cell_type": "code",
   "execution_count": null,
   "metadata": {},
   "outputs": [],
   "source": []
  },
  {
   "cell_type": "code",
   "execution_count": 24,
   "metadata": {},
   "outputs": [],
   "source": [
    "df.to_pickle('kickstarter_clean.pkl')"
   ]
  },
  {
   "cell_type": "code",
   "execution_count": null,
   "metadata": {},
   "outputs": [],
   "source": []
  },
  {
   "cell_type": "code",
   "execution_count": null,
   "metadata": {
    "scrolled": true
   },
   "outputs": [],
   "source": []
  },
  {
   "cell_type": "code",
   "execution_count": null,
   "metadata": {},
   "outputs": [],
   "source": []
  },
  {
   "cell_type": "code",
   "execution_count": null,
   "metadata": {},
   "outputs": [],
   "source": []
  },
  {
   "cell_type": "code",
   "execution_count": null,
   "metadata": {},
   "outputs": [],
   "source": []
  },
  {
   "cell_type": "code",
   "execution_count": null,
   "metadata": {},
   "outputs": [],
   "source": []
  },
  {
   "cell_type": "code",
   "execution_count": null,
   "metadata": {},
   "outputs": [],
   "source": []
  }
 ],
 "metadata": {
  "kernelspec": {
   "display_name": "Python 3",
   "language": "python",
   "name": "python3"
  },
  "language_info": {
   "codemirror_mode": {
    "name": "ipython",
    "version": 3
   },
   "file_extension": ".py",
   "mimetype": "text/x-python",
   "name": "python",
   "nbconvert_exporter": "python",
   "pygments_lexer": "ipython3",
   "version": "3.7.3"
  }
 },
 "nbformat": 4,
 "nbformat_minor": 2
}
