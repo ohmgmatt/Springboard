{
 "cells": [
  {
   "cell_type": "code",
   "execution_count": 1,
   "metadata": {},
   "outputs": [],
   "source": [
    "import pandas as pd\n",
    "import requests\n",
    "from bs4 import BeautifulSoup\n",
    "import json\n",
    "import re\n",
    "from tqdm.auto import tqdm\n",
    "import urllib.request\n",
    "from selectolax.parser import HTMLParser"
   ]
  },
  {
   "cell_type": "code",
   "execution_count": 9,
   "metadata": {},
   "outputs": [],
   "source": [
    "df = pd.read_pickle('kickstarter.pkl')\n",
    "sample = df.loc[:25]"
   ]
  },
  {
   "cell_type": "code",
   "execution_count": 3,
   "metadata": {},
   "outputs": [],
   "source": [
    "def parser(url):\n",
    "    try:\n",
    "        result = urllib.request.urlopen(url)\n",
    "        soup = BeautifulSoup(result.read())\n",
    "    \n",
    "        textfield = '\\n'.join([item.text for item in soup.find('div', 'full-description').find_all(['p','ul'])])\n",
    "    \n",
    "        return(textfield)\n",
    "    except AttributeError:\n",
    "        return 'Missing Description'"
   ]
  },
  {
   "cell_type": "code",
   "execution_count": 10,
   "metadata": {},
   "outputs": [],
   "source": [
    "all_urls = list(sample['web_url'])"
   ]
  },
  {
   "cell_type": "code",
   "execution_count": 11,
   "metadata": {},
   "outputs": [],
   "source": [
    "from multiprocessing import Pool\n",
    "\n",
    "data = []\n",
    "\n",
    "def scrape(url):\n",
    "    try:\n",
    "        result = urllib.request.urlopen(url)\n",
    "        soup = BeautifulSoup(result.read())\n",
    "        textfield = '\\n'.join([item.text for item in soup.find('div', 'full-description').find_all(['p','ul'])])\n",
    "        data.append((url, textfield))\n",
    "    except AttributeError:\n",
    "        data.append((url, 'Mising Description'))\n",
    "    \n",
    "p = Pool(2)\n",
    "p.map(scrape, all_urls)\n",
    "p.terminate()\n",
    "p.join()"
   ]
  },
  {
   "cell_type": "code",
   "execution_count": null,
   "metadata": {},
   "outputs": [],
   "source": [
    "from multiprocessing import Pool\n",
    "import requests\n",
    "from bs4 import BeautifulSoup\n",
    "\n",
    "\n",
    "\n",
    "base_url = 'http://quotes.toscrape.com/page/'\n",
    "\n",
    "all_urls = list()\n",
    "\n",
    "def generate_urls():\n",
    "    for i in range(1,11):\n",
    "        all_urls.append(base_url + str(i))\n",
    "    \n",
    "def scrape(url):\n",
    "    res = requests.get(url)\n",
    "    print(res.status_code, res.url)\n",
    "\n",
    "generate_urls()\n",
    "\n",
    "p = Pool(10)\n",
    "p.map(scrape, all_urls)\n",
    "p.terminate()\n",
    "p.join()"
   ]
  }
 ],
 "metadata": {
  "kernelspec": {
   "display_name": "Python 3",
   "language": "python",
   "name": "python3"
  },
  "language_info": {
   "codemirror_mode": {
    "name": "ipython",
    "version": 3
   },
   "file_extension": ".py",
   "mimetype": "text/x-python",
   "name": "python",
   "nbconvert_exporter": "python",
   "pygments_lexer": "ipython3",
   "version": "3.7.3"
  }
 },
 "nbformat": 4,
 "nbformat_minor": 2
}
