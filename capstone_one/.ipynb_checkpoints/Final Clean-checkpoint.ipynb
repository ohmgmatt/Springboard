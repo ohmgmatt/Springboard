{
 "cells": [
  {
   "cell_type": "code",
   "execution_count": 13,
   "metadata": {},
   "outputs": [],
   "source": [
    "import pandas as pd\n",
    "import numpy as np"
   ]
  },
  {
   "cell_type": "code",
   "execution_count": 14,
   "metadata": {},
   "outputs": [],
   "source": [
    "df = pd.read_pickle('kickstarter_desc.pkl')"
   ]
  },
  {
   "cell_type": "code",
   "execution_count": 15,
   "metadata": {},
   "outputs": [],
   "source": [
    "# step one, rename parsed\n",
    "df.rename(columns = {\"description\":\"parsed\"}, inplace = True)"
   ]
  },
  {
   "cell_type": "code",
   "execution_count": 16,
   "metadata": {},
   "outputs": [],
   "source": [
    "# step two, pull out the four columns\n",
    "df[['description', 'img_count', 'vid_count', 'rewards']] = pd.DataFrame(df['parsed'].tolist(), index=df.index) "
   ]
  },
  {
   "cell_type": "code",
   "execution_count": 17,
   "metadata": {},
   "outputs": [],
   "source": [
    "## df[df['description'].str.contains('This Error:')].info()\n",
    "## Uhh there's 184 errors and I may just drop them all. Pulling the URLs again doesn't seem to be worth it. There's\n",
    "## multiple error that can result from this and 184/200,000 records isn't so bad. \n",
    "\n",
    "\n",
    "## Step three, drop parsed column\n",
    "df.drop('parsed',axis = 1, inplace = True)"
   ]
  },
  {
   "cell_type": "code",
   "execution_count": 18,
   "metadata": {},
   "outputs": [],
   "source": [
    "## Step four, drop rows that don't have all information\n",
    "df.dropna(subset=['img_count', 'vid_count', 'rewards'], inplace = True)"
   ]
  },
  {
   "cell_type": "code",
   "execution_count": 19,
   "metadata": {},
   "outputs": [],
   "source": [
    "## Step five, transforms \"N/A\" strings to NaNs, clean up empty vals\n",
    "df.replace('N/A',np.NaN, inplace = True)"
   ]
  },
  {
   "cell_type": "code",
   "execution_count": 20,
   "metadata": {},
   "outputs": [],
   "source": [
    "##step six, clean up empty / null values\n",
    "df.description.replace('', None, inplace = True)\n",
    "\n",
    "## It looks like for some descriptions, it's a long string of null characters that we may be able to ignore\n",
    "## during analysis"
   ]
  },
  {
   "cell_type": "code",
   "execution_count": 21,
   "metadata": {},
   "outputs": [],
   "source": [
    "## Step seven, clean up categories\n",
    "\n",
    "# df.loc[10]['category']\n",
    "# df.groupby([\"category_name\", \"category_slug\"]).size()\n",
    "def cat_core(str):\n",
    "    if \"/\" in str:\n",
    "        split_list = str.split('/')\n",
    "        core = split_list[0]\n",
    "        return core\n",
    "    else:\n",
    "        return str\n",
    "    \n",
    "df['category_core'] = df['category_slug'].apply(cat_core)"
   ]
  },
  {
   "cell_type": "code",
   "execution_count": 22,
   "metadata": {
    "scrolled": true
   },
   "outputs": [],
   "source": [
    "## Step eight, clean up dates \n",
    "\n",
    "## df.loc[0]['created_at_date']\n",
    "\n",
    "df['created_at_date'] = pd.to_datetime(df['created_at_date'])\n",
    "df['deadline_date'] = pd.to_datetime(df['deadline_date'])\n",
    "df['launched_at_date'] = pd.to_datetime(df['launched_at_date'])\n",
    "df['state_changed_at_date'] = pd.to_datetime(df['state_changed_at_date'])"
   ]
  },
  {
   "cell_type": "code",
   "execution_count": 23,
   "metadata": {},
   "outputs": [],
   "source": [
    "## Step Nine, USD Goal\n",
    "\n",
    "df['usd_goal'] = df['goal'] * df['static_usd_rate']"
   ]
  },
  {
   "cell_type": "code",
   "execution_count": 24,
   "metadata": {},
   "outputs": [],
   "source": [
    "## Step ten, percent reached\n",
    "\n",
    "df['percent_goal'] = (df['pledged'] / df['goal']) * 100.00"
   ]
  },
  {
   "cell_type": "code",
   "execution_count": 25,
   "metadata": {},
   "outputs": [],
   "source": [
    "## Step eleven, video_usage. \n",
    "## Determined that video usage is sparse and woudl rather see if they did use it or not in addition to how many\n",
    "\n",
    "df['vid_usage'] = df['vid_count'] >= 1.0"
   ]
  },
  {
   "cell_type": "code",
   "execution_count": 26,
   "metadata": {},
   "outputs": [],
   "source": [
    "## Step twelve, boolean whether they reached goal or not.\n",
    "\n",
    "df['reach_goal'] = df['percent_goal'] >= 100.00"
   ]
  },
  {
   "cell_type": "code",
   "execution_count": 27,
   "metadata": {},
   "outputs": [],
   "source": [
    "## Step thirteen, drop duplicates\n",
    "df.drop_duplicates(subset = ['id', 'name'], inplace = True)"
   ]
  },
  {
   "cell_type": "code",
   "execution_count": 28,
   "metadata": {},
   "outputs": [],
   "source": [
    "## Step fourteen, rewards translated\n",
    "def convert_tool(values, rate):\n",
    "    new_rewards = []\n",
    "    for v in values:\n",
    "        new_rewards.append(round(v * rate, 2))\n",
    "    return new_rewards\n",
    "\n",
    "df['usd_rewards'] = df.apply(lambda x: convert_tool(x['rewards'], x['static_usd_rate']), axis = 1)"
   ]
  },
  {
   "cell_type": "code",
   "execution_count": 29,
   "metadata": {},
   "outputs": [],
   "source": [
    "## Step fifteen, did they reach the goal? boolean instead of quantitative\n",
    "df['reach_goal'] = df['percent_goal'] >= 100.00"
   ]
  },
  {
   "cell_type": "code",
   "execution_count": 30,
   "metadata": {},
   "outputs": [],
   "source": [
    "## Step sixteen, get the length of a description count & blurg\n",
    "\n",
    "df['description_len'] = df['description'].str.len()\n",
    "df['blurb_len'] = df['blurb'].str.len()\n",
    "df['slug_len'] = df['slug'].str.len()"
   ]
  },
  {
   "cell_type": "code",
   "execution_count": 31,
   "metadata": {},
   "outputs": [],
   "source": [
    "## Step eighteen, handling \"state\" of a project.\n",
    "## We want to drop the 'live' state since it may not accurately represent a projects current status\n",
    "## it's not fair if we took only half the 'live' projects that passed and not the ones who did not.\n",
    "## We're also dropping the canceled and successful states. A project could be successful but canceled so it's\n",
    "## not really telling. \n",
    "df = df[(df['state']=='successful') | (df['state'] == 'failed')]\n",
    "df.drop(df[(df['state'] == 'failed') & (df['reach_goal'] == True)].index, inplace = True)\n",
    "df.drop(df[(df['state'] == 'successful') & (df['reach_goal'] == False)].index, inplace = True)"
   ]
  },
  {
   "cell_type": "code",
   "execution_count": null,
   "metadata": {},
   "outputs": [],
   "source": []
  },
  {
   "cell_type": "code",
   "execution_count": 32,
   "metadata": {},
   "outputs": [],
   "source": [
    "df.to_pickle('kickstarter_clean.pkl')"
   ]
  },
  {
   "cell_type": "code",
   "execution_count": null,
   "metadata": {
    "scrolled": true
   },
   "outputs": [],
   "source": []
  },
  {
   "cell_type": "code",
   "execution_count": null,
   "metadata": {},
   "outputs": [],
   "source": []
  },
  {
   "cell_type": "code",
   "execution_count": 39,
   "metadata": {},
   "outputs": [],
   "source": [
    "df = pd.read_pickle('kickstarter_clean.pkl')"
   ]
  },
  {
   "cell_type": "code",
   "execution_count": 40,
   "metadata": {},
   "outputs": [],
   "source": [
    "date_fields = ['created_at', 'deadline', 'launched_at', 'state_changed_at']\n",
    "for fields in date_fields:\n",
    "    df[fields] = pd.to_datetime(df[fields], unit = 's')"
   ]
  },
  {
   "cell_type": "code",
   "execution_count": 46,
   "metadata": {},
   "outputs": [],
   "source": [
    "drop_list = ['backers_count', 'category', 'converted_pledged_amount',\n",
    "            'created_at_date', 'created_at_time', 'creator', 'currency_trailing_code',\n",
    "            'current_currency', 'deadline_date', 'deadline_time', 'fx_rate', 'goal', 'id', \n",
    "            'launched_at_date', 'launched_at_time', 'location',\n",
    "            'name', 'pledged', 'profile', 'state_changed_at_date', 'state_changed_at_time', 'urls', \n",
    "            'usd_type', 'profile_id', 'location_localized_name', \n",
    "            'profile_project_id', 'profile_state', 'urls_web', 'rewards', 'category_slug',\n",
    "            'state_changed_at', 'static_usd_rate']\n",
    "## Values not useful for analysis"
   ]
  },
  {
   "cell_type": "code",
   "execution_count": 42,
   "metadata": {},
   "outputs": [],
   "source": [
    "df_analysis = df.drop(drop_list, axis = 1)"
   ]
  },
  {
   "cell_type": "code",
   "execution_count": 43,
   "metadata": {},
   "outputs": [],
   "source": [
    "df_analysis.reset_index(drop = True, inplace = True)"
   ]
  },
  {
   "cell_type": "code",
   "execution_count": null,
   "metadata": {},
   "outputs": [],
   "source": []
  },
  {
   "cell_type": "code",
   "execution_count": 44,
   "metadata": {},
   "outputs": [],
   "source": [
    "df_analysis.to_pickle('kickstarter_analysis.pkl')"
   ]
  },
  {
   "cell_type": "code",
   "execution_count": null,
   "metadata": {},
   "outputs": [],
   "source": []
  },
  {
   "cell_type": "code",
   "execution_count": null,
   "metadata": {},
   "outputs": [],
   "source": []
  },
  {
   "cell_type": "code",
   "execution_count": null,
   "metadata": {},
   "outputs": [],
   "source": []
  },
  {
   "cell_type": "code",
   "execution_count": null,
   "metadata": {},
   "outputs": [],
   "source": []
  },
  {
   "cell_type": "code",
   "execution_count": null,
   "metadata": {},
   "outputs": [],
   "source": []
  },
  {
   "cell_type": "code",
   "execution_count": null,
   "metadata": {},
   "outputs": [],
   "source": []
  },
  {
   "cell_type": "code",
   "execution_count": null,
   "metadata": {},
   "outputs": [],
   "source": []
  },
  {
   "cell_type": "code",
   "execution_count": null,
   "metadata": {},
   "outputs": [],
   "source": []
  },
  {
   "cell_type": "code",
   "execution_count": null,
   "metadata": {},
   "outputs": [],
   "source": []
  },
  {
   "cell_type": "code",
   "execution_count": null,
   "metadata": {},
   "outputs": [],
   "source": []
  },
  {
   "cell_type": "code",
   "execution_count": null,
   "metadata": {},
   "outputs": [],
   "source": []
  },
  {
   "cell_type": "code",
   "execution_count": null,
   "metadata": {},
   "outputs": [],
   "source": []
  },
  {
   "cell_type": "code",
   "execution_count": null,
   "metadata": {},
   "outputs": [],
   "source": []
  },
  {
   "cell_type": "code",
   "execution_count": null,
   "metadata": {},
   "outputs": [],
   "source": []
  },
  {
   "cell_type": "code",
   "execution_count": null,
   "metadata": {},
   "outputs": [],
   "source": []
  },
  {
   "cell_type": "code",
   "execution_count": null,
   "metadata": {},
   "outputs": [],
   "source": []
  },
  {
   "cell_type": "code",
   "execution_count": null,
   "metadata": {},
   "outputs": [],
   "source": []
  },
  {
   "cell_type": "code",
   "execution_count": null,
   "metadata": {},
   "outputs": [],
   "source": []
  },
  {
   "cell_type": "code",
   "execution_count": null,
   "metadata": {},
   "outputs": [],
   "source": []
  },
  {
   "cell_type": "code",
   "execution_count": null,
   "metadata": {},
   "outputs": [],
   "source": []
  },
  {
   "cell_type": "code",
   "execution_count": null,
   "metadata": {},
   "outputs": [],
   "source": []
  },
  {
   "cell_type": "code",
   "execution_count": null,
   "metadata": {},
   "outputs": [],
   "source": []
  },
  {
   "cell_type": "code",
   "execution_count": null,
   "metadata": {},
   "outputs": [],
   "source": []
  }
 ],
 "metadata": {
  "kernelspec": {
   "display_name": "Python 3",
   "language": "python",
   "name": "python3"
  },
  "language_info": {
   "codemirror_mode": {
    "name": "ipython",
    "version": 3
   },
   "file_extension": ".py",
   "mimetype": "text/x-python",
   "name": "python",
   "nbconvert_exporter": "python",
   "pygments_lexer": "ipython3",
   "version": "3.7.3"
  }
 },
 "nbformat": 4,
 "nbformat_minor": 2
}
