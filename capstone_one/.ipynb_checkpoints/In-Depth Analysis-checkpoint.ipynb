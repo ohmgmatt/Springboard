{
 "cells": [
  {
   "cell_type": "code",
   "execution_count": 1,
   "metadata": {},
   "outputs": [],
   "source": [
    "import pandas as pd\n",
    "import numpy as np\n",
    "import seaborn as sns\n",
    "import matplotlib.pyplot as plt\n",
    "from pprint import pprint\n",
    "\n",
    "from sklearn.model_selection import train_test_split\n",
    "from sklearn.linear_model import LogisticRegression\n",
    "from sklearn.metrics import accuracy_score, roc_auc_score, make_scorer, fbeta_score, roc_curve\n",
    "\n",
    "from sklearn.model_selection import KFold\n",
    "from sklearn.model_selection import GridSearchCV\n",
    "\n",
    "from sklearn.preprocessing import RobustScaler\n",
    "from sklearn.pipeline import Pipeline"
   ]
  },
  {
   "cell_type": "code",
   "execution_count": 2,
   "metadata": {},
   "outputs": [],
   "source": [
    "#############\n",
    "##Making scorers\n",
    "#############\n",
    "f_precision = make_scorer(fbeta_score, beta = .5) ## More weight towards precision\n",
    "f_recall = make_scorer(fbeta_score, beta = 2) ## More weight towards recall"
   ]
  },
  {
   "cell_type": "code",
   "execution_count": 3,
   "metadata": {},
   "outputs": [],
   "source": [
    "df = pd.read_pickle('kickstarter_analysis.pkl')\n",
    "df = df.dropna()"
   ]
  },
  {
   "cell_type": "code",
   "execution_count": 4,
   "metadata": {},
   "outputs": [],
   "source": [
    "## Selecting Features\n",
    "features=['country','img_count', 'vid_count',\n",
    "          'usd_goal', 'description_len', 'blurb_len', \n",
    "          'slug_len', 'med_rewards','category_core', \n",
    "          'reward_len', 'created_month', 'created_weekday', \n",
    "          'deadline_month', 'deadline_weekday', \n",
    "          'length_of_project']\n",
    "dependent=['failed']\n",
    "toscale = ['img_count', 'vid_count', 'usd_goal', 'description_len', \n",
    "           'blurb_len', 'slug_len', \n",
    "           'med_rewards', 'reward_len', 'length_of_project']"
   ]
  },
  {
   "cell_type": "code",
   "execution_count": 5,
   "metadata": {},
   "outputs": [],
   "source": [
    "X=df[features]\n",
    "y=df[dependent]\n",
    "\n",
    "## Getting dummy variables\n",
    "X = pd.get_dummies(X, drop_first = True)\n",
    "y = y.values.ravel()"
   ]
  },
  {
   "cell_type": "code",
   "execution_count": 6,
   "metadata": {},
   "outputs": [],
   "source": [
    "X_train, X_test, y_train, y_test = train_test_split(X, y, \n",
    "                                                   test_size = 0.4, random_state = 42)"
   ]
  },
  {
   "cell_type": "code",
   "execution_count": 7,
   "metadata": {},
   "outputs": [],
   "source": [
    "################################\n",
    "## Implementing A Robust Scaler\n",
    "################################\n",
    "from sklearn.compose import ColumnTransformer\n",
    "robust_transformer = Pipeline(steps = [ ('robust', RobustScaler()) ] )\n",
    "preprocessor = ColumnTransformer(remainder = 'passthrough', \n",
    "                                transformers = [('rb', robust_transformer, toscale)])\n",
    "preprocessor.fit(X)\n",
    "X_scale = preprocessor.transform(X)"
   ]
  },
  {
   "cell_type": "code",
   "execution_count": 8,
   "metadata": {},
   "outputs": [],
   "source": [
    "################################\n",
    "## getting scaled training data\n",
    "################################\n",
    "Xs_train, Xs_test, ys_train, ys_test = train_test_split(X_scale, y, \n",
    "                                                   test_size = 0.3, random_state = 42)"
   ]
  },
  {
   "cell_type": "markdown",
   "metadata": {},
   "source": [
    "# Logistic Regression"
   ]
  },
  {
   "cell_type": "code",
   "execution_count": 10,
   "metadata": {},
   "outputs": [
    {
     "name": "stdout",
     "output_type": "stream",
     "text": [
      "Training acc_score: 0.7119704308466762 \n",
      "Testing acc_score: 0.7154135842919288\n"
     ]
    }
   ],
   "source": [
    "###################\n",
    "## Initial Model\n",
    "###################\n",
    "clf = LogisticRegression(solver = 'liblinear')\n",
    "clf.fit(X_train, y_train)\n",
    "\n",
    "training = clf.predict(X_train)\n",
    "testing = clf.predict(X_test)\n",
    "\n",
    "train_acc = fbeta_score(y_train, training, beta = 0.5)\n",
    "test_acc = fbeta_score(y_test, testing, beta = 0.5)\n",
    "\n",
    "print(\"Training acc_score: {} \\nTesting acc_score: {}\".format(train_acc, test_acc))"
   ]
  },
  {
   "cell_type": "code",
   "execution_count": 11,
   "metadata": {},
   "outputs": [
    {
     "name": "stdout",
     "output_type": "stream",
     "text": [
      "0.7092262160734597\n"
     ]
    }
   ],
   "source": [
    "#################\n",
    "## Utilizing CV\n",
    "#################\n",
    "X_arr = X.values\n",
    "final = 0\n",
    "clf = LogisticRegression(solver='liblinear')\n",
    "for train, test in KFold(n_splits=5).split(X_arr):\n",
    "    clf.fit(X_arr[train], y[train])\n",
    "    pred = clf.predict(X_arr[test])\n",
    "    acc = fbeta_score(y[test], pred, beta = 0.5)\n",
    "    final += acc\n",
    "    \n",
    "final = final / 5 # n of folds\n",
    "print(final)"
   ]
  },
  {
   "cell_type": "code",
   "execution_count": 12,
   "metadata": {},
   "outputs": [
    {
     "name": "stdout",
     "output_type": "stream",
     "text": [
      "The best parameters are: {'C': 0.001} \n",
      "and the best score is: 0.7110409800378267\n"
     ]
    }
   ],
   "source": [
    "###########################\n",
    "## Utilizing GridSearchCV\n",
    "###########################\n",
    "params = {'C':[0.0001, 0.001, 0.1, 1, 10, 100]}\n",
    "clf = LogisticRegression(solver='liblinear')\n",
    "gs_cv = GridSearchCV(clf, param_grid=params, cv = 5, scoring = f_precision)\n",
    "gs_cv.fit(X_train, y_train)\n",
    "\n",
    "print('The best parameters are: {} \\nand the best score is: {}'.format(gs_cv.best_params_, gs_cv.best_score_))"
   ]
  },
  {
   "cell_type": "code",
   "execution_count": 13,
   "metadata": {},
   "outputs": [
    {
     "name": "stdout",
     "output_type": "stream",
     "text": [
      "Training acc_score: 0.7293048454329637 \n",
      "Testing acc_score: 0.730625024929201\n"
     ]
    }
   ],
   "source": [
    "###############################\n",
    "## Initial Model using Scaled\n",
    "###############################\n",
    "clf = LogisticRegression(solver='liblinear')\n",
    "clf.fit(Xs_train, ys_train)\n",
    "\n",
    "training = clf.predict(Xs_train)\n",
    "y_pred = clf.predict(Xs_test)\n",
    "\n",
    "train_acc = fbeta_score(ys_train, training, beta = 0.5)\n",
    "test_acc = fbeta_score(ys_test, y_pred, beta = 0.5)\n",
    "\n",
    "print(\"Training acc_score: {} \\nTesting acc_score: {}\".format(train_acc, test_acc))"
   ]
  },
  {
   "cell_type": "code",
   "execution_count": 17,
   "metadata": {},
   "outputs": [
    {
     "name": "stdout",
     "output_type": "stream",
     "text": [
      "The best parameters are: {'C': 0.0001} \n",
      "and the best score is: 0.740541760558828\n"
     ]
    }
   ],
   "source": [
    "###########################\n",
    "## Utilizing GridSearchCV; scaled\n",
    "###########################\n",
    "params = {'C':[0.0001, 0.001, 0.1, 1, 10, 100]}\n",
    "clf = LogisticRegression(solver='liblinear')\n",
    "gs_cv = GridSearchCV(clf, param_grid=params, cv = 5, scoring = f_precision)\n",
    "gs_cv.fit(Xs_train, ys_train)\n",
    "\n",
    "print('The best parameters are: {} \\nand the best score is: {}'.format(gs_cv.best_params_, gs_cv.best_score_))"
   ]
  },
  {
   "cell_type": "code",
   "execution_count": 22,
   "metadata": {},
   "outputs": [
    {
     "name": "stdout",
     "output_type": "stream",
     "text": [
      "0.7387183156613875\n"
     ]
    }
   ],
   "source": [
    "#################\n",
    "## Utilizing CV, scaled\n",
    "#################\n",
    "Xs_arr = X_scale\n",
    "final = 0\n",
    "clf = LogisticRegression(solver='liblinear', C=0.0001)\n",
    "for train, test in KFold(n_splits=10).split(Xs_arr):\n",
    "    clf.fit(Xs_arr[train], y[train])\n",
    "    pred = clf.predict(Xs_arr[test])\n",
    "    acc = fbeta_score(y[test], pred, beta = 0.5)\n",
    "    final += acc\n",
    "    \n",
    "final = final / 10 # n of folds\n",
    "print(final)"
   ]
  },
  {
   "cell_type": "code",
   "execution_count": 14,
   "metadata": {},
   "outputs": [
    {
     "name": "stdout",
     "output_type": "stream",
     "text": [
      "Training acc_score: 0.7433605951424266 \n",
      "Testing acc_score: 0.7433258633016107\n"
     ]
    }
   ],
   "source": [
    "###############################\n",
    "## Initial Model using Scaled & roc_auc\n",
    "###############################\n",
    "training = clf.predict(Xs_train)\n",
    "y_pred = clf.predict(Xs_test)\n",
    "\n",
    "ra_train_acc = roc_auc_score(ys_train, training)\n",
    "ra_test_acc = roc_auc_score(ys_test, y_pred)\n",
    "\n",
    "print(\"Training acc_score: {} \\nTesting acc_score: {}\".format(ra_train_acc, ra_test_acc))"
   ]
  },
  {
   "cell_type": "code",
   "execution_count": 15,
   "metadata": {},
   "outputs": [
    {
     "name": "stdout",
     "output_type": "stream",
     "text": [
      "[0.        0.1695367 1.       ]\n",
      "[0.         0.65618843 1.        ]\n",
      "[2 1 0]\n"
     ]
    }
   ],
   "source": [
    "#####################\n",
    "## ROC Curve\n",
    "####################\n",
    "fpr, tpr, thresholds = roc_curve(ys_test, y_pred)\n",
    "print(fpr)\n",
    "print(tpr)\n",
    "print(thresholds)"
   ]
  },
  {
   "cell_type": "code",
   "execution_count": 16,
   "metadata": {},
   "outputs": [
    {
     "data": {
      "text/plain": [
       "(0, 1)"
      ]
     },
     "execution_count": 16,
     "metadata": {},
     "output_type": "execute_result"
    },
    {
     "data": {
      "image/png": "[encoded data removed]",
      "text/plain": [
       "<Figure size 432x288 with 1 Axes>"
      ]
     },
     "metadata": {
      "needs_background": "light"
     },
     "output_type": "display_data"
    }
   ],
   "source": [
    "########################\n",
    "## Using Precision/Recall graphically\n",
    "########################\n",
    "## https://stackoverflow.com/questions/28716241/controlling-the-threshold-in-logistic-regression-in-scikit-learn\n",
    "y_pred = clf.predict(Xs_test)\n",
    "y_probs = clf.predict_proba(Xs_test)\n",
    "\n",
    "from sklearn.metrics import precision_recall_curve, auc\n",
    "\n",
    "precision, recall, thresholds = precision_recall_curve(ys_test, y_probs[:,1])\n",
    "\n",
    "pr_auc = auc(recall, precision)\n",
    "\n",
    "\n",
    "plt.title(\"Precision-Recall vs Threshold Chart\")\n",
    "plt.plot(thresholds, precision[: -1], \"b--\", label=\"Precision\")\n",
    "plt.plot(thresholds, recall[: -1], \"r--\", label=\"Recall\")\n",
    "plt.ylabel(\"Precision, Recall\")\n",
    "plt.xlabel(\"Threshold\")\n",
    "plt.legend(loc=\"lower left\")\n",
    "plt.ylim([0,1])"
   ]
  },
  {
   "cell_type": "code",
   "execution_count": 14,
   "metadata": {},
   "outputs": [
    {
     "name": "stdout",
     "output_type": "stream",
     "text": [
      "The best parameters are: {'C': 0.001} \n",
      "and the best score is: 0.7457834372876232\n"
     ]
    }
   ],
   "source": [
    "###########################\n",
    "## Utilizing GridSearchCV w/ roc_auc\n",
    "###########################\n",
    "r_a = make_scorer(roc_auc_score)\n",
    "\n",
    "params = {'C':[0.0001, 0.001, 0.1, 1, 10, 100]}\n",
    "clf = LogisticRegression(solver='liblinear')\n",
    "gs_cv = GridSearchCV(clf, param_grid=params, scoring = r_a, cv = 5)\n",
    "gs_cv.fit(Xs_train, ys_train)\n",
    "\n",
    "print('The best parameters are: {} \\nand the best score is: {}'.format(gs_cv.best_params_, gs_cv.best_score_))"
   ]
  },
  {
   "cell_type": "code",
   "execution_count": 29,
   "metadata": {},
   "outputs": [
    {
     "name": "stdout",
     "output_type": "stream",
     "text": [
      "The best parameters are: {'C': 0.0001} \n",
      "and the best score is: 0.740541760558828\n"
     ]
    }
   ],
   "source": [
    "#########################\n",
    "## Utilizing GSCV w/ fbeta\n",
    "#########################\n",
    "\n",
    "\n",
    "params = {'C':[0.0001, 0.001, 0.1, 1, 10, 100]}\n",
    "clf = LogisticRegression(solver='liblinear')\n",
    "gs_cv = GridSearchCV(clf, param_grid=params, scoring = f_precision, cv = 5)\n",
    "gs_cv.fit(Xs_train, ys_train)\n",
    "\n",
    "print('The best parameters are: {} \\nand the best score is: {}'.format(gs_cv.best_params_, gs_cv.best_score_))"
   ]
  },
  {
   "cell_type": "code",
   "execution_count": 29,
   "metadata": {},
   "outputs": [
    {
     "name": "stdout",
     "output_type": "stream",
     "text": [
      "CPU times: user 622 ms, sys: 14 ms, total: 636 ms\n",
      "Wall time: 648 ms\n",
      "CPU times: user 8.98 ms, sys: 230 µs, total: 9.21 ms\n",
      "Wall time: 4.65 ms\n",
      "0.7436034115138593\n"
     ]
    }
   ],
   "source": [
    "######################\n",
    "## LogReg model using optimal C and scored by fbeta\n",
    "######################\n",
    "\n",
    "logreg = LogisticRegression(solver='liblinear', C=0.0001)\n",
    "%time logreg.fit(Xs_train, ys_train)\n",
    "\n",
    "y_pred = logreg.predict(Xs_test)\n",
    "%time y_probs = logreg.predict_proba(Xs_test)\n",
    "\n",
    "thresh = y_probs[:,1] >= .5\n",
    "\n",
    "score = fbeta_score(ys_test, thresh, beta = 0.5)\n",
    "print(score)"
   ]
  },
  {
   "cell_type": "code",
   "execution_count": 41,
   "metadata": {},
   "outputs": [
    {
     "name": "stdout",
     "output_type": "stream",
     "text": [
      "0.7440391808439384\n"
     ]
    }
   ],
   "source": [
    "## Utilize KFold to split Train set\n",
    "score = 0\n",
    "folds = 10\n",
    "logreg = LogisticRegression(solver='liblinear', C=0.0001)\n",
    "for train, test in KFold(n_splits = folds).split(Xs_train):\n",
    "    logreg.fit(Xs_train[train], ys_train[train])\n",
    "    pred = logreg.predict(Xs_test)\n",
    "    fb = fbeta_score(ys_test, pred, beta = 0.5)\n",
    "    score += fb\n",
    "\n",
    "score = score / folds\n",
    "print(score)"
   ]
  },
  {
   "cell_type": "code",
   "execution_count": 30,
   "metadata": {},
   "outputs": [
    {
     "data": {
      "text/plain": [
       "(0, 1)"
      ]
     },
     "execution_count": 30,
     "metadata": {},
     "output_type": "execute_result"
    },
    {
     "data": {
      "image/png": "[encoded data removed]",
      "text/plain": [
       "<Figure size 432x288 with 1 Axes>"
      ]
     },
     "metadata": {
      "needs_background": "light"
     },
     "output_type": "display_data"
    }
   ],
   "source": [
    "logreg = LogisticRegression(solver='liblinear', C=0.0001)\n",
    "logreg.fit(Xs_train, ys_train)\n",
    "y_pred = logreg.predict(Xs_test)\n",
    "y_probs = logreg.predict_proba(Xs_test)\n",
    "\n",
    "from sklearn.metrics import precision_recall_curve, auc\n",
    "\n",
    "precision, recall, thresholds = precision_recall_curve(ys_test, y_probs[:,1])\n",
    "\n",
    "pr_auc = auc(recall, precision)\n",
    "\n",
    "\n",
    "plt.title(\"Precision-Recall vs Threshold Chart\")\n",
    "plt.plot(thresholds, precision[: -1], \"b--\", label=\"Precision\")\n",
    "plt.plot(thresholds, recall[: -1], \"r--\", label=\"Recall\")\n",
    "plt.ylabel(\"Precision, Recall\")\n",
    "plt.xlabel(\"Threshold\")\n",
    "plt.legend(loc=\"lower left\")\n",
    "plt.ylim([0,1])"
   ]
  },
  {
   "cell_type": "code",
   "execution_count": 42,
   "metadata": {
    "scrolled": true
   },
   "outputs": [
    {
     "name": "stderr",
     "output_type": "stream",
     "text": [
      "/Users/Matt/anaconda3/lib/python3.7/site-packages/sklearn/linear_model/sag.py:334: ConvergenceWarning: The max_iter was reached which means the coef_ did not converge\n",
      "  \"the coef_ did not converge\", ConvergenceWarning)\n",
      "/Users/Matt/anaconda3/lib/python3.7/site-packages/sklearn/linear_model/sag.py:334: ConvergenceWarning: The max_iter was reached which means the coef_ did not converge\n",
      "  \"the coef_ did not converge\", ConvergenceWarning)\n",
      "/Users/Matt/anaconda3/lib/python3.7/site-packages/sklearn/linear_model/sag.py:334: ConvergenceWarning: The max_iter was reached which means the coef_ did not converge\n",
      "  \"the coef_ did not converge\", ConvergenceWarning)\n",
      "/Users/Matt/anaconda3/lib/python3.7/site-packages/sklearn/linear_model/sag.py:334: ConvergenceWarning: The max_iter was reached which means the coef_ did not converge\n",
      "  \"the coef_ did not converge\", ConvergenceWarning)\n",
      "/Users/Matt/anaconda3/lib/python3.7/site-packages/sklearn/linear_model/sag.py:334: ConvergenceWarning: The max_iter was reached which means the coef_ did not converge\n",
      "  \"the coef_ did not converge\", ConvergenceWarning)\n",
      "/Users/Matt/anaconda3/lib/python3.7/site-packages/sklearn/linear_model/sag.py:334: ConvergenceWarning: The max_iter was reached which means the coef_ did not converge\n",
      "  \"the coef_ did not converge\", ConvergenceWarning)\n",
      "/Users/Matt/anaconda3/lib/python3.7/site-packages/sklearn/linear_model/sag.py:334: ConvergenceWarning: The max_iter was reached which means the coef_ did not converge\n",
      "  \"the coef_ did not converge\", ConvergenceWarning)\n",
      "/Users/Matt/anaconda3/lib/python3.7/site-packages/sklearn/linear_model/sag.py:334: ConvergenceWarning: The max_iter was reached which means the coef_ did not converge\n",
      "  \"the coef_ did not converge\", ConvergenceWarning)\n",
      "/Users/Matt/anaconda3/lib/python3.7/site-packages/sklearn/linear_model/sag.py:334: ConvergenceWarning: The max_iter was reached which means the coef_ did not converge\n",
      "  \"the coef_ did not converge\", ConvergenceWarning)\n",
      "/Users/Matt/anaconda3/lib/python3.7/site-packages/sklearn/linear_model/sag.py:334: ConvergenceWarning: The max_iter was reached which means the coef_ did not converge\n",
      "  \"the coef_ did not converge\", ConvergenceWarning)\n",
      "/Users/Matt/anaconda3/lib/python3.7/site-packages/sklearn/linear_model/sag.py:334: ConvergenceWarning: The max_iter was reached which means the coef_ did not converge\n",
      "  \"the coef_ did not converge\", ConvergenceWarning)\n",
      "/Users/Matt/anaconda3/lib/python3.7/site-packages/sklearn/linear_model/sag.py:334: ConvergenceWarning: The max_iter was reached which means the coef_ did not converge\n",
      "  \"the coef_ did not converge\", ConvergenceWarning)\n",
      "/Users/Matt/anaconda3/lib/python3.7/site-packages/sklearn/linear_model/sag.py:334: ConvergenceWarning: The max_iter was reached which means the coef_ did not converge\n",
      "  \"the coef_ did not converge\", ConvergenceWarning)\n",
      "/Users/Matt/anaconda3/lib/python3.7/site-packages/sklearn/linear_model/sag.py:334: ConvergenceWarning: The max_iter was reached which means the coef_ did not converge\n",
      "  \"the coef_ did not converge\", ConvergenceWarning)\n",
      "/Users/Matt/anaconda3/lib/python3.7/site-packages/sklearn/linear_model/sag.py:334: ConvergenceWarning: The max_iter was reached which means the coef_ did not converge\n",
      "  \"the coef_ did not converge\", ConvergenceWarning)\n",
      "/Users/Matt/anaconda3/lib/python3.7/site-packages/sklearn/linear_model/sag.py:334: ConvergenceWarning: The max_iter was reached which means the coef_ did not converge\n",
      "  \"the coef_ did not converge\", ConvergenceWarning)\n",
      "/Users/Matt/anaconda3/lib/python3.7/site-packages/sklearn/linear_model/sag.py:334: ConvergenceWarning: The max_iter was reached which means the coef_ did not converge\n",
      "  \"the coef_ did not converge\", ConvergenceWarning)\n",
      "/Users/Matt/anaconda3/lib/python3.7/site-packages/sklearn/linear_model/sag.py:334: ConvergenceWarning: The max_iter was reached which means the coef_ did not converge\n",
      "  \"the coef_ did not converge\", ConvergenceWarning)\n",
      "/Users/Matt/anaconda3/lib/python3.7/site-packages/sklearn/linear_model/sag.py:334: ConvergenceWarning: The max_iter was reached which means the coef_ did not converge\n",
      "  \"the coef_ did not converge\", ConvergenceWarning)\n",
      "/Users/Matt/anaconda3/lib/python3.7/site-packages/sklearn/linear_model/sag.py:334: ConvergenceWarning: The max_iter was reached which means the coef_ did not converge\n",
      "  \"the coef_ did not converge\", ConvergenceWarning)\n",
      "/Users/Matt/anaconda3/lib/python3.7/site-packages/sklearn/linear_model/sag.py:334: ConvergenceWarning: The max_iter was reached which means the coef_ did not converge\n",
      "  \"the coef_ did not converge\", ConvergenceWarning)\n",
      "/Users/Matt/anaconda3/lib/python3.7/site-packages/sklearn/linear_model/sag.py:334: ConvergenceWarning: The max_iter was reached which means the coef_ did not converge\n",
      "  \"the coef_ did not converge\", ConvergenceWarning)\n",
      "/Users/Matt/anaconda3/lib/python3.7/site-packages/sklearn/linear_model/sag.py:334: ConvergenceWarning: The max_iter was reached which means the coef_ did not converge\n",
      "  \"the coef_ did not converge\", ConvergenceWarning)\n",
      "/Users/Matt/anaconda3/lib/python3.7/site-packages/sklearn/linear_model/sag.py:334: ConvergenceWarning: The max_iter was reached which means the coef_ did not converge\n",
      "  \"the coef_ did not converge\", ConvergenceWarning)\n",
      "/Users/Matt/anaconda3/lib/python3.7/site-packages/sklearn/linear_model/sag.py:334: ConvergenceWarning: The max_iter was reached which means the coef_ did not converge\n",
      "  \"the coef_ did not converge\", ConvergenceWarning)\n"
     ]
    },
    {
     "name": "stdout",
     "output_type": "stream",
     "text": [
      "The best parameters are: {'C': 1} \n",
      "and the best score is: 0.6440126836807439\n"
     ]
    },
    {
     "name": "stderr",
     "output_type": "stream",
     "text": [
      "/Users/Matt/anaconda3/lib/python3.7/site-packages/sklearn/linear_model/sag.py:334: ConvergenceWarning: The max_iter was reached which means the coef_ did not converge\n",
      "  \"the coef_ did not converge\", ConvergenceWarning)\n"
     ]
    }
   ],
   "source": [
    "#########################\n",
    "## Utilizing GSCV w/ fbeta 2\n",
    "#########################\n",
    "\n",
    "\n",
    "params = {'C':[0.0001, 0.001, 0.1, 1, 10, 100]}\n",
    "clf = LogisticRegression(solver='saga', max_iter = 4000)\n",
    "gs_cv = GridSearchCV(clf, param_grid=params, scoring = f_recall, cv = 5)\n",
    "gs_cv.fit(Xs_train, ys_train)\n",
    "\n",
    "print('The best parameters are: {} \\nand the best score is: {}'.format(gs_cv.best_params_, gs_cv.best_score_))"
   ]
  },
  {
   "cell_type": "code",
   "execution_count": 41,
   "metadata": {},
   "outputs": [
    {
     "name": "stdout",
     "output_type": "stream",
     "text": [
      "CPU times: user 1.26 s, sys: 13.6 ms, total: 1.27 s\n",
      "Wall time: 1.28 s\n",
      "CPU times: user 8.42 ms, sys: 136 µs, total: 8.56 ms\n",
      "Wall time: 4.3 ms\n",
      "0.6732015330741445\n"
     ]
    }
   ],
   "source": [
    "######################\n",
    "## LogReg model using optimal C and scored by fbeta\n",
    "######################\n",
    "\n",
    "logreg = LogisticRegression(solver='liblinear', C=0.1)\n",
    "%time logreg.fit(Xs_train, ys_train)\n",
    "\n",
    "y_pred = logreg.predict(Xs_test)\n",
    "%time y_probs = logreg.predict_proba(Xs_test)\n",
    "\n",
    "thresh = y_probs[:,1] >= .5\n",
    "\n",
    "score = fbeta_score(ys_test, thresh, beta = 2)\n",
    "print(score)"
   ]
  },
  {
   "cell_type": "markdown",
   "metadata": {},
   "source": [
    "# SVM"
   ]
  },
  {
   "cell_type": "code",
   "execution_count": 9,
   "metadata": {},
   "outputs": [],
   "source": [
    "from sklearn.svm import LinearSVC"
   ]
  },
  {
   "cell_type": "code",
   "execution_count": 10,
   "metadata": {},
   "outputs": [
    {
     "name": "stdout",
     "output_type": "stream",
     "text": [
      "CPU times: user 32.2 s, sys: 283 ms, total: 32.5 s\n",
      "Wall time: 34.9 s\n",
      "CPU times: user 9.99 ms, sys: 561 µs, total: 10.6 ms\n",
      "Wall time: 7.75 ms\n",
      "0.7284853346497183\n"
     ]
    },
    {
     "name": "stderr",
     "output_type": "stream",
     "text": [
      "/Users/Matt/anaconda3/lib/python3.7/site-packages/sklearn/svm/base.py:931: ConvergenceWarning: Liblinear failed to converge, increase the number of iterations.\n",
      "  \"the number of iterations.\", ConvergenceWarning)\n"
     ]
    }
   ],
   "source": [
    "######################\n",
    "## Initial SVM Model\n",
    "######################\n",
    "svc = LinearSVC()\n",
    "%time svc.fit(Xs_train, ys_train)\n",
    "%time y_pred = svc.predict(Xs_test)\n",
    "\n",
    "score = fbeta_score(ys_test, y_pred, beta = 0.5)\n",
    "print(score)"
   ]
  },
  {
   "cell_type": "code",
   "execution_count": 137,
   "metadata": {},
   "outputs": [
    {
     "name": "stdout",
     "output_type": "stream",
     "text": [
      "0.7409795812070217\n"
     ]
    },
    {
     "name": "stderr",
     "output_type": "stream",
     "text": [
      "/Users/Matt/anaconda3/lib/python3.7/site-packages/sklearn/svm/base.py:931: ConvergenceWarning: Liblinear failed to converge, increase the number of iterations.\n",
      "  \"the number of iterations.\", ConvergenceWarning)\n"
     ]
    }
   ],
   "source": [
    "######################\n",
    "## Initial SVM Model, adjusting max_iter\n",
    "######################\n",
    "svc = LinearSVC(max_iter = 2000)\n",
    "svc.fit(Xs_train, ys_train)\n",
    "y_pred = svc.predict(Xs_test)\n",
    "\n",
    "score = fbeta_score(ys_test, y_pred, beta = 0.5)\n",
    "print(score)"
   ]
  },
  {
   "cell_type": "code",
   "execution_count": 138,
   "metadata": {},
   "outputs": [
    {
     "name": "stdout",
     "output_type": "stream",
     "text": [
      "0.740694812160143\n"
     ]
    },
    {
     "name": "stderr",
     "output_type": "stream",
     "text": [
      "/Users/Matt/anaconda3/lib/python3.7/site-packages/sklearn/svm/base.py:931: ConvergenceWarning: Liblinear failed to converge, increase the number of iterations.\n",
      "  \"the number of iterations.\", ConvergenceWarning)\n"
     ]
    }
   ],
   "source": [
    "######################\n",
    "## Initial SVM Model, adjusting max_iter, 4000\n",
    "######################\n",
    "svc = LinearSVC(max_iter = 4000)\n",
    "svc.fit(Xs_train, ys_train)\n",
    "y_pred = svc.predict(Xs_test)\n",
    "\n",
    "score = fbeta_score(ys_test, y_pred, beta = 0.5)\n",
    "print(score)"
   ]
  },
  {
   "cell_type": "markdown",
   "metadata": {},
   "source": [
    "# KNN"
   ]
  },
  {
   "cell_type": "markdown",
   "metadata": {},
   "source": [
    "We'll be using the same scoring system as before: fbeta with a beta of 0.5 to put more weight into precision. "
   ]
  },
  {
   "cell_type": "code",
   "execution_count": 42,
   "metadata": {},
   "outputs": [],
   "source": [
    "from sklearn.neighbors import KNeighborsClassifier"
   ]
  },
  {
   "cell_type": "code",
   "execution_count": null,
   "metadata": {},
   "outputs": [
    {
     "name": "stdout",
     "output_type": "stream",
     "text": [
      "CPU times: user 994 ms, sys: 33.7 ms, total: 1.03 s\n",
      "Wall time: 1.05 s\n"
     ]
    }
   ],
   "source": [
    "######################\n",
    "## Base KNN classifier\n",
    "######################\n",
    "clf = KNeighborsClassifier()\n",
    "%time clf.fit(Xs_train, ys_train)\n",
    "train_pred = clf.predict(Xs_train)\n",
    "%time y_pred = clf.predict(Xs_test)\n",
    "\n",
    "train_score = fbeta_score(ys_train, train_pred, beta = 0.5)\n",
    "score = fbeta_score(ys_test, y_pred, beta = 0.5)\n",
    "\n",
    "print(\"Score on training: {} \\nScore on testing: {}\".format(train_score, score))"
   ]
  },
  {
   "cell_type": "markdown",
   "metadata": {},
   "source": [
    "# Random Forest"
   ]
  },
  {
   "cell_type": "code",
   "execution_count": 13,
   "metadata": {},
   "outputs": [],
   "source": [
    "from sklearn.ensemble import RandomForestClassifier"
   ]
  },
  {
   "cell_type": "code",
   "execution_count": 16,
   "metadata": {},
   "outputs": [
    {
     "name": "stderr",
     "output_type": "stream",
     "text": [
      "/Users/Matt/anaconda3/lib/python3.7/site-packages/sklearn/ensemble/forest.py:246: FutureWarning: The default value of n_estimators will change from 10 in version 0.20 to 100 in 0.22.\n",
      "  \"10 in version 0.20 to 100 in 0.22.\", FutureWarning)\n"
     ]
    },
    {
     "name": "stdout",
     "output_type": "stream",
     "text": [
      "CPU times: user 2.24 s, sys: 90.5 ms, total: 2.33 s\n",
      "Wall time: 2.38 s\n",
      "CPU times: user 245 ms, sys: 8.88 ms, total: 254 ms\n",
      "Wall time: 263 ms\n",
      "RF Score on training: 0.9911022551972377 \n",
      "RF Score on testing: 0.7454936907623696\n"
     ]
    }
   ],
   "source": [
    "######################\n",
    "## Base RF classifier\n",
    "######################\n",
    "clf = RandomForestClassifier()\n",
    "%time clf.fit(X_train, y_train)\n",
    "train_pred = clf.predict(X_train)\n",
    "%time y_pred = clf.predict(X_test)\n",
    "\n",
    "train_score = fbeta_score(y_train, train_pred, beta = 0.5)\n",
    "score = fbeta_score(y_test, y_pred, beta = 0.5)\n",
    "\n",
    "print(\"RF Score on training: {} \\nRF Score on testing: {}\".format(train_score, score))\n"
   ]
  },
  {
   "cell_type": "code",
   "execution_count": 17,
   "metadata": {},
   "outputs": [
    {
     "name": "stdout",
     "output_type": "stream",
     "text": [
      "CPU times: user 22.5 s, sys: 338 ms, total: 22.8 s\n",
      "Wall time: 23.1 s\n",
      "CPU times: user 2.21 s, sys: 16.1 ms, total: 2.23 s\n",
      "Wall time: 2.24 s\n",
      "RF Score on training: 0.9999955043248394 \n",
      "RF Score on testing: 0.7738165228229429\n"
     ]
    }
   ],
   "source": [
    "######################\n",
    "## RF with changing estimators\n",
    "######################\n",
    "clf = RandomForestClassifier(n_estimators = 100) ##Setting to default in future sklearn versions\n",
    "%time clf.fit(X_train, y_train)\n",
    "train_pred = clf.predict(X_train)\n",
    "%time y_pred = clf.predict(X_test)\n",
    "\n",
    "train_score = fbeta_score(y_train, train_pred, beta = 0.5)\n",
    "score = fbeta_score(y_test, y_pred, beta = 0.5)\n",
    "\n",
    "print(\"RF Score on training: {} \\nRF Score on testing: {}\".format(train_score, score))"
   ]
  },
  {
   "cell_type": "code",
   "execution_count": 9,
   "metadata": {},
   "outputs": [],
   "source": [
    "from sklearn.model_selection import RandomizedSearchCV"
   ]
  },
  {
   "cell_type": "code",
   "execution_count": 10,
   "metadata": {},
   "outputs": [],
   "source": [
    "######################\n",
    "## RF utilizing RandomSearch for hyperparameter tuning\n",
    "######################\n",
    "n_estimators = [int(x) for x in np.linspace(start = 100, stop = 500, num = 5)]\n",
    "max_features = ['auto', 'sqrt']\n",
    "max_depth = [int(x) for x in np.linspace(10, 30, num = 10)]\n",
    "max_depth.append(None)\n",
    "min_samples_split = [2, 5, 10]\n",
    "min_samples_leaf = [1, 2, 4]\n",
    "bootstrap = [True, False]\n",
    "\n",
    "params = {'n_estimators': n_estimators,\n",
    "               'max_features': max_features,\n",
    "               'max_depth': max_depth,\n",
    "               'min_samples_split': min_samples_split,\n",
    "               'min_samples_leaf': min_samples_leaf,\n",
    "               'bootstrap': bootstrap}"
   ]
  },
  {
   "cell_type": "code",
   "execution_count": 11,
   "metadata": {},
   "outputs": [
    {
     "name": "stdout",
     "output_type": "stream",
     "text": [
      "{'bootstrap': [True, False],\n",
      " 'max_depth': [10, 12, 14, 16, 18, 21, 23, 25, 27, 30, None],\n",
      " 'max_features': ['auto', 'sqrt'],\n",
      " 'min_samples_leaf': [1, 2, 4],\n",
      " 'min_samples_split': [2, 5, 10],\n",
      " 'n_estimators': [100, 200, 300, 400, 500]}\n"
     ]
    }
   ],
   "source": [
    "pprint(params)"
   ]
  },
  {
   "cell_type": "code",
   "execution_count": 16,
   "metadata": {},
   "outputs": [
    {
     "name": "stdout",
     "output_type": "stream",
     "text": [
      "CPU times: user 21 µs, sys: 3 µs, total: 24 µs\n",
      "Wall time: 27.2 µs\n"
     ]
    }
   ],
   "source": [
    "clf = RandomForestClassifier()\n",
    "\n",
    "rf_random = RandomizedSearchCV(estimator=clf,param_distributions=params, \n",
    "                               cv = 3,scoring=f_precision, n_jobs = -1, verbose=3)\n",
    "##f_precision made using make_scorer"
   ]
  },
  {
   "cell_type": "code",
   "execution_count": 17,
   "metadata": {},
   "outputs": [
    {
     "name": "stdout",
     "output_type": "stream",
     "text": [
      "Fitting 3 folds for each of 10 candidates, totalling 30 fits\n"
     ]
    },
    {
     "name": "stderr",
     "output_type": "stream",
     "text": [
      "[Parallel(n_jobs=-1)]: Using backend LokyBackend with 4 concurrent workers.\n",
      "[Parallel(n_jobs=-1)]: Done  30 out of  30 | elapsed: 21.7min finished\n"
     ]
    },
    {
     "data": {
      "text/plain": [
       "RandomizedSearchCV(cv=3, error_score='raise-deprecating',\n",
       "          estimator=RandomForestClassifier(bootstrap=True, class_weight=None, criterion='gini',\n",
       "            max_depth=None, max_features='auto', max_leaf_nodes=None,\n",
       "            min_impurity_decrease=0.0, min_impurity_split=None,\n",
       "            min_samples_leaf=1, min_samples_split=2,\n",
       "            min_weight_fraction_leaf=0.0, n_estimators='warn', n_jobs=None,\n",
       "            oob_score=False, random_state=None, verbose=0,\n",
       "            warm_start=False),\n",
       "          fit_params=None, iid='warn', n_iter=10, n_jobs=-1,\n",
       "          param_distributions={'n_estimators': [100, 200, 300, 400, 500], 'max_features': ['auto', 'sqrt'], 'max_depth': [10, 12, 14, 16, 18, 21, 23, 25, 27, 30, None], 'min_samples_split': [2, 5, 10], 'min_samples_leaf': [1, 2, 4], 'bootstrap': [True, False]},\n",
       "          pre_dispatch='2*n_jobs', random_state=None, refit=True,\n",
       "          return_train_score='warn',\n",
       "          scoring=make_scorer(fbeta_score, beta=0.5), verbose=3)"
      ]
     },
     "execution_count": 17,
     "metadata": {},
     "output_type": "execute_result"
    }
   ],
   "source": [
    "rf_random.fit(X_train, y_train)"
   ]
  },
  {
   "cell_type": "code",
   "execution_count": 18,
   "metadata": {},
   "outputs": [
    {
     "data": {
      "text/plain": [
       "{'n_estimators': 500,\n",
       " 'min_samples_split': 2,\n",
       " 'min_samples_leaf': 2,\n",
       " 'max_features': 'sqrt',\n",
       " 'max_depth': 30,\n",
       " 'bootstrap': True}"
      ]
     },
     "execution_count": 18,
     "metadata": {},
     "output_type": "execute_result"
    }
   ],
   "source": [
    "rf_random.best_params_"
   ]
  },
  {
   "cell_type": "code",
   "execution_count": 1,
   "metadata": {},
   "outputs": [
    {
     "data": {
      "text/plain": [
       "{'n_estimators': 500,\n",
       " 'min_samples_split': 2,\n",
       " 'min_samples_leaf': 2,\n",
       " 'max_features': 'sqrt',\n",
       " 'max_depth': 30,\n",
       " 'bootstrap': True}"
      ]
     },
     "execution_count": 1,
     "metadata": {},
     "output_type": "execute_result"
    }
   ],
   "source": [
    "{'n_estimators': 500,\n",
    " 'min_samples_split': 2,\n",
    " 'min_samples_leaf': 2,\n",
    " 'max_features': 'sqrt',\n",
    " 'max_depth': 30,\n",
    " 'bootstrap': True}"
   ]
  },
  {
   "cell_type": "code",
   "execution_count": 18,
   "metadata": {},
   "outputs": [
    {
     "name": "stdout",
     "output_type": "stream",
     "text": [
      "CPU times: user 1min 47s, sys: 1.55 s, total: 1min 48s\n",
      "Wall time: 1min 53s\n",
      "CPU times: user 9.6 s, sys: 155 ms, total: 9.75 s\n",
      "Wall time: 9.96 s\n",
      "RF Score on training: 0.9573206299825004 \n",
      "RF Score on testing: 0.7772043078226357\n"
     ]
    }
   ],
   "source": [
    "######################\n",
    "## RF with optimized hyperparameters\n",
    "######################\n",
    "clf = RandomForestClassifier(n_estimators = 500, min_samples_split = 2, min_samples_leaf = 2, \n",
    "                            max_features = 'sqrt', max_depth = 30, bootstrap = True) \n",
    "%time clf.fit(X_train, y_train)\n",
    "train_pred = clf.predict(X_train)\n",
    "%time y_pred = clf.predict(X_test)\n",
    "\n",
    "train_score = fbeta_score(y_train, train_pred, beta = 0.5)\n",
    "score = fbeta_score(y_test, y_pred, beta = 0.5)\n",
    "\n",
    "print(\"RF Score on training: {} \\nRF Score on testing: {}\".format(train_score, score))"
   ]
  },
  {
   "cell_type": "code",
   "execution_count": 26,
   "metadata": {},
   "outputs": [
    {
     "name": "stdout",
     "output_type": "stream",
     "text": [
      "0.7762956569500569\n",
      "1.5526802330280414\n",
      "2.328945934606211\n",
      "3.1056066336751096\n",
      "3.882348371760435\n",
      "0.7764696743520869\n"
     ]
    }
   ],
   "source": [
    "## RF: Utilize KFold to split Train set\n",
    "score = 0\n",
    "folds = 5\n",
    "rf = RandomForestClassifier(n_estimators = 500, min_samples_split = 2, min_samples_leaf = 2, \n",
    "                            max_features = 'sqrt', max_depth = 30, bootstrap = True) \n",
    "for train, test in KFold(n_splits = folds).split(X_train.values):\n",
    "    rf.fit(X_train.values[train], y_train[train])\n",
    "    pred = rf.predict(X_test.values)\n",
    "    fb = fbeta_score(y_test, pred, beta = 0.5)\n",
    "    score += fb\n",
    "    print(score)\n",
    "\n",
    "score = score / folds\n",
    "print(score)"
   ]
  },
  {
   "cell_type": "code",
   "execution_count": null,
   "metadata": {},
   "outputs": [],
   "source": []
  }
 ],
 "metadata": {
  "kernelspec": {
   "display_name": "Python 3",
   "language": "python",
   "name": "python3"
  },
  "language_info": {
   "codemirror_mode": {
    "name": "ipython",
    "version": 3
   },
   "file_extension": ".py",
   "mimetype": "text/x-python",
   "name": "python",
   "nbconvert_exporter": "python",
   "pygments_lexer": "ipython3",
   "version": "3.7.3"
  }
 },
 "nbformat": 4,
 "nbformat_minor": 2
}
