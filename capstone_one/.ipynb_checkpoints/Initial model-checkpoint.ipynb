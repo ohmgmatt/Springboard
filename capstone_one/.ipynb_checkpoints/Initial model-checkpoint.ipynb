{
 "cells": [
  {
   "cell_type": "code",
   "execution_count": 61,
   "metadata": {},
   "outputs": [],
   "source": [
    "import pandas as pd\n",
    "import numpy as np\n",
    "import seaborn as sns\n",
    "\n",
    "from sklearn.model_selection import train_test_split\n",
    "from sklearn.linear_model import LogisticRegression\n",
    "from sklearn.metrics import accuracy_score\n",
    "\n",
    "from sklearn.model_selection import KFold\n",
    "from sklearn.model_selection import GridSearchCV\n",
    "\n",
    "from sklearn.pipeline import Pipeline"
   ]
  },
  {
   "cell_type": "code",
   "execution_count": 62,
   "metadata": {},
   "outputs": [],
   "source": [
    "df = pd.read_pickle('kickstarter_analysis.pkl')\n",
    "df = df.dropna()"
   ]
  },
  {
   "cell_type": "code",
   "execution_count": 63,
   "metadata": {},
   "outputs": [],
   "source": [
    "## Selecting Features\n",
    "features=['country','spotlight', 'staff_pick','img_count', 'vid_count',\n",
    "          'usd_goal', 'description_len', 'blurb_len', 'slug_len', 'med_rewards','category_core']\n",
    "dependent=['reach_goal']"
   ]
  },
  {
   "cell_type": "code",
   "execution_count": 64,
   "metadata": {},
   "outputs": [],
   "source": [
    "X=df[features]\n",
    "y=df[dependent]\n",
    "\n",
    "## Getting dummy variables\n",
    "X = pd.get_dummies(X, drop_first = True)"
   ]
  },
  {
   "cell_type": "code",
   "execution_count": 65,
   "metadata": {},
   "outputs": [],
   "source": [
    "## To an array\n",
    "X = X.values\n",
    "y = y.values.ravel()"
   ]
  },
  {
   "cell_type": "code",
   "execution_count": 66,
   "metadata": {},
   "outputs": [],
   "source": [
    "## split into train test\n",
    "X_train, X_test, y_train, y_test = train_test_split(X, y, \n",
    "                                                   test_size = 0.3, random_state = 42)"
   ]
  },
  {
   "cell_type": "code",
   "execution_count": 67,
   "metadata": {},
   "outputs": [
    {
     "name": "stdout",
     "output_type": "stream",
     "text": [
      "0.7022912774117416\n"
     ]
    }
   ],
   "source": [
    "## Initial Model\n",
    "clf = LogisticRegression(solver='liblinear')\n",
    "clf.fit(X_train, y_train)\n",
    "\n",
    "y_pred = clf.predict(X_test)\n",
    "\n",
    "print(accuracy_score(y_test, y_pred))"
   ]
  },
  {
   "cell_type": "code",
   "execution_count": 68,
   "metadata": {},
   "outputs": [
    {
     "name": "stdout",
     "output_type": "stream",
     "text": [
      "0.7067635428751593\n"
     ]
    }
   ],
   "source": [
    "## Utilizing CV\n",
    "final = 0\n",
    "clf = LogisticRegression(solver='liblinear')\n",
    "for train, test in KFold(n_splits=5).split(X):\n",
    "    clf.fit(X[train], y[train])\n",
    "    pred = clf.predict(X[test])\n",
    "    acc = accuracy_score(y[test], pred)\n",
    "    final += acc\n",
    "    \n",
    "final = final / 5 # n of folds\n",
    "print(final)"
   ]
  },
  {
   "cell_type": "code",
   "execution_count": 80,
   "metadata": {},
   "outputs": [
    {
     "name": "stdout",
     "output_type": "stream",
     "text": [
      "The best parameters are: {'C': 0.0001} \n",
      "and the best score is: 0.7707694123200378\n"
     ]
    }
   ],
   "source": [
    "## Utilizing GridSearchCV\n",
    "params = {'C':[0.0001, 0.001, 0.1, 1, 10, 100]}\n",
    "clf = LogisticRegression(solver='liblinear')\n",
    "gs_cv = GridSearchCV(clf, param_grid=params, cv = 5)\n",
    "gs_cv.fit(X_train, y_train)\n",
    "\n",
    "print('The best parameters are: {} \\nand the best score is: {}'.format(gs_cv.best_params_, gs_cv.best_score_))"
   ]
  },
  {
   "cell_type": "code",
   "execution_count": 90,
   "metadata": {},
   "outputs": [
    {
     "name": "stdout",
     "output_type": "stream",
     "text": [
      "0.687579899695152\n",
      "5000\n"
     ]
    },
    {
     "name": "stderr",
     "output_type": "stream",
     "text": [
      "/Users/Matt/anaconda3/lib/python3.7/site-packages/sklearn/linear_model/sag.py:334: ConvergenceWarning: The max_iter was reached which means the coef_ did not converge\n",
      "  \"the coef_ did not converge\", ConvergenceWarning)\n"
     ]
    }
   ],
   "source": [
    "## Initial Model\n",
    "iters = 5000\n",
    "xclf = LogisticRegression(solver='saga', max_iter = iters)\n",
    "xclf.fit(X_train, y_train)\n",
    "\n",
    "y_pred = xclf.predict(X_test)\n",
    "\n",
    "print(accuracy_score(y_test, y_pred))\n",
    "print(iters)"
   ]
  },
  {
   "cell_type": "code",
   "execution_count": 91,
   "metadata": {},
   "outputs": [
    {
     "data": {
      "text/html": [
       "<div>\n",
       "<style scoped>\n",
       "    .dataframe tbody tr th:only-of-type {\n",
       "        vertical-align: middle;\n",
       "    }\n",
       "\n",
       "    .dataframe tbody tr th {\n",
       "        vertical-align: top;\n",
       "    }\n",
       "\n",
       "    .dataframe thead th {\n",
       "        text-align: right;\n",
       "    }\n",
       "</style>\n",
       "<table border=\"1\" class=\"dataframe\">\n",
       "  <thead>\n",
       "    <tr style=\"text-align: right;\">\n",
       "      <th></th>\n",
       "      <th>spotlight</th>\n",
       "      <th>staff_pick</th>\n",
       "      <th>usd_pledged</th>\n",
       "      <th>img_count</th>\n",
       "      <th>vid_count</th>\n",
       "      <th>usd_goal</th>\n",
       "      <th>percent_goal</th>\n",
       "      <th>reach_goal</th>\n",
       "      <th>description_len</th>\n",
       "      <th>blurb_len</th>\n",
       "      <th>slug_len</th>\n",
       "      <th>med_rewards</th>\n",
       "      <th>reward_len</th>\n",
       "    </tr>\n",
       "  </thead>\n",
       "  <tbody>\n",
       "    <tr>\n",
       "      <th>count</th>\n",
       "      <td>169481.000000</td>\n",
       "      <td>169481.000000</td>\n",
       "      <td>1.694810e+05</td>\n",
       "      <td>169481.000000</td>\n",
       "      <td>169481.000000</td>\n",
       "      <td>1.694810e+05</td>\n",
       "      <td>1.694810e+05</td>\n",
       "      <td>169481.000000</td>\n",
       "      <td>169481.000000</td>\n",
       "      <td>169481.000000</td>\n",
       "      <td>169481.000000</td>\n",
       "      <td>169481.000000</td>\n",
       "      <td>169481.000000</td>\n",
       "    </tr>\n",
       "    <tr>\n",
       "      <th>mean</th>\n",
       "      <td>0.562588</td>\n",
       "      <td>0.128115</td>\n",
       "      <td>1.207902e+04</td>\n",
       "      <td>6.766233</td>\n",
       "      <td>0.116644</td>\n",
       "      <td>4.088842e+04</td>\n",
       "      <td>4.711358e+02</td>\n",
       "      <td>0.562588</td>\n",
       "      <td>3189.024192</td>\n",
       "      <td>112.576548</td>\n",
       "      <td>32.272803</td>\n",
       "      <td>127.086065</td>\n",
       "      <td>8.122651</td>\n",
       "    </tr>\n",
       "    <tr>\n",
       "      <th>std</th>\n",
       "      <td>0.496069</td>\n",
       "      <td>0.334218</td>\n",
       "      <td>8.276108e+04</td>\n",
       "      <td>11.397260</td>\n",
       "      <td>0.603345</td>\n",
       "      <td>1.108715e+06</td>\n",
       "      <td>2.526366e+04</td>\n",
       "      <td>0.496069</td>\n",
       "      <td>3139.806469</td>\n",
       "      <td>26.497262</td>\n",
       "      <td>13.665054</td>\n",
       "      <td>415.662633</td>\n",
       "      <td>6.181222</td>\n",
       "    </tr>\n",
       "    <tr>\n",
       "      <th>min</th>\n",
       "      <td>0.000000</td>\n",
       "      <td>0.000000</td>\n",
       "      <td>0.000000e+00</td>\n",
       "      <td>0.000000</td>\n",
       "      <td>0.000000</td>\n",
       "      <td>7.167626e-01</td>\n",
       "      <td>0.000000e+00</td>\n",
       "      <td>0.000000</td>\n",
       "      <td>1.000000</td>\n",
       "      <td>1.000000</td>\n",
       "      <td>1.000000</td>\n",
       "      <td>0.000000</td>\n",
       "      <td>1.000000</td>\n",
       "    </tr>\n",
       "    <tr>\n",
       "      <th>25%</th>\n",
       "      <td>0.000000</td>\n",
       "      <td>0.000000</td>\n",
       "      <td>1.000000e+02</td>\n",
       "      <td>0.000000</td>\n",
       "      <td>0.000000</td>\n",
       "      <td>1.500000e+03</td>\n",
       "      <td>2.000000e+00</td>\n",
       "      <td>0.000000</td>\n",
       "      <td>1147.000000</td>\n",
       "      <td>101.000000</td>\n",
       "      <td>21.000000</td>\n",
       "      <td>30.000000</td>\n",
       "      <td>4.000000</td>\n",
       "    </tr>\n",
       "    <tr>\n",
       "      <th>50%</th>\n",
       "      <td>1.000000</td>\n",
       "      <td>0.000000</td>\n",
       "      <td>1.475000e+03</td>\n",
       "      <td>2.000000</td>\n",
       "      <td>0.000000</td>\n",
       "      <td>5.000000e+03</td>\n",
       "      <td>1.013583e+02</td>\n",
       "      <td>1.000000</td>\n",
       "      <td>2205.000000</td>\n",
       "      <td>124.000000</td>\n",
       "      <td>32.000000</td>\n",
       "      <td>56.835000</td>\n",
       "      <td>7.000000</td>\n",
       "    </tr>\n",
       "    <tr>\n",
       "      <th>75%</th>\n",
       "      <td>1.000000</td>\n",
       "      <td>0.000000</td>\n",
       "      <td>6.260000e+03</td>\n",
       "      <td>9.000000</td>\n",
       "      <td>0.000000</td>\n",
       "      <td>1.321912e+04</td>\n",
       "      <td>1.229000e+02</td>\n",
       "      <td>1.000000</td>\n",
       "      <td>4140.000000</td>\n",
       "      <td>132.000000</td>\n",
       "      <td>46.000000</td>\n",
       "      <td>100.000000</td>\n",
       "      <td>11.000000</td>\n",
       "    </tr>\n",
       "    <tr>\n",
       "      <th>max</th>\n",
       "      <td>1.000000</td>\n",
       "      <td>1.000000</td>\n",
       "      <td>8.596475e+06</td>\n",
       "      <td>205.000000</td>\n",
       "      <td>28.000000</td>\n",
       "      <td>1.523501e+08</td>\n",
       "      <td>6.876410e+06</td>\n",
       "      <td>1.000000</td>\n",
       "      <td>60430.000000</td>\n",
       "      <td>196.000000</td>\n",
       "      <td>53.000000</td>\n",
       "      <td>11201.630000</td>\n",
       "      <td>253.000000</td>\n",
       "    </tr>\n",
       "  </tbody>\n",
       "</table>\n",
       "</div>"
      ],
      "text/plain": [
       "           spotlight     staff_pick   usd_pledged      img_count  \\\n",
       "count  169481.000000  169481.000000  1.694810e+05  169481.000000   \n",
       "mean        0.562588       0.128115  1.207902e+04       6.766233   \n",
       "std         0.496069       0.334218  8.276108e+04      11.397260   \n",
       "min         0.000000       0.000000  0.000000e+00       0.000000   \n",
       "25%         0.000000       0.000000  1.000000e+02       0.000000   \n",
       "50%         1.000000       0.000000  1.475000e+03       2.000000   \n",
       "75%         1.000000       0.000000  6.260000e+03       9.000000   \n",
       "max         1.000000       1.000000  8.596475e+06     205.000000   \n",
       "\n",
       "           vid_count      usd_goal  percent_goal     reach_goal  \\\n",
       "count  169481.000000  1.694810e+05  1.694810e+05  169481.000000   \n",
       "mean        0.116644  4.088842e+04  4.711358e+02       0.562588   \n",
       "std         0.603345  1.108715e+06  2.526366e+04       0.496069   \n",
       "min         0.000000  7.167626e-01  0.000000e+00       0.000000   \n",
       "25%         0.000000  1.500000e+03  2.000000e+00       0.000000   \n",
       "50%         0.000000  5.000000e+03  1.013583e+02       1.000000   \n",
       "75%         0.000000  1.321912e+04  1.229000e+02       1.000000   \n",
       "max        28.000000  1.523501e+08  6.876410e+06       1.000000   \n",
       "\n",
       "       description_len      blurb_len       slug_len    med_rewards  \\\n",
       "count    169481.000000  169481.000000  169481.000000  169481.000000   \n",
       "mean       3189.024192     112.576548      32.272803     127.086065   \n",
       "std        3139.806469      26.497262      13.665054     415.662633   \n",
       "min           1.000000       1.000000       1.000000       0.000000   \n",
       "25%        1147.000000     101.000000      21.000000      30.000000   \n",
       "50%        2205.000000     124.000000      32.000000      56.835000   \n",
       "75%        4140.000000     132.000000      46.000000     100.000000   \n",
       "max       60430.000000     196.000000      53.000000   11201.630000   \n",
       "\n",
       "          reward_len  \n",
       "count  169481.000000  \n",
       "mean        8.122651  \n",
       "std         6.181222  \n",
       "min         1.000000  \n",
       "25%         4.000000  \n",
       "50%         7.000000  \n",
       "75%        11.000000  \n",
       "max       253.000000  "
      ]
     },
     "execution_count": 91,
     "metadata": {},
     "output_type": "execute_result"
    }
   ],
   "source": [
    "df.describe()"
   ]
  },
  {
   "cell_type": "code",
   "execution_count": null,
   "metadata": {},
   "outputs": [],
   "source": []
  }
 ],
 "metadata": {
  "kernelspec": {
   "display_name": "Python 3",
   "language": "python",
   "name": "python3"
  },
  "language_info": {
   "codemirror_mode": {
    "name": "ipython",
    "version": 3
   },
   "file_extension": ".py",
   "mimetype": "text/x-python",
   "name": "python",
   "nbconvert_exporter": "python",
   "pygments_lexer": "ipython3",
   "version": "3.7.3"
  }
 },
 "nbformat": 4,
 "nbformat_minor": 2
}
