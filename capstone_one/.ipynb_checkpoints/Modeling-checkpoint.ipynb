{
 "cells": [
  {
   "cell_type": "code",
   "execution_count": 1,
   "metadata": {},
   "outputs": [],
   "source": [
    "import pandas as pd\n",
    "import numpy as np\n",
    "import seaborn as sns\n",
    "import matplotlib.pyplot as plt\n",
    "\n",
    "from sklearn.model_selection import train_test_split\n",
    "from sklearn.linear_model import LogisticRegression\n",
    "from sklearn.metrics import accuracy_score, roc_auc_score, make_scorer, fbeta_score, roc_curve\n",
    "\n",
    "from sklearn.model_selection import KFold\n",
    "from sklearn.model_selection import GridSearchCV\n",
    "\n",
    "from sklearn.preprocessing import RobustScaler\n",
    "from sklearn.pipeline import Pipeline"
   ]
  },
  {
   "cell_type": "code",
   "execution_count": 2,
   "metadata": {},
   "outputs": [],
   "source": [
    "df = pd.read_pickle('kickstarter_analysis.pkl')\n",
    "df = df.dropna()"
   ]
  },
  {
   "cell_type": "code",
   "execution_count": 3,
   "metadata": {},
   "outputs": [],
   "source": [
    "## Selecting Features\n",
    "features=['country','img_count', 'vid_count',\n",
    "          'usd_goal', 'description_len', 'blurb_len', 'slug_len', 'med_rewards','category_core', \n",
    "         'reward_len', 'created_month', 'created_weekday', 'deadline_month', 'deadline_weekday', 'length_of_project']\n",
    "dependent=['failed']\n",
    "toscale = ['img_count', 'vid_count', 'usd_goal', 'description_len', 'blurb_len', 'slug_len', \n",
    "           'med_rewards', 'reward_len', 'length_of_project']"
   ]
  },
  {
   "cell_type": "code",
   "execution_count": 4,
   "metadata": {},
   "outputs": [],
   "source": [
    "X=df[features]\n",
    "y=df[dependent]\n",
    "\n",
    "## Getting dummy variables\n",
    "X = pd.get_dummies(X, drop_first = True)\n",
    "y = y.values.ravel()"
   ]
  },
  {
   "cell_type": "markdown",
   "metadata": {},
   "source": [
    "# Logistic Regression"
   ]
  },
  {
   "cell_type": "code",
   "execution_count": 5,
   "metadata": {},
   "outputs": [
    {
     "name": "stdout",
     "output_type": "stream",
     "text": [
      "Training acc_score: 0.734220641289322 \n",
      "Testing acc_score: 0.736296587668404\n"
     ]
    }
   ],
   "source": [
    "###################\n",
    "## Initial Model\n",
    "###################\n",
    "X_train, X_test, y_train, y_test = train_test_split(X, y, \n",
    "                                                   test_size = 0.3, random_state = 42)\n",
    "\n",
    "clf = LogisticRegression(solver = 'liblinear')\n",
    "clf.fit(X_train, y_train)\n",
    "\n",
    "training = clf.predict(X_train)\n",
    "testing = clf.predict(X_test)\n",
    "\n",
    "train_acc = accuracy_score(y_train, training)\n",
    "test_acc = accuracy_score(y_test, testing)\n",
    "\n",
    "print(\"Training acc_score: {} \\nTesting acc_score: {}\".format(train_acc, test_acc))"
   ]
  },
  {
   "cell_type": "code",
   "execution_count": 6,
   "metadata": {},
   "outputs": [
    {
     "name": "stdout",
     "output_type": "stream",
     "text": [
      "0.7355868432495896\n"
     ]
    }
   ],
   "source": [
    "#################\n",
    "## Utilizing CV\n",
    "#################\n",
    "X_arr = X.values\n",
    "final = 0\n",
    "clf = LogisticRegression(solver='liblinear')\n",
    "for train, test in KFold(n_splits=5).split(X_arr):\n",
    "    clf.fit(X_arr[train], y[train])\n",
    "    pred = clf.predict(X_arr[test])\n",
    "    acc = accuracy_score(y[test], pred)\n",
    "    final += acc\n",
    "    \n",
    "final = final / 5 # n of folds\n",
    "print(final)"
   ]
  },
  {
   "cell_type": "code",
   "execution_count": 7,
   "metadata": {},
   "outputs": [
    {
     "name": "stdout",
     "output_type": "stream",
     "text": [
      "The best parameters are: {'C': 10} \n",
      "and the best score is: 0.7350804140395832\n"
     ]
    }
   ],
   "source": [
    "###########################\n",
    "## Utilizing GridSearchCV\n",
    "###########################\n",
    "params = {'C':[0.0001, 0.001, 0.1, 1, 10, 100]}\n",
    "clf = LogisticRegression(solver='liblinear')\n",
    "gs_cv = GridSearchCV(clf, param_grid=params, cv = 5)\n",
    "gs_cv.fit(X_train, y_train)\n",
    "\n",
    "print('The best parameters are: {} \\nand the best score is: {}'.format(gs_cv.best_params_, gs_cv.best_score_))"
   ]
  },
  {
   "cell_type": "code",
   "execution_count": 8,
   "metadata": {},
   "outputs": [],
   "source": [
    "################################\n",
    "## Implementing A Robust Scaler\n",
    "################################\n",
    "from sklearn.compose import ColumnTransformer\n",
    "robust_transformer = Pipeline(steps = [ ('robust', RobustScaler()) ] )\n",
    "preprocessor = ColumnTransformer(remainder = 'passthrough', \n",
    "                                transformers = [('rb', robust_transformer, toscale)])\n",
    "preprocessor.fit(X)\n",
    "X_scale = preprocessor.transform(X)"
   ]
  },
  {
   "cell_type": "code",
   "execution_count": 9,
   "metadata": {},
   "outputs": [],
   "source": [
    "################################\n",
    "## getting scaled training data\n",
    "################################\n",
    "Xs_train, Xs_test, ys_train, ys_test = train_test_split(X_scale, y, \n",
    "                                                   test_size = 0.3, random_state = 42)"
   ]
  },
  {
   "cell_type": "code",
   "execution_count": 10,
   "metadata": {},
   "outputs": [
    {
     "name": "stdout",
     "output_type": "stream",
     "text": [
      "Training acc_score: 0.7544421592096834 \n",
      "Testing acc_score: 0.7539187727406824\n"
     ]
    }
   ],
   "source": [
    "###############################\n",
    "## Initial Model using Scaled\n",
    "###############################\n",
    "clf = LogisticRegression(solver='liblinear')\n",
    "clf.fit(Xs_train, ys_train)\n",
    "\n",
    "training = clf.predict(Xs_train)\n",
    "y_pred = clf.predict(Xs_test)\n",
    "\n",
    "train_acc = accuracy_score(ys_train, training)\n",
    "test_acc = accuracy_score(ys_test, y_pred)\n",
    "\n",
    "print(\"Training acc_score: {} \\nTesting acc_score: {}\".format(train_acc, test_acc))"
   ]
  },
  {
   "cell_type": "code",
   "execution_count": 11,
   "metadata": {},
   "outputs": [
    {
     "name": "stdout",
     "output_type": "stream",
     "text": [
      "Training acc_score: 0.7433605951424266 \n",
      "Testing acc_score: 0.7433258633016107\n"
     ]
    }
   ],
   "source": [
    "###############################\n",
    "## Initial Model using Scaled & roc_auc\n",
    "###############################\n",
    "training = clf.predict(Xs_train)\n",
    "y_pred = clf.predict(Xs_test)\n",
    "\n",
    "ra_train_acc = roc_auc_score(ys_train, training)\n",
    "ra_test_acc = roc_auc_score(ys_test, y_pred)\n",
    "\n",
    "print(\"Training acc_score: {} \\nTesting acc_score: {}\".format(ra_train_acc, ra_test_acc))"
   ]
  },
  {
   "cell_type": "code",
   "execution_count": 12,
   "metadata": {},
   "outputs": [
    {
     "name": "stdout",
     "output_type": "stream",
     "text": [
      "[0.        0.1695367 1.       ]\n",
      "[0.         0.65618843 1.        ]\n",
      "[2 1 0]\n"
     ]
    }
   ],
   "source": [
    "#####################\n",
    "## ROC Curve\n",
    "####################\n",
    "fpr, tpr, thresholds = roc_curve(ys_test, y_pred)\n",
    "print(fpr)\n",
    "print(tpr)\n",
    "print(thresholds)"
   ]
  },
  {
   "cell_type": "code",
   "execution_count": 13,
   "metadata": {},
   "outputs": [
    {
     "data": {
      "text/plain": [
       "(0, 1)"
      ]
     },
     "execution_count": 13,
     "metadata": {},
     "output_type": "execute_result"
    },
    {
     "data": {
      "image/png": "[encoded data removed]",
      "text/plain": [
       "<Figure size 432x288 with 1 Axes>"
      ]
     },
     "metadata": {
      "needs_background": "light"
     },
     "output_type": "display_data"
    }
   ],
   "source": [
    "########################\n",
    "## Using Precision/Recall graphically\n",
    "########################\n",
    "## https://stackoverflow.com/questions/28716241/controlling-the-threshold-in-logistic-regression-in-scikit-learn\n",
    "y_pred = clf.predict(Xs_test)\n",
    "y_probs = clf.predict_proba(Xs_test)\n",
    "\n",
    "from sklearn.metrics import precision_recall_curve, auc\n",
    "\n",
    "precision, recall, thresholds = precision_recall_curve(ys_test, y_probs[:,1])\n",
    "\n",
    "pr_auc = auc(recall, precision)\n",
    "\n",
    "\n",
    "plt.title(\"Precision-Recall vs Threshold Chart\")\n",
    "plt.plot(thresholds, precision[: -1], \"b--\", label=\"Precision\")\n",
    "plt.plot(thresholds, recall[: -1], \"r--\", label=\"Recall\")\n",
    "plt.ylabel(\"Precision, Recall\")\n",
    "plt.xlabel(\"Threshold\")\n",
    "plt.legend(loc=\"lower left\")\n",
    "plt.ylim([0,1])"
   ]
  },
  {
   "cell_type": "code",
   "execution_count": 14,
   "metadata": {},
   "outputs": [
    {
     "name": "stdout",
     "output_type": "stream",
     "text": [
      "The best parameters are: {'C': 0.001} \n",
      "and the best score is: 0.7457834372876232\n"
     ]
    }
   ],
   "source": [
    "###########################\n",
    "## Utilizing GridSearchCV w/ roc_auc\n",
    "###########################\n",
    "r_a = make_scorer(roc_auc_score)\n",
    "\n",
    "params = {'C':[0.0001, 0.001, 0.1, 1, 10, 100]}\n",
    "clf = LogisticRegression(solver='liblinear')\n",
    "gs_cv = GridSearchCV(clf, param_grid=params, scoring = r_a, cv = 5)\n",
    "gs_cv.fit(Xs_train, ys_train)\n",
    "\n",
    "print('The best parameters are: {} \\nand the best score is: {}'.format(gs_cv.best_params_, gs_cv.best_score_))"
   ]
  },
  {
   "cell_type": "code",
   "execution_count": 15,
   "metadata": {},
   "outputs": [
    {
     "name": "stdout",
     "output_type": "stream",
     "text": [
      "The best parameters are: {'C': 0.0001} \n",
      "and the best score is: 0.740541760558828\n"
     ]
    }
   ],
   "source": [
    "#########################\n",
    "## Utilizing GSCV w/ fbeta\n",
    "#########################\n",
    "f_precision = make_scorer(fbeta_score, beta = .5) ## More weight towards precision\n",
    "\n",
    "params = {'C':[0.0001, 0.001, 0.1, 1, 10, 100]}\n",
    "clf = LogisticRegression(solver='liblinear')\n",
    "gs_cv = GridSearchCV(clf, param_grid=params, scoring = f_precision, cv = 5)\n",
    "gs_cv.fit(Xs_train, ys_train)\n",
    "\n",
    "print('The best parameters are: {} \\nand the best score is: {}'.format(gs_cv.best_params_, gs_cv.best_score_))"
   ]
  },
  {
   "cell_type": "code",
   "execution_count": 16,
   "metadata": {},
   "outputs": [
    {
     "name": "stdout",
     "output_type": "stream",
     "text": [
      "CPU times: user 728 ms, sys: 11.4 ms, total: 740 ms\n",
      "Wall time: 741 ms\n",
      "CPU times: user 8.69 ms, sys: 245 µs, total: 8.93 ms\n",
      "Wall time: 4.48 ms\n",
      "0.7408028625740801\n"
     ]
    }
   ],
   "source": [
    "######################\n",
    "## LogReg model using optimal C and scored by fbeta\n",
    "######################\n",
    "\n",
    "logreg = LogisticRegression(solver='liblinear', C=0.001)\n",
    "%time logreg.fit(Xs_train, ys_train)\n",
    "\n",
    "y_pred = logreg.predict(Xs_test)\n",
    "%time y_probs = logreg.predict_proba(Xs_test)\n",
    "\n",
    "thresh = y_probs[:,1] >= .6\n",
    "\n",
    "score = fbeta_score(ys_test, thresh, beta = 0.5)\n",
    "print(score)"
   ]
  },
  {
   "cell_type": "markdown",
   "metadata": {},
   "source": [
    "# SVM"
   ]
  },
  {
   "cell_type": "code",
   "execution_count": 135,
   "metadata": {},
   "outputs": [],
   "source": [
    "from sklearn.svm import LinearSVC"
   ]
  },
  {
   "cell_type": "code",
   "execution_count": 136,
   "metadata": {},
   "outputs": [
    {
     "name": "stdout",
     "output_type": "stream",
     "text": [
      "0.7413578063627394\n"
     ]
    },
    {
     "name": "stderr",
     "output_type": "stream",
     "text": [
      "/Users/Matt/anaconda3/lib/python3.7/site-packages/sklearn/svm/base.py:931: ConvergenceWarning: Liblinear failed to converge, increase the number of iterations.\n",
      "  \"the number of iterations.\", ConvergenceWarning)\n"
     ]
    }
   ],
   "source": [
    "######################\n",
    "## Initial SVM Model\n",
    "######################\n",
    "svc = LinearSVC()\n",
    "svc.fit(Xs_train, ys_train)\n",
    "y_pred = svc.predict(Xs_test)\n",
    "\n",
    "score = fbeta_score(ys_test, y_pred, beta = 0.5)\n",
    "print(score)"
   ]
  },
  {
   "cell_type": "code",
   "execution_count": 137,
   "metadata": {},
   "outputs": [
    {
     "name": "stdout",
     "output_type": "stream",
     "text": [
      "0.7409795812070217\n"
     ]
    },
    {
     "name": "stderr",
     "output_type": "stream",
     "text": [
      "/Users/Matt/anaconda3/lib/python3.7/site-packages/sklearn/svm/base.py:931: ConvergenceWarning: Liblinear failed to converge, increase the number of iterations.\n",
      "  \"the number of iterations.\", ConvergenceWarning)\n"
     ]
    }
   ],
   "source": [
    "######################\n",
    "## Initial SVM Model, adjusting max_iter\n",
    "######################\n",
    "svc = LinearSVC(max_iter = 2000)\n",
    "svc.fit(Xs_train, ys_train)\n",
    "y_pred = svc.predict(Xs_test)\n",
    "\n",
    "score = fbeta_score(ys_test, y_pred, beta = 0.5)\n",
    "print(score)"
   ]
  },
  {
   "cell_type": "code",
   "execution_count": 138,
   "metadata": {},
   "outputs": [
    {
     "name": "stdout",
     "output_type": "stream",
     "text": [
      "0.740694812160143\n"
     ]
    },
    {
     "name": "stderr",
     "output_type": "stream",
     "text": [
      "/Users/Matt/anaconda3/lib/python3.7/site-packages/sklearn/svm/base.py:931: ConvergenceWarning: Liblinear failed to converge, increase the number of iterations.\n",
      "  \"the number of iterations.\", ConvergenceWarning)\n"
     ]
    }
   ],
   "source": [
    "######################\n",
    "## Initial SVM Model, adjusting max_iter, 4000\n",
    "######################\n",
    "svc = LinearSVC(max_iter = 4000)\n",
    "svc.fit(Xs_train, ys_train)\n",
    "y_pred = svc.predict(Xs_test)\n",
    "\n",
    "score = fbeta_score(ys_test, y_pred, beta = 0.5)\n",
    "print(score)"
   ]
  },
  {
   "cell_type": "markdown",
   "metadata": {},
   "source": [
    "# KNN"
   ]
  },
  {
   "cell_type": "markdown",
   "metadata": {},
   "source": [
    "We'll be using the same scoring system as before: fbeta with a beta of 0.5 to put more weight into precision. "
   ]
  },
  {
   "cell_type": "code",
   "execution_count": 56,
   "metadata": {},
   "outputs": [],
   "source": [
    "from sklearn.neighbors import KNeighborsClassifier"
   ]
  },
  {
   "cell_type": "code",
   "execution_count": null,
   "metadata": {},
   "outputs": [
    {
     "name": "stdout",
     "output_type": "stream",
     "text": [
      "CPU times: user 942 ms, sys: 13.2 ms, total: 956 ms\n",
      "Wall time: 962 ms\n"
     ]
    }
   ],
   "source": [
    "######################\n",
    "## Base KNN classifier\n",
    "######################\n",
    "clf = KNeighborsClassifier()\n",
    "%time clf.fit(Xs_train, ys_train)\n",
    "train_pred = clf.predict(Xs_train)\n",
    "%time y_pred = clf.predict(Xs_test)\n",
    "\n",
    "train_score = fbeta_score(ys_train, train_pred, beta = 0.5)\n",
    "score = fbeta_score(ys_test, y_pred, beta = 0.5)\n",
    "\n",
    "print(\"Score on training: {} \\nScore on testing: {}\".format(train_score, score))"
   ]
  },
  {
   "cell_type": "markdown",
   "metadata": {},
   "source": [
    "# Random Forest"
   ]
  },
  {
   "cell_type": "code",
   "execution_count": 17,
   "metadata": {},
   "outputs": [],
   "source": [
    "from sklearn.ensemble import RandomForestClassifier"
   ]
  },
  {
   "cell_type": "code",
   "execution_count": 22,
   "metadata": {},
   "outputs": [
    {
     "name": "stderr",
     "output_type": "stream",
     "text": [
      "/Users/Matt/anaconda3/lib/python3.7/site-packages/sklearn/ensemble/forest.py:246: FutureWarning: The default value of n_estimators will change from 10 in version 0.20 to 100 in 0.22.\n",
      "  \"10 in version 0.20 to 100 in 0.22.\", FutureWarning)\n"
     ]
    },
    {
     "name": "stdout",
     "output_type": "stream",
     "text": [
      "CPU times: user 2.87 s, sys: 115 ms, total: 2.98 s\n",
      "Wall time: 3.05 s\n",
      "CPU times: user 193 ms, sys: 10.7 ms, total: 204 ms\n",
      "Wall time: 206 ms\n",
      "RF Score on training: 0.9910545302245456 \n",
      "RF Score on testing: 0.7495455332409972\n"
     ]
    }
   ],
   "source": [
    "######################\n",
    "## Base RF classifier\n",
    "######################\n",
    "clf = RandomForestClassifier()\n",
    "%time clf.fit(X_train, y_train)\n",
    "train_pred = clf.predict(X_train)\n",
    "%time y_pred = clf.predict(X_test)\n",
    "\n",
    "train_score = fbeta_score(ys_train, train_pred, beta = 0.5)\n",
    "score = fbeta_score(y_test, y_pred, beta = 0.5)\n",
    "\n",
    "print(\"RF Score on training: {} \\nRF Score on testing: {}\".format(train_score, score))\n"
   ]
  },
  {
   "cell_type": "code",
   "execution_count": 21,
   "metadata": {},
   "outputs": [
    {
     "name": "stdout",
     "output_type": "stream",
     "text": [
      "CPU times: user 26.8 s, sys: 470 ms, total: 27.2 s\n",
      "Wall time: 27.4 s\n",
      "CPU times: user 1.67 s, sys: 26.3 ms, total: 1.7 s\n",
      "Wall time: 1.71 s\n",
      "RF Score on training: 1.0 \n",
      "RF Score on testing: 0.7760784970082429\n"
     ]
    }
   ],
   "source": [
    "######################\n",
    "## RF with changing estimators\n",
    "######################\n",
    "clf = RandomForestClassifier(n_estimators = 100) ##Setting to default in future sklearn versions\n",
    "%time clf.fit(X_train, y_train)\n",
    "train_pred = clf.predict(X_train)\n",
    "%time y_pred = clf.predict(X_test)\n",
    "\n",
    "train_score = fbeta_score(y_train, train_pred, beta = 0.5)\n",
    "score = fbeta_score(y_test, y_pred, beta = 0.5)\n",
    "\n",
    "print(\"RF Score on training: {} \\nRF Score on testing: {}\".format(train_score, score))"
   ]
  },
  {
   "cell_type": "code",
   "execution_count": 32,
   "metadata": {},
   "outputs": [],
   "source": [
    "from sklearn.model_selection import RandomizedSearchCV"
   ]
  },
  {
   "cell_type": "code",
   "execution_count": 33,
   "metadata": {},
   "outputs": [],
   "source": [
    "######################\n",
    "## RF utilizing RandomSearch for hyperparameter tuning\n",
    "######################\n",
    "n_estimators = [int(x) for x in np.linspace(start = 100, stop = 10000, num = 10)]\n",
    "max_features = ['auto', 'sqrt']\n",
    "max_depth = [int(x) for x in np.linspace(10, 110, num = 11)]\n",
    "max_depth.append(None)\n",
    "min_samples_split = [2, 5, 10]\n",
    "min_samples_leaf = [1, 2, 4]\n",
    "bootstrap = [True, False]\n",
    "\n",
    "params = {'n_estimators': n_estimators,\n",
    "               'max_features': max_features,\n",
    "               'max_depth': max_depth,\n",
    "               'min_samples_split': min_samples_split,\n",
    "               'min_samples_leaf': min_samples_leaf,\n",
    "               'bootstrap': bootstrap}"
   ]
  },
  {
   "cell_type": "code",
   "execution_count": null,
   "metadata": {},
   "outputs": [
    {
     "name": "stdout",
     "output_type": "stream",
     "text": [
      "CPU times: user 29 µs, sys: 88 µs, total: 117 µs\n",
      "Wall time: 131 µs\n"
     ]
    }
   ],
   "source": [
    "clf = RandomForestClassifier()\n",
    "\n",
    "%time rf_random = RandomizedSearchCV(estimator=clf, param_distributions = params, cv = 5, scoring = f_precision) ##f_precision made using make_scorer\n",
    "\n",
    "%time rf_random.fit(X_train, y_train)"
   ]
  },
  {
   "cell_type": "code",
   "execution_count": null,
   "metadata": {},
   "outputs": [],
   "source": []
  }
 ],
 "metadata": {
  "kernelspec": {
   "display_name": "Python 3",
   "language": "python",
   "name": "python3"
  },
  "language_info": {
   "codemirror_mode": {
    "name": "ipython",
    "version": 3
   },
   "file_extension": ".py",
   "mimetype": "text/x-python",
   "name": "python",
   "nbconvert_exporter": "python",
   "pygments_lexer": "ipython3",
   "version": "3.7.3"
  }
 },
 "nbformat": 4,
 "nbformat_minor": 2
}
