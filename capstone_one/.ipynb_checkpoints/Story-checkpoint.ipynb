{
 "cells": [
  {
   "cell_type": "code",
   "execution_count": 1,
   "metadata": {},
   "outputs": [],
   "source": [
    "import pandas as pd\n",
    "import matplotlib.pyplot as plt\n",
    "\n",
    "from wordcloud import WordCloud, STOPWORDS"
   ]
  },
  {
   "cell_type": "code",
   "execution_count": 2,
   "metadata": {},
   "outputs": [],
   "source": [
    "df = pd.read_pickle('kickstarter_clean.pkl')"
   ]
  },
  {
   "cell_type": "code",
   "execution_count": 3,
   "metadata": {
    "scrolled": true
   },
   "outputs": [
    {
     "name": "stdout",
     "output_type": "stream",
     "text": [
      "<class 'pandas.core.frame.DataFrame'>\n",
      "Int64Index: 209904 entries, 0 to 210087\n",
      "Data columns (total 55 columns):\n",
      "backers_count                209904 non-null int64\n",
      "blurb                        209896 non-null object\n",
      "category                     209904 non-null object\n",
      "converted_pledged_amount     209904 non-null int64\n",
      "country                      209904 non-null object\n",
      "created_at                   209904 non-null int64\n",
      "creator                      209904 non-null object\n",
      "currency                     209904 non-null object\n",
      "currency_trailing_code       209904 non-null bool\n",
      "current_currency             209904 non-null object\n",
      "deadline                     209904 non-null int64\n",
      "fx_rate                      209904 non-null float64\n",
      "goal                         209904 non-null float64\n",
      "id                           209904 non-null int64\n",
      "launched_at                  209904 non-null int64\n",
      "location                     209685 non-null object\n",
      "name                         209904 non-null object\n",
      "pledged                      209904 non-null float64\n",
      "profile                      209904 non-null object\n",
      "slug                         209904 non-null object\n",
      "spotlight                    209904 non-null bool\n",
      "staff_pick                   209904 non-null bool\n",
      "state                        209904 non-null object\n",
      "state_changed_at             209904 non-null int64\n",
      "static_usd_rate              209904 non-null float64\n",
      "urls                         209904 non-null object\n",
      "usd_pledged                  209904 non-null float64\n",
      "usd_type                     209724 non-null object\n",
      "created_at_date              209904 non-null datetime64[ns]\n",
      "created_at_time              209904 non-null object\n",
      "deadline_date                209904 non-null datetime64[ns]\n",
      "deadline_time                209904 non-null object\n",
      "launched_at_date             209904 non-null datetime64[ns]\n",
      "launched_at_time             209904 non-null object\n",
      "state_changed_at_date        209904 non-null datetime64[ns]\n",
      "state_changed_at_time        209904 non-null object\n",
      "category_name                209904 non-null object\n",
      "category_slug                209904 non-null object\n",
      "location_displayable_name    209685 non-null object\n",
      "location_localized_name      209685 non-null object\n",
      "location_country             209685 non-null object\n",
      "location_state               209620 non-null object\n",
      "profile_id                   205923 non-null float64\n",
      "profile_project_id           205923 non-null float64\n",
      "profile_state                205923 non-null object\n",
      "urls_web                     209904 non-null object\n",
      "web_url                      209904 non-null object\n",
      "description                  209900 non-null object\n",
      "img_count                    209904 non-null float64\n",
      "vid_count                    209904 non-null float64\n",
      "rewards                      209904 non-null object\n",
      "category_core                209904 non-null object\n",
      "usd_goal                     209904 non-null float64\n",
      "percent_goal                 209904 non-null float64\n",
      "vid_usage                    209904 non-null bool\n",
      "dtypes: bool(4), datetime64[ns](4), float64(11), int64(7), object(29)\n",
      "memory usage: 84.1+ MB\n"
     ]
    }
   ],
   "source": [
    "df.info()"
   ]
  },
  {
   "cell_type": "code",
   "execution_count": 4,
   "metadata": {},
   "outputs": [
    {
     "data": {
      "image/png": "[encoded data removed]",
      "text/plain": [
       "<Figure size 432x288 with 1 Axes>"
      ]
     },
     "metadata": {
      "needs_background": "light"
     },
     "output_type": "display_data"
    }
   ],
   "source": [
    "## Histogram of backers_count\n",
    "plt.hist(df.backers_count)\n",
    "## Well, they're all under the 10,000 backer count with a few above that. \n",
    "plt.show()"
   ]
  },
  {
   "cell_type": "code",
   "execution_count": 5,
   "metadata": {},
   "outputs": [
    {
     "data": {
      "image/png": "[encoded data removed]",
      "text/plain": [
       "<Figure size 432x288 with 1 Axes>"
      ]
     },
     "metadata": {
      "needs_background": "light"
     },
     "output_type": "display_data"
    }
   ],
   "source": [
    "plt.hist(df.backers_count, log = True)\n",
    "plt.show()\n",
    "## This is a heavily right skewed graph. Does this relate to success?"
   ]
  },
  {
   "cell_type": "code",
   "execution_count": 6,
   "metadata": {},
   "outputs": [
    {
     "data": {
      "image/png": "[encoded data removed]",
      "text/plain": [
       "<Figure size 432x288 with 1 Axes>"
      ]
     },
     "metadata": {
      "needs_background": "light"
     },
     "output_type": "display_data"
    }
   ],
   "source": [
    "# df.state.unique() ##['successful', 'live', 'failed', 'canceled', 'suspended']\n",
    "plt.hist(df[df.state == 'successful'].backers_count, log = True)\n",
    "plt.hist(df[df.state == 'live'].backers_count, log = True)\n",
    "plt.hist(df[df.state == 'failed'].backers_count, log = True)\n",
    "plt.hist(df[df.state == 'canceled'].backers_count, log = True)\n",
    "plt.hist(df[df.state == 'suspended'].backers_count, log = True)\n",
    "plt.show()\n",
    "## From this, we can see backers_count above a certain threshold belong only to those who have suceeded. \n",
    "## This is insightful, but ultimately not helpful since we want to predict success before the kickstarter truly launches."
   ]
  },
  {
   "cell_type": "code",
   "execution_count": 7,
   "metadata": {},
   "outputs": [
    {
     "data": {
      "image/png": "[encoded data removed]",
      "text/plain": [
       "<Figure size 432x288 with 1 Axes>"
      ]
     },
     "metadata": {
      "needs_background": "light"
     },
     "output_type": "display_data"
    }
   ],
   "source": [
    "plt.hist(df[df.state == 'failed'].backers_count, log = True)\n",
    "plt.show()\n",
    "## Looking at only failed kickstarters, there is still a large amount who failed even with big backer counts."
   ]
  },
  {
   "cell_type": "code",
   "execution_count": 8,
   "metadata": {},
   "outputs": [
    {
     "data": {
      "image/png": "[encoded data removed]",
      "text/plain": [
       "<Figure size 432x288 with 1 Axes>"
      ]
     },
     "metadata": {
      "needs_background": "light"
     },
     "output_type": "display_data"
    }
   ],
   "source": [
    "## Explore country\n",
    "df['country'].value_counts().plot(kind='bar')\n",
    "plt.show()\n",
    "## It looks like most of the kickstarters begin in the US"
   ]
  },
  {
   "cell_type": "code",
   "execution_count": 9,
   "metadata": {},
   "outputs": [
    {
     "data": {
      "image/png": "[encoded data removed]",
      "text/plain": [
       "<Figure size 432x288 with 1 Axes>"
      ]
     },
     "metadata": {
      "needs_background": "light"
     },
     "output_type": "display_data"
    }
   ],
   "source": [
    "##Removing the top three countries, we can see the impact of the other countries in our list. \n",
    "df[(df.country != 'US') & (df.country != 'GB') & (df.country != 'CA')].country.value_counts().plot(kind = 'bar')\n",
    "plt.show()"
   ]
  },
  {
   "cell_type": "code",
   "execution_count": 10,
   "metadata": {
    "scrolled": true
   },
   "outputs": [
    {
     "data": {
      "text/plain": [
       "country  state     \n",
       "AT       canceled         31\n",
       "         failed          238\n",
       "         live             34\n",
       "         successful      196\n",
       "         suspended         2\n",
       "AU       canceled        257\n",
       "         failed         2063\n",
       "         live            176\n",
       "         successful     2344\n",
       "         suspended        27\n",
       "BE       canceled         27\n",
       "         failed          276\n",
       "         live             39\n",
       "         successful      233\n",
       "         suspended         3\n",
       "CA       canceled        491\n",
       "         failed         3729\n",
       "         live            391\n",
       "         successful     5235\n",
       "         suspended        34\n",
       "CH       canceled         28\n",
       "         failed          307\n",
       "         live             31\n",
       "         successful      299\n",
       "         suspended         5\n",
       "DE       canceled        162\n",
       "         failed         1556\n",
       "         live            209\n",
       "         successful     1555\n",
       "         suspended        15\n",
       "                       ...  \n",
       "NL       canceled         99\n",
       "         failed          891\n",
       "         live             52\n",
       "         successful      747\n",
       "         suspended        14\n",
       "NO       canceled         34\n",
       "         failed          216\n",
       "         live             21\n",
       "         successful      236\n",
       "         suspended         3\n",
       "NZ       canceled         28\n",
       "         failed          364\n",
       "         live             36\n",
       "         successful      504\n",
       "         suspended         7\n",
       "SE       canceled         58\n",
       "         failed          563\n",
       "         live             79\n",
       "         successful      728\n",
       "         suspended         9\n",
       "SG       canceled         24\n",
       "         failed          208\n",
       "         live             42\n",
       "         successful      420\n",
       "         suspended         2\n",
       "US       canceled       5878\n",
       "         failed        52246\n",
       "         live           4244\n",
       "         successful    85829\n",
       "         suspended       399\n",
       "Length: 107, dtype: int64"
      ]
     },
     "execution_count": 10,
     "metadata": {},
     "output_type": "execute_result"
    }
   ],
   "source": [
    "df.groupby(['country', 'state']).size()\n",
    "## We see a breakdown for each country and their status counts and see that countries with larger amounts of\n",
    "## kickstarter projects (US, CA) have most successful projects than failed projects whereas countries with smaller\n",
    "## amounts of kickstarter projects (BE, AT) have a higher failed rate than sucessful. "
   ]
  },
  {
   "cell_type": "code",
   "execution_count": 11,
   "metadata": {},
   "outputs": [
    {
     "data": {
      "image/png": "[encoded data removed]",
      "text/plain": [
       "<Figure size 432x288 with 1 Axes>"
      ]
     },
     "metadata": {
      "needs_background": "light"
     },
     "output_type": "display_data"
    }
   ],
   "source": [
    "##Exploring the goals\n",
    "plt.hist(df[df.state == 'failed'].goal, log = True, color='r', alpha = 0.5)\n",
    "plt.hist(df[df.state == 'successful'].goal, log = True, color = 'g', alpha = 0.5) \n",
    "plt.show()\n",
    "## Projects with higher goals tend to fail more often.\n",
    "## This makes sense since you're more likely to fail gathering a high amount of money\n",
    "## compared to a project with a reasonable goal. "
   ]
  },
  {
   "cell_type": "code",
   "execution_count": 12,
   "metadata": {},
   "outputs": [
    {
     "data": {
      "text/plain": [
       "count    1.002000e+03\n",
       "mean     6.583733e+06\n",
       "std      1.621220e+07\n",
       "min      1.000000e+06\n",
       "25%      1.000000e+06\n",
       "50%      2.000000e+06\n",
       "75%      4.000000e+06\n",
       "max      1.000000e+08\n",
       "Name: goal, dtype: float64"
      ]
     },
     "execution_count": 12,
     "metadata": {},
     "output_type": "execute_result"
    }
   ],
   "source": [
    "df[df['goal']>=1000000]['goal'].describe()\n",
    "## THere are 1002 projects greater than 1 million???\n",
    "## There's a project that has a GOAL of 100,000,000???"
   ]
  },
  {
   "cell_type": "code",
   "execution_count": 13,
   "metadata": {},
   "outputs": [
    {
     "data": {
      "text/plain": [
       "'https://www.kickstarter.com/projects/1984842510/virtual-reality-playground-in-buffalo-ny'"
      ]
     },
     "execution_count": 13,
     "metadata": {},
     "output_type": "execute_result"
    }
   ],
   "source": [
    "df[df.goal >= 100000000].loc[189847]['web_url']\n",
    "## Exploring a bit of the larger projects, it looks like certain categories play a huge part. "
   ]
  },
  {
   "cell_type": "code",
   "execution_count": 14,
   "metadata": {},
   "outputs": [
    {
     "name": "stdout",
     "output_type": "stream",
     "text": [
      "Unique category names:  159\n",
      "Unique category slugs:  169\n"
     ]
    }
   ],
   "source": [
    "##Exploring the cateogries\n",
    "print(\"Unique category names: \", df.category_name.nunique())\n",
    "print(\"Unique category slugs: \", df.category_slug.nunique())"
   ]
  },
  {
   "cell_type": "code",
   "execution_count": 15,
   "metadata": {
    "scrolled": true
   },
   "outputs": [
    {
     "data": {
      "text/plain": [
       "category_name      category_slug               \n",
       "3D Printing        technology/3d printing           884\n",
       "Academic           publishing/academic             1147\n",
       "Accessories        fashion/accessories             3584\n",
       "Action             film & video/action              904\n",
       "Animals            photography/animals              357\n",
       "Animation          film & video/animation          2516\n",
       "Anthologies        comics/anthologies               745\n",
       "                   publishing/anthologies           623\n",
       "Apparel            fashion/apparel                 2980\n",
       "Apps               technology/apps                 2606\n",
       "Architecture       design/architecture              888\n",
       "Art                art                             1007\n",
       "Art Books          publishing/art books            2653\n",
       "Audio              journalism/audio                 779\n",
       "Bacon              food/bacon                       228\n",
       "Blues              music/blues                      347\n",
       "Calendars          publishing/calendars             446\n",
       "Camera Equipment   technology/camera equipment      615\n",
       "Candles            crafts/candles                   599\n",
       "Ceramics           art/ceramics                     403\n",
       "Children's Books   publishing/children's books     2965\n",
       "Childrenswear      fashion/childrenswear            637\n",
       "Chiptune           music/chiptune                    45\n",
       "Civic Design       design/civic design              336\n",
       "Classical Music    music/classical music           2518\n",
       "Comedy             film & video/comedy             2569\n",
       "                   music/comedy                      60\n",
       "                   publishing/comedy                180\n",
       "                   theater/comedy                   306\n",
       "Comic Books        comics/comic books              3446\n",
       "                                                   ... \n",
       "Sound              technology/sound                1018\n",
       "Space Exploration  technology/space exploration     402\n",
       "Spaces             dance/spaces                     316\n",
       "                   food/spaces                      612\n",
       "                   theater/spaces                   302\n",
       "Stationery         crafts/stationery                386\n",
       "Tabletop Games     games/tabletop games            4059\n",
       "Taxidermy          crafts/taxidermy                  18\n",
       "Technology         technology                       408\n",
       "Television         film & video/television         1189\n",
       "Textiles           art/textiles                     402\n",
       "Theater            theater                          564\n",
       "Thrillers          film & video/thrillers           960\n",
       "Translations       publishing/translations          188\n",
       "Typography         design/typography                149\n",
       "Vegan              food/vegan                       958\n",
       "Video              journalism/video                 666\n",
       "Video Art          art/video art                    247\n",
       "Video Games        games/video games               2709\n",
       "Wearables          technology/wearables            1655\n",
       "Weaving            crafts/weaving                   142\n",
       "Web                journalism/web                  2095\n",
       "                   technology/web                  2487\n",
       "Webcomics          comics/webcomics                1040\n",
       "Webseries          film & video/webseries          2499\n",
       "Woodworking        crafts/woodworking              1713\n",
       "Workshops          dance/workshops                  238\n",
       "World Music        music/world music               2396\n",
       "Young Adult        publishing/young adult          1013\n",
       "Zines              publishing/zines                 592\n",
       "Length: 169, dtype: int64"
      ]
     },
     "execution_count": 15,
     "metadata": {},
     "output_type": "execute_result"
    }
   ],
   "source": [
    "df.groupby(['category_name', 'category_slug']).size()"
   ]
  },
  {
   "cell_type": "code",
   "execution_count": 16,
   "metadata": {},
   "outputs": [
    {
     "data": {
      "text/plain": [
       "array(['film & video/fantasy'], dtype=object)"
      ]
     },
     "execution_count": 16,
     "metadata": {},
     "output_type": "execute_result"
    }
   ],
   "source": [
    "## Exploring the category names, it looks like the slug is a combination two names\n",
    "df[df['category_slug'].str.contains('fantasy')]['category_slug'].unique()"
   ]
  },
  {
   "cell_type": "code",
   "execution_count": 17,
   "metadata": {},
   "outputs": [
    {
     "data": {
      "text/plain": [
       "array(['publishing/art books', 'art/digital art', 'art/installations',\n",
       "       'art/textiles', 'art/illustration', 'art', 'art/performance art',\n",
       "       'art/public art', 'art/sculpture', 'art/mixed media',\n",
       "       'art/painting', 'art/ceramics', 'art/conceptual art',\n",
       "       'photography/fine art', 'art/video art'], dtype=object)"
      ]
     },
     "execution_count": 17,
     "metadata": {},
     "output_type": "execute_result"
    }
   ],
   "source": [
    "df[df['category_slug'].str.contains('art')]['category_slug'].unique()"
   ]
  },
  {
   "cell_type": "code",
   "execution_count": 18,
   "metadata": {},
   "outputs": [
    {
     "data": {
      "text/plain": [
       "film & video    27709\n",
       "music           27441\n",
       "technology      21203\n",
       "art             20725\n",
       "publishing      20335\n",
       "food            16341\n",
       "games           14047\n",
       "fashion         12123\n",
       "design           8912\n",
       "comics           8826\n",
       "photography      8167\n",
       "crafts           7258\n",
       "theater          6919\n",
       "journalism       5839\n",
       "dance            4059\n",
       "Name: category_core, dtype: int64"
      ]
     },
     "execution_count": 18,
     "metadata": {},
     "output_type": "execute_result"
    }
   ],
   "source": [
    "df['category_core'].value_counts()\n",
    "## Film & Video make up the biggest category from our dataset. \n",
    "## Dance makes up the smallest amount. "
   ]
  },
  {
   "cell_type": "code",
   "execution_count": 19,
   "metadata": {},
   "outputs": [
    {
     "data": {
      "image/png": "[encoded data removed]",
      "text/plain": [
       "<Figure size 432x288 with 1 Axes>"
      ]
     },
     "metadata": {
      "needs_background": "light"
     },
     "output_type": "display_data"
    }
   ],
   "source": [
    "plt.hist(df[df['pledged']<=100000]['pledged'])\n",
    "plt.show()"
   ]
  },
  {
   "cell_type": "code",
   "execution_count": 20,
   "metadata": {},
   "outputs": [
    {
     "data": {
      "image/png": "[encoded data removed]",
      "text/plain": [
       "<Figure size 432x288 with 1 Axes>"
      ]
     },
     "metadata": {
      "needs_background": "light"
     },
     "output_type": "display_data"
    }
   ],
   "source": [
    "plt.hist(df['pledged'], log = True)\n",
    "plt.show()\n",
    "## There's several who've raised more than 1,000,000.\n"
   ]
  },
  {
   "cell_type": "code",
   "execution_count": 21,
   "metadata": {},
   "outputs": [
    {
     "data": {
      "text/html": [
       "<div>\n",
       "<style scoped>\n",
       "    .dataframe tbody tr th:only-of-type {\n",
       "        vertical-align: middle;\n",
       "    }\n",
       "\n",
       "    .dataframe tbody tr th {\n",
       "        vertical-align: top;\n",
       "    }\n",
       "\n",
       "    .dataframe thead th {\n",
       "        text-align: right;\n",
       "    }\n",
       "</style>\n",
       "<table border=\"1\" class=\"dataframe\">\n",
       "  <thead>\n",
       "    <tr style=\"text-align: right;\">\n",
       "      <th></th>\n",
       "      <th>backers_count</th>\n",
       "      <th>converted_pledged_amount</th>\n",
       "      <th>created_at</th>\n",
       "      <th>deadline</th>\n",
       "      <th>fx_rate</th>\n",
       "      <th>goal</th>\n",
       "      <th>id</th>\n",
       "      <th>launched_at</th>\n",
       "      <th>pledged</th>\n",
       "      <th>state_changed_at</th>\n",
       "      <th>static_usd_rate</th>\n",
       "      <th>usd_pledged</th>\n",
       "      <th>profile_id</th>\n",
       "      <th>profile_project_id</th>\n",
       "      <th>img_count</th>\n",
       "      <th>vid_count</th>\n",
       "      <th>usd_goal</th>\n",
       "      <th>percent_goal</th>\n",
       "    </tr>\n",
       "  </thead>\n",
       "  <tbody>\n",
       "    <tr>\n",
       "      <th>count</th>\n",
       "      <td>437.000000</td>\n",
       "      <td>4.370000e+02</td>\n",
       "      <td>4.370000e+02</td>\n",
       "      <td>4.370000e+02</td>\n",
       "      <td>437.000000</td>\n",
       "      <td>4.370000e+02</td>\n",
       "      <td>4.370000e+02</td>\n",
       "      <td>4.370000e+02</td>\n",
       "      <td>4.370000e+02</td>\n",
       "      <td>4.370000e+02</td>\n",
       "      <td>437.000000</td>\n",
       "      <td>4.370000e+02</td>\n",
       "      <td>4.060000e+02</td>\n",
       "      <td>4.060000e+02</td>\n",
       "      <td>437.000000</td>\n",
       "      <td>437.000000</td>\n",
       "      <td>4.370000e+02</td>\n",
       "      <td>437.000000</td>\n",
       "    </tr>\n",
       "    <tr>\n",
       "      <th>mean</th>\n",
       "      <td>8035.633867</td>\n",
       "      <td>1.061063e+06</td>\n",
       "      <td>1.501565e+09</td>\n",
       "      <td>1.509566e+09</td>\n",
       "      <td>0.533386</td>\n",
       "      <td>1.096592e+06</td>\n",
       "      <td>1.094021e+09</td>\n",
       "      <td>1.506404e+09</td>\n",
       "      <td>2.904833e+06</td>\n",
       "      <td>1.509486e+09</td>\n",
       "      <td>0.535515</td>\n",
       "      <td>1.060952e+06</td>\n",
       "      <td>2.963912e+06</td>\n",
       "      <td>2.963912e+06</td>\n",
       "      <td>37.290618</td>\n",
       "      <td>0.823799</td>\n",
       "      <td>1.135394e+05</td>\n",
       "      <td>2569.778965</td>\n",
       "    </tr>\n",
       "    <tr>\n",
       "      <th>std</th>\n",
       "      <td>13875.758591</td>\n",
       "      <td>1.385473e+06</td>\n",
       "      <td>4.910240e+07</td>\n",
       "      <td>4.810635e+07</td>\n",
       "      <td>0.473368</td>\n",
       "      <td>3.977572e+06</td>\n",
       "      <td>6.123667e+08</td>\n",
       "      <td>4.812711e+07</td>\n",
       "      <td>5.966548e+06</td>\n",
       "      <td>4.803218e+07</td>\n",
       "      <td>0.476261</td>\n",
       "      <td>1.386503e+06</td>\n",
       "      <td>8.156880e+05</td>\n",
       "      <td>8.156880e+05</td>\n",
       "      <td>20.695814</td>\n",
       "      <td>1.687401</td>\n",
       "      <td>2.685943e+05</td>\n",
       "      <td>4300.442634</td>\n",
       "    </tr>\n",
       "    <tr>\n",
       "      <th>min</th>\n",
       "      <td>11.000000</td>\n",
       "      <td>9.114000e+03</td>\n",
       "      <td>1.320444e+09</td>\n",
       "      <td>1.344488e+09</td>\n",
       "      <td>0.008932</td>\n",
       "      <td>3.000000e+03</td>\n",
       "      <td>1.128059e+07</td>\n",
       "      <td>1.341924e+09</td>\n",
       "      <td>1.001086e+06</td>\n",
       "      <td>1.344492e+09</td>\n",
       "      <td>0.008771</td>\n",
       "      <td>9.119243e+03</td>\n",
       "      <td>5.762800e+04</td>\n",
       "      <td>5.762800e+04</td>\n",
       "      <td>0.000000</td>\n",
       "      <td>0.000000</td>\n",
       "      <td>1.350864e+02</td>\n",
       "      <td>12.926409</td>\n",
       "    </tr>\n",
       "    <tr>\n",
       "      <th>25%</th>\n",
       "      <td>506.000000</td>\n",
       "      <td>8.443900e+04</td>\n",
       "      <td>1.487620e+09</td>\n",
       "      <td>1.494659e+09</td>\n",
       "      <td>0.008938</td>\n",
       "      <td>5.000000e+04</td>\n",
       "      <td>5.958455e+08</td>\n",
       "      <td>1.491284e+09</td>\n",
       "      <td>1.215905e+06</td>\n",
       "      <td>1.494659e+09</td>\n",
       "      <td>0.009208</td>\n",
       "      <td>8.270277e+04</td>\n",
       "      <td>2.882310e+06</td>\n",
       "      <td>2.882310e+06</td>\n",
       "      <td>21.000000</td>\n",
       "      <td>0.000000</td>\n",
       "      <td>1.274251e+04</td>\n",
       "      <td>231.205900</td>\n",
       "    </tr>\n",
       "    <tr>\n",
       "      <th>50%</th>\n",
       "      <td>2792.000000</td>\n",
       "      <td>9.819020e+05</td>\n",
       "      <td>1.520412e+09</td>\n",
       "      <td>1.528981e+09</td>\n",
       "      <td>0.717612</td>\n",
       "      <td>1.500000e+05</td>\n",
       "      <td>1.124953e+09</td>\n",
       "      <td>1.526106e+09</td>\n",
       "      <td>1.570959e+06</td>\n",
       "      <td>1.528981e+09</td>\n",
       "      <td>0.745594</td>\n",
       "      <td>9.644361e+05</td>\n",
       "      <td>3.315203e+06</td>\n",
       "      <td>3.315203e+06</td>\n",
       "      <td>36.000000</td>\n",
       "      <td>0.000000</td>\n",
       "      <td>3.038789e+04</td>\n",
       "      <td>1135.404974</td>\n",
       "    </tr>\n",
       "    <tr>\n",
       "      <th>75%</th>\n",
       "      <td>9522.000000</td>\n",
       "      <td>1.428519e+06</td>\n",
       "      <td>1.536241e+09</td>\n",
       "      <td>1.543273e+09</td>\n",
       "      <td>1.000000</td>\n",
       "      <td>9.000000e+05</td>\n",
       "      <td>1.653242e+09</td>\n",
       "      <td>1.540224e+09</td>\n",
       "      <td>2.548909e+06</td>\n",
       "      <td>1.543273e+09</td>\n",
       "      <td>1.000000</td>\n",
       "      <td>1.428520e+06</td>\n",
       "      <td>3.465921e+06</td>\n",
       "      <td>3.465921e+06</td>\n",
       "      <td>50.000000</td>\n",
       "      <td>1.000000</td>\n",
       "      <td>9.000000e+04</td>\n",
       "      <td>3203.762000</td>\n",
       "    </tr>\n",
       "    <tr>\n",
       "      <th>max</th>\n",
       "      <td>105857.000000</td>\n",
       "      <td>1.046949e+07</td>\n",
       "      <td>1.552585e+09</td>\n",
       "      <td>1.556897e+09</td>\n",
       "      <td>1.305771</td>\n",
       "      <td>6.800000e+07</td>\n",
       "      <td>2.147112e+09</td>\n",
       "      <td>1.554305e+09</td>\n",
       "      <td>8.103074e+07</td>\n",
       "      <td>1.555077e+09</td>\n",
       "      <td>1.642856</td>\n",
       "      <td>1.046949e+07</td>\n",
       "      <td>3.689385e+06</td>\n",
       "      <td>3.689385e+06</td>\n",
       "      <td>115.000000</td>\n",
       "      <td>13.000000</td>\n",
       "      <td>2.000000e+06</td>\n",
       "      <td>39595.380667</td>\n",
       "    </tr>\n",
       "  </tbody>\n",
       "</table>\n",
       "</div>"
      ],
      "text/plain": [
       "       backers_count  converted_pledged_amount    created_at      deadline  \\\n",
       "count     437.000000              4.370000e+02  4.370000e+02  4.370000e+02   \n",
       "mean     8035.633867              1.061063e+06  1.501565e+09  1.509566e+09   \n",
       "std     13875.758591              1.385473e+06  4.910240e+07  4.810635e+07   \n",
       "min        11.000000              9.114000e+03  1.320444e+09  1.344488e+09   \n",
       "25%       506.000000              8.443900e+04  1.487620e+09  1.494659e+09   \n",
       "50%      2792.000000              9.819020e+05  1.520412e+09  1.528981e+09   \n",
       "75%      9522.000000              1.428519e+06  1.536241e+09  1.543273e+09   \n",
       "max    105857.000000              1.046949e+07  1.552585e+09  1.556897e+09   \n",
       "\n",
       "          fx_rate          goal            id   launched_at       pledged  \\\n",
       "count  437.000000  4.370000e+02  4.370000e+02  4.370000e+02  4.370000e+02   \n",
       "mean     0.533386  1.096592e+06  1.094021e+09  1.506404e+09  2.904833e+06   \n",
       "std      0.473368  3.977572e+06  6.123667e+08  4.812711e+07  5.966548e+06   \n",
       "min      0.008932  3.000000e+03  1.128059e+07  1.341924e+09  1.001086e+06   \n",
       "25%      0.008938  5.000000e+04  5.958455e+08  1.491284e+09  1.215905e+06   \n",
       "50%      0.717612  1.500000e+05  1.124953e+09  1.526106e+09  1.570959e+06   \n",
       "75%      1.000000  9.000000e+05  1.653242e+09  1.540224e+09  2.548909e+06   \n",
       "max      1.305771  6.800000e+07  2.147112e+09  1.554305e+09  8.103074e+07   \n",
       "\n",
       "       state_changed_at  static_usd_rate   usd_pledged    profile_id  \\\n",
       "count      4.370000e+02       437.000000  4.370000e+02  4.060000e+02   \n",
       "mean       1.509486e+09         0.535515  1.060952e+06  2.963912e+06   \n",
       "std        4.803218e+07         0.476261  1.386503e+06  8.156880e+05   \n",
       "min        1.344492e+09         0.008771  9.119243e+03  5.762800e+04   \n",
       "25%        1.494659e+09         0.009208  8.270277e+04  2.882310e+06   \n",
       "50%        1.528981e+09         0.745594  9.644361e+05  3.315203e+06   \n",
       "75%        1.543273e+09         1.000000  1.428520e+06  3.465921e+06   \n",
       "max        1.555077e+09         1.642856  1.046949e+07  3.689385e+06   \n",
       "\n",
       "       profile_project_id   img_count   vid_count      usd_goal  percent_goal  \n",
       "count        4.060000e+02  437.000000  437.000000  4.370000e+02    437.000000  \n",
       "mean         2.963912e+06   37.290618    0.823799  1.135394e+05   2569.778965  \n",
       "std          8.156880e+05   20.695814    1.687401  2.685943e+05   4300.442634  \n",
       "min          5.762800e+04    0.000000    0.000000  1.350864e+02     12.926409  \n",
       "25%          2.882310e+06   21.000000    0.000000  1.274251e+04    231.205900  \n",
       "50%          3.315203e+06   36.000000    0.000000  3.038789e+04   1135.404974  \n",
       "75%          3.465921e+06   50.000000    1.000000  9.000000e+04   3203.762000  \n",
       "max          3.689385e+06  115.000000   13.000000  2.000000e+06  39595.380667  "
      ]
     },
     "execution_count": 21,
     "metadata": {},
     "output_type": "execute_result"
    }
   ],
   "source": [
    "df[df['pledged'] >= 1000000].describe()\n",
    "## 437 projects have raised more than 1 million. "
   ]
  },
  {
   "cell_type": "code",
   "execution_count": 22,
   "metadata": {
    "scrolled": true
   },
   "outputs": [
    {
     "data": {
      "text/html": [
       "<div>\n",
       "<style scoped>\n",
       "    .dataframe tbody tr th:only-of-type {\n",
       "        vertical-align: middle;\n",
       "    }\n",
       "\n",
       "    .dataframe tbody tr th {\n",
       "        vertical-align: top;\n",
       "    }\n",
       "\n",
       "    .dataframe thead th {\n",
       "        text-align: right;\n",
       "    }\n",
       "</style>\n",
       "<table border=\"1\" class=\"dataframe\">\n",
       "  <thead>\n",
       "    <tr style=\"text-align: right;\">\n",
       "      <th></th>\n",
       "      <th>backers_count</th>\n",
       "      <th>blurb</th>\n",
       "      <th>category</th>\n",
       "      <th>converted_pledged_amount</th>\n",
       "      <th>country</th>\n",
       "      <th>created_at</th>\n",
       "      <th>creator</th>\n",
       "      <th>currency</th>\n",
       "      <th>currency_trailing_code</th>\n",
       "      <th>current_currency</th>\n",
       "      <th>...</th>\n",
       "      <th>urls_web</th>\n",
       "      <th>web_url</th>\n",
       "      <th>description</th>\n",
       "      <th>img_count</th>\n",
       "      <th>vid_count</th>\n",
       "      <th>rewards</th>\n",
       "      <th>category_core</th>\n",
       "      <th>usd_goal</th>\n",
       "      <th>percent_goal</th>\n",
       "      <th>vid_usage</th>\n",
       "    </tr>\n",
       "  </thead>\n",
       "  <tbody>\n",
       "    <tr>\n",
       "      <th>7195</th>\n",
       "      <td>59</td>\n",
       "      <td>The real musical of fighting mahoshonen - the ...</td>\n",
       "      <td>{\"id\":29,\"name\":\"Animation\",\"slug\":\"film &amp; vid...</td>\n",
       "      <td>9788</td>\n",
       "      <td>JP</td>\n",
       "      <td>1546999542</td>\n",
       "      <td>{\"id\":736392324,\"name\":\"魔法少年プロジェクト\",\"slug\":\"ma...</td>\n",
       "      <td>JPY</td>\n",
       "      <td>False</td>\n",
       "      <td>USD</td>\n",
       "      <td>...</td>\n",
       "      <td>{'project': 'https://www.kickstarter.com/proje...</td>\n",
       "      <td>https://www.kickstarter.com/projects/mahoshone...</td>\n",
       "      <td>（日本語はずーーーっと下にございます。）\\nProject outline\\nWhile v...</td>\n",
       "      <td>18.0</td>\n",
       "      <td>0.0</td>\n",
       "      <td>[500, 6000, 7000, 8888, 10101, 30000, 70000, 1...</td>\n",
       "      <td>film &amp; video</td>\n",
       "      <td>36009.920</td>\n",
       "      <td>27.379725</td>\n",
       "      <td>False</td>\n",
       "    </tr>\n",
       "    <tr>\n",
       "      <th>8354</th>\n",
       "      <td>59</td>\n",
       "      <td>The real musical of fighting mahoshonen - the ...</td>\n",
       "      <td>{\"id\":29,\"name\":\"Animation\",\"slug\":\"film &amp; vid...</td>\n",
       "      <td>9782</td>\n",
       "      <td>JP</td>\n",
       "      <td>1546999542</td>\n",
       "      <td>{\"id\":736392324,\"name\":\"魔法少年プロジェクト\",\"slug\":\"ma...</td>\n",
       "      <td>JPY</td>\n",
       "      <td>False</td>\n",
       "      <td>USD</td>\n",
       "      <td>...</td>\n",
       "      <td>{'project': 'https://www.kickstarter.com/proje...</td>\n",
       "      <td>https://www.kickstarter.com/projects/mahoshone...</td>\n",
       "      <td>（日本語はずーーーっと下にございます。）\\nProject outline\\nWhile v...</td>\n",
       "      <td>18.0</td>\n",
       "      <td>0.0</td>\n",
       "      <td>[500, 6000, 7000, 8888, 10101, 30000, 70000, 1...</td>\n",
       "      <td>film &amp; video</td>\n",
       "      <td>36009.920</td>\n",
       "      <td>27.379725</td>\n",
       "      <td>False</td>\n",
       "    </tr>\n",
       "    <tr>\n",
       "      <th>17336</th>\n",
       "      <td>85</td>\n",
       "      <td>Simply attach Cabot to a cajon box drum for a ...</td>\n",
       "      <td>{\"id\":339,\"name\":\"Sound\",\"slug\":\"technology/so...</td>\n",
       "      <td>32538</td>\n",
       "      <td>JP</td>\n",
       "      <td>1512556516</td>\n",
       "      <td>{\"id\":291424847,\"name\":\"UTSUWA Inc.\",\"is_regis...</td>\n",
       "      <td>JPY</td>\n",
       "      <td>False</td>\n",
       "      <td>USD</td>\n",
       "      <td>...</td>\n",
       "      <td>{'project': 'https://www.kickstarter.com/proje...</td>\n",
       "      <td>https://www.kickstarter.com/projects/291424847...</td>\n",
       "      <td>For Japanese summary please click here. 日本語の説明...</td>\n",
       "      <td>13.0</td>\n",
       "      <td>0.0</td>\n",
       "      <td>[700, 71280, 83160, 92571, 95040, 108000, 123429]</td>\n",
       "      <td>technology</td>\n",
       "      <td>42195.524</td>\n",
       "      <td>76.934217</td>\n",
       "      <td>False</td>\n",
       "    </tr>\n",
       "    <tr>\n",
       "      <th>36660</th>\n",
       "      <td>13</td>\n",
       "      <td>Enjoy the virtuosity pouring out of these Loud...</td>\n",
       "      <td>{\"id\":339,\"name\":\"Sound\",\"slug\":\"technology/so...</td>\n",
       "      <td>12811</td>\n",
       "      <td>JP</td>\n",
       "      <td>1538540006</td>\n",
       "      <td>{\"id\":1466436381,\"name\":\"Nagoya Lumber Co., Lt...</td>\n",
       "      <td>JPY</td>\n",
       "      <td>False</td>\n",
       "      <td>USD</td>\n",
       "      <td>...</td>\n",
       "      <td>{'project': 'https://www.kickstarter.com/proje...</td>\n",
       "      <td>https://www.kickstarter.com/projects/146643638...</td>\n",
       "      <td>(You will be transferred to another website. 別...</td>\n",
       "      <td>20.0</td>\n",
       "      <td>4.0</td>\n",
       "      <td>[233280, 247860, 262440]</td>\n",
       "      <td>technology</td>\n",
       "      <td>4520.935</td>\n",
       "      <td>286.673800</td>\n",
       "      <td>True</td>\n",
       "    </tr>\n",
       "    <tr>\n",
       "      <th>43130</th>\n",
       "      <td>13</td>\n",
       "      <td>Enjoy the virtuosity pouring out of these Loud...</td>\n",
       "      <td>{\"id\":339,\"name\":\"Sound\",\"slug\":\"technology/so...</td>\n",
       "      <td>12802</td>\n",
       "      <td>JP</td>\n",
       "      <td>1538540006</td>\n",
       "      <td>{\"id\":1466436381,\"name\":\"Nagoya Lumber Co., Lt...</td>\n",
       "      <td>JPY</td>\n",
       "      <td>False</td>\n",
       "      <td>USD</td>\n",
       "      <td>...</td>\n",
       "      <td>{'project': 'https://www.kickstarter.com/proje...</td>\n",
       "      <td>https://www.kickstarter.com/projects/146643638...</td>\n",
       "      <td>(You will be transferred to another website. 別...</td>\n",
       "      <td>20.0</td>\n",
       "      <td>4.0</td>\n",
       "      <td>[233280, 247860, 262440]</td>\n",
       "      <td>technology</td>\n",
       "      <td>4520.935</td>\n",
       "      <td>286.673800</td>\n",
       "      <td>True</td>\n",
       "    </tr>\n",
       "    <tr>\n",
       "      <th>55468</th>\n",
       "      <td>501</td>\n",
       "      <td>日本のアニメ監督・入江泰浩のオリジナル漫画「ハロウィン・パジャマ」を20分のミュージカルアニ...</td>\n",
       "      <td>{\"id\":29,\"name\":\"Animation\",\"slug\":\"film &amp; vid...</td>\n",
       "      <td>58611</td>\n",
       "      <td>JP</td>\n",
       "      <td>1505408005</td>\n",
       "      <td>{\"id\":1489287301,\"name\":\"Yasuhiro Irie\",\"is_re...</td>\n",
       "      <td>JPY</td>\n",
       "      <td>False</td>\n",
       "      <td>USD</td>\n",
       "      <td>...</td>\n",
       "      <td>{'project': 'https://www.kickstarter.com/proje...</td>\n",
       "      <td>https://www.kickstarter.com/projects/148928730...</td>\n",
       "      <td>Sample PDF Download (New 2017/11/19)\\n \\nHallo...</td>\n",
       "      <td>48.0</td>\n",
       "      <td>0.0</td>\n",
       "      <td>[200, 500, 1000, 2500, 5000, 5000, 7500, 10000...</td>\n",
       "      <td>film &amp; video</td>\n",
       "      <td>177068.800</td>\n",
       "      <td>32.994920</td>\n",
       "      <td>False</td>\n",
       "    </tr>\n",
       "    <tr>\n",
       "      <th>74438</th>\n",
       "      <td>268</td>\n",
       "      <td>Help us bring the fun addicting classic PixelJ...</td>\n",
       "      <td>{\"id\":272,\"name\":\"Mobile Games\",\"slug\":\"games/...</td>\n",
       "      <td>15305</td>\n",
       "      <td>JP</td>\n",
       "      <td>1505287391</td>\n",
       "      <td>{\"id\":184906018,\"name\":\"Q-Games Ltd.\",\"slug\":\"...</td>\n",
       "      <td>JPY</td>\n",
       "      <td>False</td>\n",
       "      <td>USD</td>\n",
       "      <td>...</td>\n",
       "      <td>{'project': 'https://www.kickstarter.com/proje...</td>\n",
       "      <td>https://www.kickstarter.com/projects/q-games/p...</td>\n",
       "      <td>A call to arms for PixelJunk Monsters on mobil...</td>\n",
       "      <td>85.0</td>\n",
       "      <td>2.0</td>\n",
       "      <td>[100, 1000, 2000, 2000, 3000, 3000, 5000, 6000...</td>\n",
       "      <td>games</td>\n",
       "      <td>107110.560</td>\n",
       "      <td>14.410342</td>\n",
       "      <td>True</td>\n",
       "    </tr>\n",
       "    <tr>\n",
       "      <th>74690</th>\n",
       "      <td>132</td>\n",
       "      <td>Director Yutaka Yamamoto’s \"Hakubo\" is out in ...</td>\n",
       "      <td>{\"id\":29,\"name\":\"Animation\",\"slug\":\"film &amp; vid...</td>\n",
       "      <td>12634</td>\n",
       "      <td>JP</td>\n",
       "      <td>1549003516</td>\n",
       "      <td>{\"id\":1409632367,\"name\":\"Project Twilight\",\"is...</td>\n",
       "      <td>JPY</td>\n",
       "      <td>False</td>\n",
       "      <td>USD</td>\n",
       "      <td>...</td>\n",
       "      <td>{'project': 'https://www.kickstarter.com/proje...</td>\n",
       "      <td>https://www.kickstarter.com/projects/140963236...</td>\n",
       "      <td>\\nTohoku Trilogy has been my passion project f...</td>\n",
       "      <td>11.0</td>\n",
       "      <td>0.0</td>\n",
       "      <td>[500, 2500, 7500, 10800, 16200, 27000, 32000, ...</td>\n",
       "      <td>film &amp; video</td>\n",
       "      <td>45210.600</td>\n",
       "      <td>28.016180</td>\n",
       "      <td>False</td>\n",
       "    </tr>\n",
       "    <tr>\n",
       "      <th>74797</th>\n",
       "      <td>79794</td>\n",
       "      <td>Critical Role's The Legend of Vox Machina reun...</td>\n",
       "      <td>{\"id\":29,\"name\":\"Animation\",\"slug\":\"film &amp; vid...</td>\n",
       "      <td>10469488</td>\n",
       "      <td>US</td>\n",
       "      <td>1549660952</td>\n",
       "      <td>{\"id\":1007835190,\"name\":\"Critical Role\",\"slug\"...</td>\n",
       "      <td>USD</td>\n",
       "      <td>True</td>\n",
       "      <td>USD</td>\n",
       "      <td>...</td>\n",
       "      <td>{'project': 'https://www.kickstarter.com/proje...</td>\n",
       "      <td>https://www.kickstarter.com/projects/criticalr...</td>\n",
       "      <td>Bidet!\\nAfter an amazing 45-days, our Kickstar...</td>\n",
       "      <td>16.0</td>\n",
       "      <td>0.0</td>\n",
       "      <td>[20, 50, 100, 200, 300, 400, 500, 750, 1000, 2...</td>\n",
       "      <td>film &amp; video</td>\n",
       "      <td>750000.000</td>\n",
       "      <td>1395.931791</td>\n",
       "      <td>False</td>\n",
       "    </tr>\n",
       "    <tr>\n",
       "      <th>136051</th>\n",
       "      <td>12928</td>\n",
       "      <td>Travel Pants made from a magical blend of Bamb...</td>\n",
       "      <td>{\"id\":28,\"name\":\"Product Design\",\"slug\":\"desig...</td>\n",
       "      <td>2180733</td>\n",
       "      <td>US</td>\n",
       "      <td>1552585269</td>\n",
       "      <td>{\"id\":597538543,\"name\":\"BAUBAX LLC\",\"slug\":\"ba...</td>\n",
       "      <td>USD</td>\n",
       "      <td>True</td>\n",
       "      <td>USD</td>\n",
       "      <td>...</td>\n",
       "      <td>{'project': 'https://www.kickstarter.com/proje...</td>\n",
       "      <td>https://www.kickstarter.com/projects/baubax/th...</td>\n",
       "      <td>BauBax Pants feel  light and will not weigh yo...</td>\n",
       "      <td>64.0</td>\n",
       "      <td>0.0</td>\n",
       "      <td>[1, 98, 108, 118, 118, 128, 188, 198, 218, 218...</td>\n",
       "      <td>design</td>\n",
       "      <td>50000.000</td>\n",
       "      <td>4361.467000</td>\n",
       "      <td>False</td>\n",
       "    </tr>\n",
       "    <tr>\n",
       "      <th>169887</th>\n",
       "      <td>103</td>\n",
       "      <td>A device dedicated to text creation</td>\n",
       "      <td>{\"id\":337,\"name\":\"Gadgets\",\"slug\":\"technology/...</td>\n",
       "      <td>32269</td>\n",
       "      <td>JP</td>\n",
       "      <td>1520406377</td>\n",
       "      <td>{\"id\":2132003782,\"name\":\"KING JIM\",\"is_registe...</td>\n",
       "      <td>JPY</td>\n",
       "      <td>False</td>\n",
       "      <td>USD</td>\n",
       "      <td>...</td>\n",
       "      <td>{'project': 'https://www.kickstarter.com/proje...</td>\n",
       "      <td>https://www.kickstarter.com/projects/213200378...</td>\n",
       "      <td>This mobile device is called pomera, dedicated...</td>\n",
       "      <td>29.0</td>\n",
       "      <td>1.0</td>\n",
       "      <td>[38500, 44000, 49500]</td>\n",
       "      <td>technology</td>\n",
       "      <td>91460.300</td>\n",
       "      <td>35.574090</td>\n",
       "      <td>True</td>\n",
       "    </tr>\n",
       "    <tr>\n",
       "      <th>171726</th>\n",
       "      <td>12932</td>\n",
       "      <td>Travel Pants made from a magical blend of Bamb...</td>\n",
       "      <td>{\"id\":28,\"name\":\"Product Design\",\"slug\":\"desig...</td>\n",
       "      <td>2181209</td>\n",
       "      <td>US</td>\n",
       "      <td>1552585269</td>\n",
       "      <td>{\"id\":597538543,\"name\":\"BAUBAX LLC\",\"slug\":\"ba...</td>\n",
       "      <td>USD</td>\n",
       "      <td>True</td>\n",
       "      <td>USD</td>\n",
       "      <td>...</td>\n",
       "      <td>{'project': 'https://www.kickstarter.com/proje...</td>\n",
       "      <td>https://www.kickstarter.com/projects/baubax/th...</td>\n",
       "      <td>BauBax Pants feel  light and will not weigh yo...</td>\n",
       "      <td>64.0</td>\n",
       "      <td>0.0</td>\n",
       "      <td>[1, 98, 108, 118, 118, 128, 188, 198, 218, 218...</td>\n",
       "      <td>design</td>\n",
       "      <td>50000.000</td>\n",
       "      <td>4362.419000</td>\n",
       "      <td>False</td>\n",
       "    </tr>\n",
       "    <tr>\n",
       "      <th>178167</th>\n",
       "      <td>775</td>\n",
       "      <td>The world's most advanced jacket for SMARTPHON...</td>\n",
       "      <td>{\"id\":341,\"name\":\"Wearables\",\"slug\":\"technolog...</td>\n",
       "      <td>1076751</td>\n",
       "      <td>US</td>\n",
       "      <td>1477644946</td>\n",
       "      <td>{\"id\":2067761922,\"name\":\"HALLAM P NEW YORK, IN...</td>\n",
       "      <td>USD</td>\n",
       "      <td>True</td>\n",
       "      <td>USD</td>\n",
       "      <td>...</td>\n",
       "      <td>{'project': 'https://www.kickstarter.com/proje...</td>\n",
       "      <td>https://www.kickstarter.com/projects/206776192...</td>\n",
       "      <td>\\n \\n \\n 　\\n \\n \\n \\nSELFIE \\n\\n \\n　\\nMUSIC C...</td>\n",
       "      <td>74.0</td>\n",
       "      <td>7.0</td>\n",
       "      <td>[1, 1, 39, 49, 49, 49, 79, 99, 99, 99, 119, 11...</td>\n",
       "      <td>technology</td>\n",
       "      <td>5000.000</td>\n",
       "      <td>21535.021000</td>\n",
       "      <td>True</td>\n",
       "    </tr>\n",
       "    <tr>\n",
       "      <th>195895</th>\n",
       "      <td>79591</td>\n",
       "      <td>Critical Role's The Legend of Vox Machina reun...</td>\n",
       "      <td>{\"id\":29,\"name\":\"Animation\",\"slug\":\"film &amp; vid...</td>\n",
       "      <td>10441174</td>\n",
       "      <td>US</td>\n",
       "      <td>1549660952</td>\n",
       "      <td>{\"id\":1007835190,\"name\":\"Critical Role\",\"slug\"...</td>\n",
       "      <td>USD</td>\n",
       "      <td>True</td>\n",
       "      <td>USD</td>\n",
       "      <td>...</td>\n",
       "      <td>{'project': 'https://www.kickstarter.com/proje...</td>\n",
       "      <td>https://www.kickstarter.com/projects/criticalr...</td>\n",
       "      <td>Bidet!\\nAfter an amazing 45-days, our Kickstar...</td>\n",
       "      <td>16.0</td>\n",
       "      <td>0.0</td>\n",
       "      <td>[20, 50, 100, 200, 300, 400, 500, 750, 1000, 2...</td>\n",
       "      <td>film &amp; video</td>\n",
       "      <td>750000.000</td>\n",
       "      <td>1392.156591</td>\n",
       "      <td>False</td>\n",
       "    </tr>\n",
       "    <tr>\n",
       "      <th>197524</th>\n",
       "      <td>114</td>\n",
       "      <td>KAT (キャット)デビュー10周年記念のアルバム \"TEN\" をリリース！みんなに会いたい...</td>\n",
       "      <td>{\"id\":42,\"name\":\"Pop\",\"slug\":\"music/pop\",\"posi...</td>\n",
       "      <td>10190</td>\n",
       "      <td>JP</td>\n",
       "      <td>1508446860</td>\n",
       "      <td>{\"id\":680710658,\"name\":\"Kat McDowell\",\"is_regi...</td>\n",
       "      <td>JPY</td>\n",
       "      <td>False</td>\n",
       "      <td>USD</td>\n",
       "      <td>...</td>\n",
       "      <td>{'project': 'https://www.kickstarter.com/proje...</td>\n",
       "      <td>https://www.kickstarter.com/projects/680710658...</td>\n",
       "      <td>日本の皆さん、 今日は大切なお知らせがあります！　新しいアルバム “TEN” の2018年春...</td>\n",
       "      <td>3.0</td>\n",
       "      <td>0.0</td>\n",
       "      <td>[3000, 4000, 5500, 10500, 15000, 20900, 21000,...</td>\n",
       "      <td>music</td>\n",
       "      <td>11539.502</td>\n",
       "      <td>86.851538</td>\n",
       "      <td>False</td>\n",
       "    </tr>\n",
       "    <tr>\n",
       "      <th>197863</th>\n",
       "      <td>83</td>\n",
       "      <td>The new standard for digital watches. All of t...</td>\n",
       "      <td>{\"id\":28,\"name\":\"Product Design\",\"slug\":\"desig...</td>\n",
       "      <td>15542</td>\n",
       "      <td>JP</td>\n",
       "      <td>1539317052</td>\n",
       "      <td>{\"id\":1106138816,\"name\":\"Normal Timepieces\",\"s...</td>\n",
       "      <td>JPY</td>\n",
       "      <td>False</td>\n",
       "      <td>USD</td>\n",
       "      <td>...</td>\n",
       "      <td>{'project': 'https://www.kickstarter.com/proje...</td>\n",
       "      <td>https://www.kickstarter.com/projects/normaltim...</td>\n",
       "      <td>This watch is named “Tokiji”. The direct trans...</td>\n",
       "      <td>36.0</td>\n",
       "      <td>3.0</td>\n",
       "      <td>[18000, 20000, 21000, 33700, 34700]</td>\n",
       "      <td>design</td>\n",
       "      <td>10776.132</td>\n",
       "      <td>144.909083</td>\n",
       "      <td>True</td>\n",
       "    </tr>\n",
       "    <tr>\n",
       "      <th>203059</th>\n",
       "      <td>84</td>\n",
       "      <td>The new standard for digital watches. All of t...</td>\n",
       "      <td>{\"id\":28,\"name\":\"Product Design\",\"slug\":\"desig...</td>\n",
       "      <td>15720</td>\n",
       "      <td>JP</td>\n",
       "      <td>1539317052</td>\n",
       "      <td>{\"id\":1106138816,\"name\":\"Normal Timepieces\",\"s...</td>\n",
       "      <td>JPY</td>\n",
       "      <td>False</td>\n",
       "      <td>USD</td>\n",
       "      <td>...</td>\n",
       "      <td>{'project': 'https://www.kickstarter.com/proje...</td>\n",
       "      <td>https://www.kickstarter.com/projects/normaltim...</td>\n",
       "      <td>This watch is named “Tokiji”. The direct trans...</td>\n",
       "      <td>36.0</td>\n",
       "      <td>3.0</td>\n",
       "      <td>[18000, 20000, 21000, 33700, 34700]</td>\n",
       "      <td>design</td>\n",
       "      <td>10776.132</td>\n",
       "      <td>146.575750</td>\n",
       "      <td>True</td>\n",
       "    </tr>\n",
       "    <tr>\n",
       "      <th>209753</th>\n",
       "      <td>17</td>\n",
       "      <td>\"BIG CLAPPER\" is a CLAPPING ROBOT from Japan t...</td>\n",
       "      <td>{\"id\":338,\"name\":\"Robots\",\"slug\":\"technology/r...</td>\n",
       "      <td>13088</td>\n",
       "      <td>JP</td>\n",
       "      <td>1521785627</td>\n",
       "      <td>{\"id\":1751157732,\"name\":\"Masato Takahashi, Dev...</td>\n",
       "      <td>JPY</td>\n",
       "      <td>False</td>\n",
       "      <td>USD</td>\n",
       "      <td>...</td>\n",
       "      <td>{'project': 'https://www.kickstarter.com/proje...</td>\n",
       "      <td>https://www.kickstarter.com/projects/byebyewor...</td>\n",
       "      <td>↑Click\\n It utilizes technology for reproduci...</td>\n",
       "      <td>20.0</td>\n",
       "      <td>6.0</td>\n",
       "      <td>[348000, 398000, 690000, 1000000]</td>\n",
       "      <td>technology</td>\n",
       "      <td>101958.750</td>\n",
       "      <td>12.926409</td>\n",
       "      <td>True</td>\n",
       "    </tr>\n",
       "  </tbody>\n",
       "</table>\n",
       "<p>18 rows × 55 columns</p>\n",
       "</div>"
      ],
      "text/plain": [
       "        backers_count                                              blurb  \\\n",
       "7195               59  The real musical of fighting mahoshonen - the ...   \n",
       "8354               59  The real musical of fighting mahoshonen - the ...   \n",
       "17336              85  Simply attach Cabot to a cajon box drum for a ...   \n",
       "36660              13  Enjoy the virtuosity pouring out of these Loud...   \n",
       "43130              13  Enjoy the virtuosity pouring out of these Loud...   \n",
       "55468             501  日本のアニメ監督・入江泰浩のオリジナル漫画「ハロウィン・パジャマ」を20分のミュージカルアニ...   \n",
       "74438             268  Help us bring the fun addicting classic PixelJ...   \n",
       "74690             132  Director Yutaka Yamamoto’s \"Hakubo\" is out in ...   \n",
       "74797           79794  Critical Role's The Legend of Vox Machina reun...   \n",
       "136051          12928  Travel Pants made from a magical blend of Bamb...   \n",
       "169887            103                A device dedicated to text creation   \n",
       "171726          12932  Travel Pants made from a magical blend of Bamb...   \n",
       "178167            775  The world's most advanced jacket for SMARTPHON...   \n",
       "195895          79591  Critical Role's The Legend of Vox Machina reun...   \n",
       "197524            114  KAT (キャット)デビュー10周年記念のアルバム \"TEN\" をリリース！みんなに会いたい...   \n",
       "197863             83  The new standard for digital watches. All of t...   \n",
       "203059             84  The new standard for digital watches. All of t...   \n",
       "209753             17  \"BIG CLAPPER\" is a CLAPPING ROBOT from Japan t...   \n",
       "\n",
       "                                                 category  \\\n",
       "7195    {\"id\":29,\"name\":\"Animation\",\"slug\":\"film & vid...   \n",
       "8354    {\"id\":29,\"name\":\"Animation\",\"slug\":\"film & vid...   \n",
       "17336   {\"id\":339,\"name\":\"Sound\",\"slug\":\"technology/so...   \n",
       "36660   {\"id\":339,\"name\":\"Sound\",\"slug\":\"technology/so...   \n",
       "43130   {\"id\":339,\"name\":\"Sound\",\"slug\":\"technology/so...   \n",
       "55468   {\"id\":29,\"name\":\"Animation\",\"slug\":\"film & vid...   \n",
       "74438   {\"id\":272,\"name\":\"Mobile Games\",\"slug\":\"games/...   \n",
       "74690   {\"id\":29,\"name\":\"Animation\",\"slug\":\"film & vid...   \n",
       "74797   {\"id\":29,\"name\":\"Animation\",\"slug\":\"film & vid...   \n",
       "136051  {\"id\":28,\"name\":\"Product Design\",\"slug\":\"desig...   \n",
       "169887  {\"id\":337,\"name\":\"Gadgets\",\"slug\":\"technology/...   \n",
       "171726  {\"id\":28,\"name\":\"Product Design\",\"slug\":\"desig...   \n",
       "178167  {\"id\":341,\"name\":\"Wearables\",\"slug\":\"technolog...   \n",
       "195895  {\"id\":29,\"name\":\"Animation\",\"slug\":\"film & vid...   \n",
       "197524  {\"id\":42,\"name\":\"Pop\",\"slug\":\"music/pop\",\"posi...   \n",
       "197863  {\"id\":28,\"name\":\"Product Design\",\"slug\":\"desig...   \n",
       "203059  {\"id\":28,\"name\":\"Product Design\",\"slug\":\"desig...   \n",
       "209753  {\"id\":338,\"name\":\"Robots\",\"slug\":\"technology/r...   \n",
       "\n",
       "        converted_pledged_amount country  created_at  \\\n",
       "7195                        9788      JP  1546999542   \n",
       "8354                        9782      JP  1546999542   \n",
       "17336                      32538      JP  1512556516   \n",
       "36660                      12811      JP  1538540006   \n",
       "43130                      12802      JP  1538540006   \n",
       "55468                      58611      JP  1505408005   \n",
       "74438                      15305      JP  1505287391   \n",
       "74690                      12634      JP  1549003516   \n",
       "74797                   10469488      US  1549660952   \n",
       "136051                   2180733      US  1552585269   \n",
       "169887                     32269      JP  1520406377   \n",
       "171726                   2181209      US  1552585269   \n",
       "178167                   1076751      US  1477644946   \n",
       "195895                  10441174      US  1549660952   \n",
       "197524                     10190      JP  1508446860   \n",
       "197863                     15542      JP  1539317052   \n",
       "203059                     15720      JP  1539317052   \n",
       "209753                     13088      JP  1521785627   \n",
       "\n",
       "                                                  creator currency  \\\n",
       "7195    {\"id\":736392324,\"name\":\"魔法少年プロジェクト\",\"slug\":\"ma...      JPY   \n",
       "8354    {\"id\":736392324,\"name\":\"魔法少年プロジェクト\",\"slug\":\"ma...      JPY   \n",
       "17336   {\"id\":291424847,\"name\":\"UTSUWA Inc.\",\"is_regis...      JPY   \n",
       "36660   {\"id\":1466436381,\"name\":\"Nagoya Lumber Co., Lt...      JPY   \n",
       "43130   {\"id\":1466436381,\"name\":\"Nagoya Lumber Co., Lt...      JPY   \n",
       "55468   {\"id\":1489287301,\"name\":\"Yasuhiro Irie\",\"is_re...      JPY   \n",
       "74438   {\"id\":184906018,\"name\":\"Q-Games Ltd.\",\"slug\":\"...      JPY   \n",
       "74690   {\"id\":1409632367,\"name\":\"Project Twilight\",\"is...      JPY   \n",
       "74797   {\"id\":1007835190,\"name\":\"Critical Role\",\"slug\"...      USD   \n",
       "136051  {\"id\":597538543,\"name\":\"BAUBAX LLC\",\"slug\":\"ba...      USD   \n",
       "169887  {\"id\":2132003782,\"name\":\"KING JIM\",\"is_registe...      JPY   \n",
       "171726  {\"id\":597538543,\"name\":\"BAUBAX LLC\",\"slug\":\"ba...      USD   \n",
       "178167  {\"id\":2067761922,\"name\":\"HALLAM P NEW YORK, IN...      USD   \n",
       "195895  {\"id\":1007835190,\"name\":\"Critical Role\",\"slug\"...      USD   \n",
       "197524  {\"id\":680710658,\"name\":\"Kat McDowell\",\"is_regi...      JPY   \n",
       "197863  {\"id\":1106138816,\"name\":\"Normal Timepieces\",\"s...      JPY   \n",
       "203059  {\"id\":1106138816,\"name\":\"Normal Timepieces\",\"s...      JPY   \n",
       "209753  {\"id\":1751157732,\"name\":\"Masato Takahashi, Dev...      JPY   \n",
       "\n",
       "        currency_trailing_code current_currency  ...  \\\n",
       "7195                     False              USD  ...   \n",
       "8354                     False              USD  ...   \n",
       "17336                    False              USD  ...   \n",
       "36660                    False              USD  ...   \n",
       "43130                    False              USD  ...   \n",
       "55468                    False              USD  ...   \n",
       "74438                    False              USD  ...   \n",
       "74690                    False              USD  ...   \n",
       "74797                     True              USD  ...   \n",
       "136051                    True              USD  ...   \n",
       "169887                   False              USD  ...   \n",
       "171726                    True              USD  ...   \n",
       "178167                    True              USD  ...   \n",
       "195895                    True              USD  ...   \n",
       "197524                   False              USD  ...   \n",
       "197863                   False              USD  ...   \n",
       "203059                   False              USD  ...   \n",
       "209753                   False              USD  ...   \n",
       "\n",
       "                                                 urls_web  \\\n",
       "7195    {'project': 'https://www.kickstarter.com/proje...   \n",
       "8354    {'project': 'https://www.kickstarter.com/proje...   \n",
       "17336   {'project': 'https://www.kickstarter.com/proje...   \n",
       "36660   {'project': 'https://www.kickstarter.com/proje...   \n",
       "43130   {'project': 'https://www.kickstarter.com/proje...   \n",
       "55468   {'project': 'https://www.kickstarter.com/proje...   \n",
       "74438   {'project': 'https://www.kickstarter.com/proje...   \n",
       "74690   {'project': 'https://www.kickstarter.com/proje...   \n",
       "74797   {'project': 'https://www.kickstarter.com/proje...   \n",
       "136051  {'project': 'https://www.kickstarter.com/proje...   \n",
       "169887  {'project': 'https://www.kickstarter.com/proje...   \n",
       "171726  {'project': 'https://www.kickstarter.com/proje...   \n",
       "178167  {'project': 'https://www.kickstarter.com/proje...   \n",
       "195895  {'project': 'https://www.kickstarter.com/proje...   \n",
       "197524  {'project': 'https://www.kickstarter.com/proje...   \n",
       "197863  {'project': 'https://www.kickstarter.com/proje...   \n",
       "203059  {'project': 'https://www.kickstarter.com/proje...   \n",
       "209753  {'project': 'https://www.kickstarter.com/proje...   \n",
       "\n",
       "                                                  web_url  \\\n",
       "7195    https://www.kickstarter.com/projects/mahoshone...   \n",
       "8354    https://www.kickstarter.com/projects/mahoshone...   \n",
       "17336   https://www.kickstarter.com/projects/291424847...   \n",
       "36660   https://www.kickstarter.com/projects/146643638...   \n",
       "43130   https://www.kickstarter.com/projects/146643638...   \n",
       "55468   https://www.kickstarter.com/projects/148928730...   \n",
       "74438   https://www.kickstarter.com/projects/q-games/p...   \n",
       "74690   https://www.kickstarter.com/projects/140963236...   \n",
       "74797   https://www.kickstarter.com/projects/criticalr...   \n",
       "136051  https://www.kickstarter.com/projects/baubax/th...   \n",
       "169887  https://www.kickstarter.com/projects/213200378...   \n",
       "171726  https://www.kickstarter.com/projects/baubax/th...   \n",
       "178167  https://www.kickstarter.com/projects/206776192...   \n",
       "195895  https://www.kickstarter.com/projects/criticalr...   \n",
       "197524  https://www.kickstarter.com/projects/680710658...   \n",
       "197863  https://www.kickstarter.com/projects/normaltim...   \n",
       "203059  https://www.kickstarter.com/projects/normaltim...   \n",
       "209753  https://www.kickstarter.com/projects/byebyewor...   \n",
       "\n",
       "                                              description  img_count  \\\n",
       "7195    （日本語はずーーーっと下にございます。）\\nProject outline\\nWhile v...       18.0   \n",
       "8354    （日本語はずーーーっと下にございます。）\\nProject outline\\nWhile v...       18.0   \n",
       "17336   For Japanese summary please click here. 日本語の説明...       13.0   \n",
       "36660   (You will be transferred to another website. 別...       20.0   \n",
       "43130   (You will be transferred to another website. 別...       20.0   \n",
       "55468   Sample PDF Download (New 2017/11/19)\\n \\nHallo...       48.0   \n",
       "74438   A call to arms for PixelJunk Monsters on mobil...       85.0   \n",
       "74690   \\nTohoku Trilogy has been my passion project f...       11.0   \n",
       "74797   Bidet!\\nAfter an amazing 45-days, our Kickstar...       16.0   \n",
       "136051  BauBax Pants feel  light and will not weigh yo...       64.0   \n",
       "169887  This mobile device is called pomera, dedicated...       29.0   \n",
       "171726  BauBax Pants feel  light and will not weigh yo...       64.0   \n",
       "178167   \\n \\n \\n 　\\n \\n \\n \\nSELFIE \\n\\n \\n　\\nMUSIC C...       74.0   \n",
       "195895  Bidet!\\nAfter an amazing 45-days, our Kickstar...       16.0   \n",
       "197524  日本の皆さん、 今日は大切なお知らせがあります！　新しいアルバム “TEN” の2018年春...        3.0   \n",
       "197863  This watch is named “Tokiji”. The direct trans...       36.0   \n",
       "203059  This watch is named “Tokiji”. The direct trans...       36.0   \n",
       "209753   ↑Click\\n It utilizes technology for reproduci...       20.0   \n",
       "\n",
       "        vid_count                                            rewards  \\\n",
       "7195          0.0  [500, 6000, 7000, 8888, 10101, 30000, 70000, 1...   \n",
       "8354          0.0  [500, 6000, 7000, 8888, 10101, 30000, 70000, 1...   \n",
       "17336         0.0  [700, 71280, 83160, 92571, 95040, 108000, 123429]   \n",
       "36660         4.0                           [233280, 247860, 262440]   \n",
       "43130         4.0                           [233280, 247860, 262440]   \n",
       "55468         0.0  [200, 500, 1000, 2500, 5000, 5000, 7500, 10000...   \n",
       "74438         2.0  [100, 1000, 2000, 2000, 3000, 3000, 5000, 6000...   \n",
       "74690         0.0  [500, 2500, 7500, 10800, 16200, 27000, 32000, ...   \n",
       "74797         0.0  [20, 50, 100, 200, 300, 400, 500, 750, 1000, 2...   \n",
       "136051        0.0  [1, 98, 108, 118, 118, 128, 188, 198, 218, 218...   \n",
       "169887        1.0                              [38500, 44000, 49500]   \n",
       "171726        0.0  [1, 98, 108, 118, 118, 128, 188, 198, 218, 218...   \n",
       "178167        7.0  [1, 1, 39, 49, 49, 49, 79, 99, 99, 99, 119, 11...   \n",
       "195895        0.0  [20, 50, 100, 200, 300, 400, 500, 750, 1000, 2...   \n",
       "197524        0.0  [3000, 4000, 5500, 10500, 15000, 20900, 21000,...   \n",
       "197863        3.0                [18000, 20000, 21000, 33700, 34700]   \n",
       "203059        3.0                [18000, 20000, 21000, 33700, 34700]   \n",
       "209753        6.0                  [348000, 398000, 690000, 1000000]   \n",
       "\n",
       "       category_core    usd_goal  percent_goal vid_usage  \n",
       "7195    film & video   36009.920     27.379725     False  \n",
       "8354    film & video   36009.920     27.379725     False  \n",
       "17336     technology   42195.524     76.934217     False  \n",
       "36660     technology    4520.935    286.673800      True  \n",
       "43130     technology    4520.935    286.673800      True  \n",
       "55468   film & video  177068.800     32.994920     False  \n",
       "74438          games  107110.560     14.410342      True  \n",
       "74690   film & video   45210.600     28.016180     False  \n",
       "74797   film & video  750000.000   1395.931791     False  \n",
       "136051        design   50000.000   4361.467000     False  \n",
       "169887    technology   91460.300     35.574090      True  \n",
       "171726        design   50000.000   4362.419000     False  \n",
       "178167    technology    5000.000  21535.021000      True  \n",
       "195895  film & video  750000.000   1392.156591     False  \n",
       "197524         music   11539.502     86.851538     False  \n",
       "197863        design   10776.132    144.909083      True  \n",
       "203059        design   10776.132    146.575750      True  \n",
       "209753    technology  101958.750     12.926409      True  \n",
       "\n",
       "[18 rows x 55 columns]"
      ]
     },
     "execution_count": 22,
     "metadata": {},
     "output_type": "execute_result"
    }
   ],
   "source": [
    "df[(df['pledged'] >= 1000000) & (df['state'] != 'successful')]"
   ]
  },
  {
   "cell_type": "code",
   "execution_count": 23,
   "metadata": {},
   "outputs": [
    {
     "data": {
      "text/plain": [
       "pledged    1.75891e+06\n",
       "goal           1.2e+06\n",
       "state             live\n",
       "Name: 203059, dtype: object"
      ]
     },
     "execution_count": 23,
     "metadata": {},
     "output_type": "execute_result"
    }
   ],
   "source": [
    "df.loc[203059][['pledged', 'goal', 'state']]"
   ]
  },
  {
   "cell_type": "markdown",
   "metadata": {},
   "source": [
    "_Two things we've gathered._   \n",
    "1) Looking at the site for 203059, it's a japanese kickstarter that has a goal of 2.4million yen. That translates to roughly 22,000 USD which is way below our criteria of 1 million. We'll be using the provided usd_pledged column to do analysis on.   \n",
    "2) The state isn't always the best way to rely on information. Since the data was last pulled, the above kickstater has since finished. Even before it was finished, it reached its goal. We may have to create a new feature that simply says \"over goal or under goal\". We may even have to ignore \"LIVE\" kickstarters since they could technically be over goal currently but show under goal at the moment. \"Failed\" and \"cancelled\" kickstarters may also affect this. "
   ]
  },
  {
   "cell_type": "code",
   "execution_count": 46,
   "metadata": {},
   "outputs": [
    {
     "data": {
      "text/plain": [
       "pledged        1.75891e+06\n",
       "goal               1.2e+06\n",
       "usd_pledged        15795.2\n",
       "Name: 203059, dtype: object"
      ]
     },
     "execution_count": 46,
     "metadata": {},
     "output_type": "execute_result"
    }
   ],
   "source": [
    "df.loc[203059][['pledged','goal', 'usd_pledged']]"
   ]
  },
  {
   "cell_type": "code",
   "execution_count": 47,
   "metadata": {},
   "outputs": [
    {
     "name": "stdout",
     "output_type": "stream",
     "text": [
      "usd       15795.19629999\n",
      "not usd   1758909.0\n"
     ]
    },
    {
     "data": {
      "text/plain": [
       "0.008980110000000001"
      ]
     },
     "execution_count": 47,
     "metadata": {},
     "output_type": "execute_result"
    }
   ],
   "source": [
    "print(\"usd      \",df.loc[203059]['usd_pledged'])\n",
    "print(\"not usd  \",df.loc[203059]['pledged'])\n",
    "\n",
    "df.loc[203059]['usd_pledged'] / df.loc[203059]['pledged']"
   ]
  },
  {
   "cell_type": "code",
   "execution_count": 26,
   "metadata": {},
   "outputs": [
    {
     "data": {
      "image/png": "[encoded data removed]",
      "text/plain": [
       "<Figure size 432x288 with 1 Axes>"
      ]
     },
     "metadata": {
      "needs_background": "light"
     },
     "output_type": "display_data"
    }
   ],
   "source": [
    "## Using only usd_pledged at this time\n",
    "\n",
    "plt.hist(df['usd_pledged'], log = True)\n",
    "plt.show()"
   ]
  },
  {
   "cell_type": "code",
   "execution_count": 27,
   "metadata": {},
   "outputs": [
    {
     "data": {
      "text/html": [
       "<div>\n",
       "<style scoped>\n",
       "    .dataframe tbody tr th:only-of-type {\n",
       "        vertical-align: middle;\n",
       "    }\n",
       "\n",
       "    .dataframe tbody tr th {\n",
       "        vertical-align: top;\n",
       "    }\n",
       "\n",
       "    .dataframe thead th {\n",
       "        text-align: right;\n",
       "    }\n",
       "</style>\n",
       "<table border=\"1\" class=\"dataframe\">\n",
       "  <thead>\n",
       "    <tr style=\"text-align: right;\">\n",
       "      <th></th>\n",
       "      <th>backers_count</th>\n",
       "      <th>converted_pledged_amount</th>\n",
       "      <th>created_at</th>\n",
       "      <th>deadline</th>\n",
       "      <th>fx_rate</th>\n",
       "      <th>goal</th>\n",
       "      <th>id</th>\n",
       "      <th>launched_at</th>\n",
       "      <th>pledged</th>\n",
       "      <th>state_changed_at</th>\n",
       "      <th>static_usd_rate</th>\n",
       "      <th>usd_pledged</th>\n",
       "      <th>profile_id</th>\n",
       "      <th>profile_project_id</th>\n",
       "      <th>img_count</th>\n",
       "      <th>vid_count</th>\n",
       "      <th>usd_goal</th>\n",
       "      <th>percent_goal</th>\n",
       "    </tr>\n",
       "  </thead>\n",
       "  <tbody>\n",
       "    <tr>\n",
       "      <th>count</th>\n",
       "      <td>227.000000</td>\n",
       "      <td>2.270000e+02</td>\n",
       "      <td>2.270000e+02</td>\n",
       "      <td>2.270000e+02</td>\n",
       "      <td>227.000000</td>\n",
       "      <td>2.270000e+02</td>\n",
       "      <td>2.270000e+02</td>\n",
       "      <td>2.270000e+02</td>\n",
       "      <td>2.270000e+02</td>\n",
       "      <td>2.270000e+02</td>\n",
       "      <td>227.000000</td>\n",
       "      <td>2.270000e+02</td>\n",
       "      <td>2.140000e+02</td>\n",
       "      <td>2.140000e+02</td>\n",
       "      <td>227.000000</td>\n",
       "      <td>227.000000</td>\n",
       "      <td>2.270000e+02</td>\n",
       "      <td>227.000000</td>\n",
       "    </tr>\n",
       "    <tr>\n",
       "      <th>mean</th>\n",
       "      <td>14735.894273</td>\n",
       "      <td>1.941362e+06</td>\n",
       "      <td>1.479291e+09</td>\n",
       "      <td>1.487782e+09</td>\n",
       "      <td>1.000834</td>\n",
       "      <td>1.903826e+05</td>\n",
       "      <td>1.053413e+09</td>\n",
       "      <td>1.484616e+09</td>\n",
       "      <td>2.022423e+06</td>\n",
       "      <td>1.487717e+09</td>\n",
       "      <td>1.009661</td>\n",
       "      <td>1.942365e+06</td>\n",
       "      <td>2.606472e+06</td>\n",
       "      <td>2.606472e+06</td>\n",
       "      <td>42.528634</td>\n",
       "      <td>0.740088</td>\n",
       "      <td>1.929530e+05</td>\n",
       "      <td>4044.379215</td>\n",
       "    </tr>\n",
       "    <tr>\n",
       "      <th>std</th>\n",
       "      <td>16678.646928</td>\n",
       "      <td>1.446586e+06</td>\n",
       "      <td>5.841822e+07</td>\n",
       "      <td>5.729903e+07</td>\n",
       "      <td>0.136550</td>\n",
       "      <td>3.506797e+05</td>\n",
       "      <td>5.916491e+08</td>\n",
       "      <td>5.735235e+07</td>\n",
       "      <td>1.605175e+06</td>\n",
       "      <td>5.722509e+07</td>\n",
       "      <td>0.160095</td>\n",
       "      <td>1.447352e+06</td>\n",
       "      <td>9.999113e+05</td>\n",
       "      <td>9.999113e+05</td>\n",
       "      <td>19.113837</td>\n",
       "      <td>1.584864</td>\n",
       "      <td>3.541349e+05</td>\n",
       "      <td>5338.176563</td>\n",
       "    </tr>\n",
       "    <tr>\n",
       "      <th>min</th>\n",
       "      <td>630.000000</td>\n",
       "      <td>1.001085e+06</td>\n",
       "      <td>1.320444e+09</td>\n",
       "      <td>1.344488e+09</td>\n",
       "      <td>0.127457</td>\n",
       "      <td>3.000000e+03</td>\n",
       "      <td>1.128059e+07</td>\n",
       "      <td>1.341924e+09</td>\n",
       "      <td>6.724473e+05</td>\n",
       "      <td>1.344492e+09</td>\n",
       "      <td>0.127411</td>\n",
       "      <td>1.001086e+06</td>\n",
       "      <td>5.762800e+04</td>\n",
       "      <td>5.762800e+04</td>\n",
       "      <td>5.000000</td>\n",
       "      <td>0.000000</td>\n",
       "      <td>3.000000e+03</td>\n",
       "      <td>112.074547</td>\n",
       "    </tr>\n",
       "    <tr>\n",
       "      <th>25%</th>\n",
       "      <td>4640.000000</td>\n",
       "      <td>1.147455e+06</td>\n",
       "      <td>1.436797e+09</td>\n",
       "      <td>1.445830e+09</td>\n",
       "      <td>1.000000</td>\n",
       "      <td>3.070800e+04</td>\n",
       "      <td>5.566146e+08</td>\n",
       "      <td>1.442806e+09</td>\n",
       "      <td>1.150511e+06</td>\n",
       "      <td>1.445830e+09</td>\n",
       "      <td>1.000000</td>\n",
       "      <td>1.147571e+06</td>\n",
       "      <td>1.993196e+06</td>\n",
       "      <td>1.993196e+06</td>\n",
       "      <td>28.000000</td>\n",
       "      <td>0.000000</td>\n",
       "      <td>3.000000e+04</td>\n",
       "      <td>1106.045170</td>\n",
       "    </tr>\n",
       "    <tr>\n",
       "      <th>50%</th>\n",
       "      <td>9365.000000</td>\n",
       "      <td>1.419068e+06</td>\n",
       "      <td>1.495694e+09</td>\n",
       "      <td>1.505916e+09</td>\n",
       "      <td>1.000000</td>\n",
       "      <td>5.000000e+04</td>\n",
       "      <td>1.033664e+09</td>\n",
       "      <td>1.500994e+09</td>\n",
       "      <td>1.421904e+06</td>\n",
       "      <td>1.505916e+09</td>\n",
       "      <td>1.000000</td>\n",
       "      <td>1.419069e+06</td>\n",
       "      <td>3.016276e+06</td>\n",
       "      <td>3.016276e+06</td>\n",
       "      <td>41.000000</td>\n",
       "      <td>0.000000</td>\n",
       "      <td>5.000000e+04</td>\n",
       "      <td>2465.225100</td>\n",
       "    </tr>\n",
       "    <tr>\n",
       "      <th>75%</th>\n",
       "      <td>17689.500000</td>\n",
       "      <td>1.979826e+06</td>\n",
       "      <td>1.528574e+09</td>\n",
       "      <td>1.535449e+09</td>\n",
       "      <td>1.000000</td>\n",
       "      <td>1.300000e+05</td>\n",
       "      <td>1.578431e+09</td>\n",
       "      <td>1.532322e+09</td>\n",
       "      <td>2.087798e+06</td>\n",
       "      <td>1.535449e+09</td>\n",
       "      <td>1.000000</td>\n",
       "      <td>1.979826e+06</td>\n",
       "      <td>3.399427e+06</td>\n",
       "      <td>3.399427e+06</td>\n",
       "      <td>54.000000</td>\n",
       "      <td>1.000000</td>\n",
       "      <td>1.238590e+05</td>\n",
       "      <td>5023.827750</td>\n",
       "    </tr>\n",
       "    <tr>\n",
       "      <th>max</th>\n",
       "      <td>105857.000000</td>\n",
       "      <td>1.046949e+07</td>\n",
       "      <td>1.552585e+09</td>\n",
       "      <td>1.556856e+09</td>\n",
       "      <td>1.305771</td>\n",
       "      <td>2.000000e+06</td>\n",
       "      <td>2.129340e+09</td>\n",
       "      <td>1.553609e+09</td>\n",
       "      <td>1.046949e+07</td>\n",
       "      <td>1.554991e+09</td>\n",
       "      <td>1.679783</td>\n",
       "      <td>1.046949e+07</td>\n",
       "      <td>3.689385e+06</td>\n",
       "      <td>3.689385e+06</td>\n",
       "      <td>94.000000</td>\n",
       "      <td>10.000000</td>\n",
       "      <td>2.000000e+06</td>\n",
       "      <td>39595.380667</td>\n",
       "    </tr>\n",
       "  </tbody>\n",
       "</table>\n",
       "</div>"
      ],
      "text/plain": [
       "       backers_count  converted_pledged_amount    created_at      deadline  \\\n",
       "count     227.000000              2.270000e+02  2.270000e+02  2.270000e+02   \n",
       "mean    14735.894273              1.941362e+06  1.479291e+09  1.487782e+09   \n",
       "std     16678.646928              1.446586e+06  5.841822e+07  5.729903e+07   \n",
       "min       630.000000              1.001085e+06  1.320444e+09  1.344488e+09   \n",
       "25%      4640.000000              1.147455e+06  1.436797e+09  1.445830e+09   \n",
       "50%      9365.000000              1.419068e+06  1.495694e+09  1.505916e+09   \n",
       "75%     17689.500000              1.979826e+06  1.528574e+09  1.535449e+09   \n",
       "max    105857.000000              1.046949e+07  1.552585e+09  1.556856e+09   \n",
       "\n",
       "          fx_rate          goal            id   launched_at       pledged  \\\n",
       "count  227.000000  2.270000e+02  2.270000e+02  2.270000e+02  2.270000e+02   \n",
       "mean     1.000834  1.903826e+05  1.053413e+09  1.484616e+09  2.022423e+06   \n",
       "std      0.136550  3.506797e+05  5.916491e+08  5.735235e+07  1.605175e+06   \n",
       "min      0.127457  3.000000e+03  1.128059e+07  1.341924e+09  6.724473e+05   \n",
       "25%      1.000000  3.070800e+04  5.566146e+08  1.442806e+09  1.150511e+06   \n",
       "50%      1.000000  5.000000e+04  1.033664e+09  1.500994e+09  1.421904e+06   \n",
       "75%      1.000000  1.300000e+05  1.578431e+09  1.532322e+09  2.087798e+06   \n",
       "max      1.305771  2.000000e+06  2.129340e+09  1.553609e+09  1.046949e+07   \n",
       "\n",
       "       state_changed_at  static_usd_rate   usd_pledged    profile_id  \\\n",
       "count      2.270000e+02       227.000000  2.270000e+02  2.140000e+02   \n",
       "mean       1.487717e+09         1.009661  1.942365e+06  2.606472e+06   \n",
       "std        5.722509e+07         0.160095  1.447352e+06  9.999113e+05   \n",
       "min        1.344492e+09         0.127411  1.001086e+06  5.762800e+04   \n",
       "25%        1.445830e+09         1.000000  1.147571e+06  1.993196e+06   \n",
       "50%        1.505916e+09         1.000000  1.419069e+06  3.016276e+06   \n",
       "75%        1.535449e+09         1.000000  1.979826e+06  3.399427e+06   \n",
       "max        1.554991e+09         1.679783  1.046949e+07  3.689385e+06   \n",
       "\n",
       "       profile_project_id   img_count   vid_count      usd_goal  percent_goal  \n",
       "count        2.140000e+02  227.000000  227.000000  2.270000e+02    227.000000  \n",
       "mean         2.606472e+06   42.528634    0.740088  1.929530e+05   4044.379215  \n",
       "std          9.999113e+05   19.113837    1.584864  3.541349e+05   5338.176563  \n",
       "min          5.762800e+04    5.000000    0.000000  3.000000e+03    112.074547  \n",
       "25%          1.993196e+06   28.000000    0.000000  3.000000e+04   1106.045170  \n",
       "50%          3.016276e+06   41.000000    0.000000  5.000000e+04   2465.225100  \n",
       "75%          3.399427e+06   54.000000    1.000000  1.238590e+05   5023.827750  \n",
       "max          3.689385e+06   94.000000   10.000000  2.000000e+06  39595.380667  "
      ]
     },
     "execution_count": 27,
     "metadata": {},
     "output_type": "execute_result"
    }
   ],
   "source": [
    "df[df['usd_pledged'] >= 1000000].describe()\n",
    "#There are 227 counts that have more than 1,000,000 USD pledged, much lower than the earlier 437."
   ]
  },
  {
   "cell_type": "code",
   "execution_count": 28,
   "metadata": {},
   "outputs": [
    {
     "data": {
      "text/plain": [
       "count    209904.000000\n",
       "mean          7.494812\n",
       "std          12.260051\n",
       "min           0.000000\n",
       "25%           0.000000\n",
       "50%           3.000000\n",
       "75%          10.000000\n",
       "max         205.000000\n",
       "Name: img_count, dtype: float64"
      ]
     },
     "execution_count": 28,
     "metadata": {},
     "output_type": "execute_result"
    }
   ],
   "source": [
    "## Exploring IMG & VIDEO usage\n",
    "\n",
    "df['img_count'].describe()\n",
    "## There exists a kickstarter that uses 205 images??"
   ]
  },
  {
   "cell_type": "code",
   "execution_count": 29,
   "metadata": {},
   "outputs": [
    {
     "data": {
      "image/png": "[encoded data removed]",
      "text/plain": [
       "<Figure size 432x288 with 1 Axes>"
      ]
     },
     "metadata": {
      "needs_background": "light"
     },
     "output_type": "display_data"
    }
   ],
   "source": [
    "plt.hist(df[df['img_count'] > 0]['img_count'], log = True, bins = 8)\n",
    "plt.show()\n",
    "## There exists a pattern that less projects are using more pictures.\n",
    "## Around a factor of ten less for every 25 images added."
   ]
  },
  {
   "cell_type": "code",
   "execution_count": 30,
   "metadata": {},
   "outputs": [
    {
     "data": {
      "text/plain": [
       "count    209904.000000\n",
       "mean          0.133351\n",
       "std           0.650023\n",
       "min           0.000000\n",
       "25%           0.000000\n",
       "50%           0.000000\n",
       "75%           0.000000\n",
       "max          28.000000\n",
       "Name: vid_count, dtype: float64"
      ]
     },
     "execution_count": 30,
     "metadata": {},
     "output_type": "execute_result"
    }
   ],
   "source": [
    "df['vid_count'].describe()\n",
    "# There are less projects that use videos. To the point that the mean is 0.13"
   ]
  },
  {
   "cell_type": "code",
   "execution_count": 31,
   "metadata": {},
   "outputs": [
    {
     "data": {
      "text/plain": [
       "count    5757.000000\n",
       "mean        3.238840\n",
       "std         1.985291\n",
       "min         2.000000\n",
       "25%         2.000000\n",
       "50%         3.000000\n",
       "75%         4.000000\n",
       "max        28.000000\n",
       "Name: vid_count, dtype: float64"
      ]
     },
     "execution_count": 31,
     "metadata": {},
     "output_type": "execute_result"
    }
   ],
   "source": [
    "df[df['vid_count'] > 1]['vid_count'].describe()\n",
    "# Only 5757 use it. We may be able to create a new feature that shows if it uses a video or not? "
   ]
  },
  {
   "cell_type": "code",
   "execution_count": 32,
   "metadata": {},
   "outputs": [
    {
     "data": {
      "image/png": "[encoded data removed]",
      "text/plain": [
       "<Figure size 432x288 with 1 Axes>"
      ]
     },
     "metadata": {
      "needs_background": "light"
     },
     "output_type": "display_data"
    }
   ],
   "source": [
    "plt.hist(df[df['vid_count'] > 1]['vid_count'])\n",
    "plt.show()"
   ]
  },
  {
   "cell_type": "code",
   "execution_count": 33,
   "metadata": {},
   "outputs": [
    {
     "name": "stdout",
     "output_type": "stream",
     "text": [
      "The top 5 countries starting a project are: \n",
      " US    143728\n",
      "GB     22567\n",
      "CA      9572\n",
      "AU      4666\n",
      "DE      3401\n",
      "Name: location_country, dtype: int64\n",
      "The lowest countries starting a project include: \n",
      " KI    1\n",
      "VA    1\n",
      "LC    1\n",
      "SA    1\n",
      "TL    1\n",
      "Name: location_country, dtype: int64\n",
      "Thre are a total of  198 countries producing projects\n"
     ]
    }
   ],
   "source": [
    "print(\"The top 5 countries starting a project are: \\n\", df['location_country'].value_counts()[:5])\n",
    "print(\"The lowest countries starting a project include: \\n\", df['location_country'].value_counts()[-5:])\n",
    "print(\"Thre are a total of \",df['location_country'].nunique(), \"countries producing projects\")"
   ]
  },
  {
   "cell_type": "code",
   "execution_count": 34,
   "metadata": {},
   "outputs": [
    {
     "data": {
      "image/png": "[encoded data removed]",
      "text/plain": [
       "<Figure size 432x288 with 1 Axes>"
      ]
     },
     "metadata": {
      "needs_background": "light"
     },
     "output_type": "display_data"
    }
   ],
   "source": [
    "plt.hist(df['created_at_date'])\n",
    "plt.show()\n",
    "## It looks like there is a large amount of projects created more recently compared to 2019 but \n",
    "## there exists a large spike from 2014 to 2015."
   ]
  },
  {
   "cell_type": "code",
   "execution_count": 35,
   "metadata": {},
   "outputs": [
    {
     "data": {
      "image/png": "[encoded data removed]",
      "text/plain": [
       "<Figure size 432x288 with 1 Axes>"
      ]
     },
     "metadata": {
      "needs_background": "light"
     },
     "output_type": "display_data"
    }
   ],
   "source": [
    "plt.hist(df['created_at_date'].dt.month)\n",
    "plt.show()\n",
    "## Taking a look at the individual months, it looks like more projects are started in January and December. \n",
    "## This reason could range from consumer activity to creator mentality i.e. more consumers are \n",
    "## available during holidays and creators are more encouraged during the new year to start a project. "
   ]
  },
  {
   "cell_type": "code",
   "execution_count": 36,
   "metadata": {},
   "outputs": [],
   "source": [
    "all_blurb = df.blurb.str.cat(sep=' ')"
   ]
  },
  {
   "cell_type": "code",
   "execution_count": 37,
   "metadata": {},
   "outputs": [
    {
     "data": {
      "image/png": "[encoded data removed]",
      "text/plain": [
       "<Figure size 432x288 with 1 Axes>"
      ]
     },
     "metadata": {
      "needs_background": "light"
     },
     "output_type": "display_data"
    }
   ],
   "source": [
    "stopwords = set(STOPWORDS)\n",
    "\n",
    "wordcloud = WordCloud(stopwords = stopwords, background_color = 'white', max_words = 100).generate(all_blurb)\n",
    "\n",
    "plt.imshow(wordcloud, interpolation = 'bilinear')\n",
    "plt.axis('off')\n",
    "plt.show()"
   ]
  },
  {
   "cell_type": "markdown",
   "metadata": {},
   "source": [
    "From the blurbs, a short description attached to a kickstarter, it looks like there is a consistent call to action like \"help us\" or \"make\". There are also phrases such as \"need help\", \"need\", \"want\", and \"support\" showing a sign of vulnerability and requires assitance from the consumer. Other notable features are the type of kickstarter being ran like \"enamel pin\", \"music\", \"book\", \"song\", \"short film\". It shows that people are using their blurbs to describe their project, which is great. Finally, there are the unifying words such as \"one\", \"life\", \"world\", and \"love\" that just elicits feelings of oneness and bringing people together. That's essentially what a kickstarter and crowdfunding is. These creators are effectively using the blurb to get a prospective backer's attention. "
   ]
  },
  {
   "cell_type": "code",
   "execution_count": 38,
   "metadata": {},
   "outputs": [],
   "source": [
    "# all_description = df.description.str.cat(sep = ' ')"
   ]
  },
  {
   "cell_type": "code",
   "execution_count": 39,
   "metadata": {},
   "outputs": [],
   "source": [
    "# desccloud = WordCloud(stopwords = stopwords, background_color = 'white').generate(all_description)\n",
    "\n",
    "#plt.imshow(desccloud, interpolation = 'bilinear')\n",
    "#plt.axis('off')\n",
    "#plt.show()"
   ]
  },
  {
   "cell_type": "code",
   "execution_count": 40,
   "metadata": {},
   "outputs": [],
   "source": [
    "# desccloud.to_file(\"img/description_cloud.png\")\n",
    "# The descriptions took too long. May break it up into categories"
   ]
  },
  {
   "cell_type": "code",
   "execution_count": 41,
   "metadata": {},
   "outputs": [],
   "source": [
    "all_art = df[df['category_core'] == 'art']['description'].str.cat(sep = ' ')"
   ]
  },
  {
   "cell_type": "code",
   "execution_count": 42,
   "metadata": {},
   "outputs": [],
   "source": [
    "all_art_wc = WordCloud(stopwords = stopwords, background_color = 'white').generate(all_art)"
   ]
  },
  {
   "cell_type": "code",
   "execution_count": 43,
   "metadata": {},
   "outputs": [
    {
     "data": {
      "image/png": "[encoded data removed]",
      "text/plain": [
       "<Figure size 432x288 with 1 Axes>"
      ]
     },
     "metadata": {
      "needs_background": "light"
     },
     "output_type": "display_data"
    }
   ],
   "source": [
    "plt.imshow(all_art_wc, interpolation = 'bilinear')\n",
    "plt.axis('off')\n",
    "plt.show()"
   ]
  },
  {
   "cell_type": "code",
   "execution_count": 44,
   "metadata": {},
   "outputs": [],
   "source": [
    "all_tech = df[df['category_core'] == 'technology']['description'].str.cat(sep = ' ')"
   ]
  },
  {
   "cell_type": "code",
   "execution_count": 49,
   "metadata": {},
   "outputs": [
    {
     "ename": "KeyboardInterrupt",
     "evalue": "",
     "output_type": "error",
     "traceback": [
      "\u001b[0;31m---------------------------------------------------------------------------\u001b[0m",
      "\u001b[0;31mKeyboardInterrupt\u001b[0m                         Traceback (most recent call last)",
      "\u001b[0;32m<ipython-input-49-e7bec99af9c4>\u001b[0m in \u001b[0;36m<module>\u001b[0;34m\u001b[0m\n\u001b[0;32m----> 1\u001b[0;31m \u001b[0mall_tech_wc\u001b[0m \u001b[0;34m=\u001b[0m \u001b[0mWordCloud\u001b[0m\u001b[0;34m(\u001b[0m\u001b[0mstopwords\u001b[0m \u001b[0;34m=\u001b[0m \u001b[0mstopwords\u001b[0m\u001b[0;34m,\u001b[0m \u001b[0mbackground_color\u001b[0m \u001b[0;34m=\u001b[0m \u001b[0;34m'white'\u001b[0m\u001b[0;34m)\u001b[0m\u001b[0;34m.\u001b[0m\u001b[0mgenerate\u001b[0m\u001b[0;34m(\u001b[0m\u001b[0mall_tech\u001b[0m\u001b[0;34m)\u001b[0m\u001b[0;34m\u001b[0m\u001b[0;34m\u001b[0m\u001b[0m\n\u001b[0m",
      "\u001b[0;32m~/anaconda3/lib/python3.7/site-packages/wordcloud/wordcloud.py\u001b[0m in \u001b[0;36mgenerate\u001b[0;34m(self, text)\u001b[0m\n\u001b[1;32m    603\u001b[0m         \u001b[0mself\u001b[0m\u001b[0;34m\u001b[0m\u001b[0;34m\u001b[0m\u001b[0m\n\u001b[1;32m    604\u001b[0m         \"\"\"\n\u001b[0;32m--> 605\u001b[0;31m         \u001b[0;32mreturn\u001b[0m \u001b[0mself\u001b[0m\u001b[0;34m.\u001b[0m\u001b[0mgenerate_from_text\u001b[0m\u001b[0;34m(\u001b[0m\u001b[0mtext\u001b[0m\u001b[0;34m)\u001b[0m\u001b[0;34m\u001b[0m\u001b[0;34m\u001b[0m\u001b[0m\n\u001b[0m\u001b[1;32m    606\u001b[0m \u001b[0;34m\u001b[0m\u001b[0m\n\u001b[1;32m    607\u001b[0m     \u001b[0;32mdef\u001b[0m \u001b[0m_check_generated\u001b[0m\u001b[0;34m(\u001b[0m\u001b[0mself\u001b[0m\u001b[0;34m)\u001b[0m\u001b[0;34m:\u001b[0m\u001b[0;34m\u001b[0m\u001b[0;34m\u001b[0m\u001b[0m\n",
      "\u001b[0;32m~/anaconda3/lib/python3.7/site-packages/wordcloud/wordcloud.py\u001b[0m in \u001b[0;36mgenerate_from_text\u001b[0;34m(self, text)\u001b[0m\n\u001b[1;32m    584\u001b[0m         \u001b[0mself\u001b[0m\u001b[0;34m\u001b[0m\u001b[0;34m\u001b[0m\u001b[0m\n\u001b[1;32m    585\u001b[0m         \"\"\"\n\u001b[0;32m--> 586\u001b[0;31m         \u001b[0mwords\u001b[0m \u001b[0;34m=\u001b[0m \u001b[0mself\u001b[0m\u001b[0;34m.\u001b[0m\u001b[0mprocess_text\u001b[0m\u001b[0;34m(\u001b[0m\u001b[0mtext\u001b[0m\u001b[0;34m)\u001b[0m\u001b[0;34m\u001b[0m\u001b[0;34m\u001b[0m\u001b[0m\n\u001b[0m\u001b[1;32m    587\u001b[0m         \u001b[0mself\u001b[0m\u001b[0;34m.\u001b[0m\u001b[0mgenerate_from_frequencies\u001b[0m\u001b[0;34m(\u001b[0m\u001b[0mwords\u001b[0m\u001b[0;34m)\u001b[0m\u001b[0;34m\u001b[0m\u001b[0;34m\u001b[0m\u001b[0m\n\u001b[1;32m    588\u001b[0m         \u001b[0;32mreturn\u001b[0m \u001b[0mself\u001b[0m\u001b[0;34m\u001b[0m\u001b[0;34m\u001b[0m\u001b[0m\n",
      "\u001b[0;32m~/anaconda3/lib/python3.7/site-packages/wordcloud/wordcloud.py\u001b[0m in \u001b[0;36mprocess_text\u001b[0;34m(self, text)\u001b[0m\n\u001b[1;32m    561\u001b[0m \u001b[0;34m\u001b[0m\u001b[0m\n\u001b[1;32m    562\u001b[0m         \u001b[0;32mif\u001b[0m \u001b[0mself\u001b[0m\u001b[0;34m.\u001b[0m\u001b[0mcollocations\u001b[0m\u001b[0;34m:\u001b[0m\u001b[0;34m\u001b[0m\u001b[0;34m\u001b[0m\u001b[0m\n\u001b[0;32m--> 563\u001b[0;31m             \u001b[0mword_counts\u001b[0m \u001b[0;34m=\u001b[0m \u001b[0munigrams_and_bigrams\u001b[0m\u001b[0;34m(\u001b[0m\u001b[0mwords\u001b[0m\u001b[0;34m,\u001b[0m \u001b[0mself\u001b[0m\u001b[0;34m.\u001b[0m\u001b[0mnormalize_plurals\u001b[0m\u001b[0;34m)\u001b[0m\u001b[0;34m\u001b[0m\u001b[0;34m\u001b[0m\u001b[0m\n\u001b[0m\u001b[1;32m    564\u001b[0m         \u001b[0;32melse\u001b[0m\u001b[0;34m:\u001b[0m\u001b[0;34m\u001b[0m\u001b[0;34m\u001b[0m\u001b[0m\n\u001b[1;32m    565\u001b[0m             \u001b[0mword_counts\u001b[0m\u001b[0;34m,\u001b[0m \u001b[0m_\u001b[0m \u001b[0;34m=\u001b[0m \u001b[0mprocess_tokens\u001b[0m\u001b[0;34m(\u001b[0m\u001b[0mwords\u001b[0m\u001b[0;34m,\u001b[0m \u001b[0mself\u001b[0m\u001b[0;34m.\u001b[0m\u001b[0mnormalize_plurals\u001b[0m\u001b[0;34m)\u001b[0m\u001b[0;34m\u001b[0m\u001b[0;34m\u001b[0m\u001b[0m\n",
      "\u001b[0;32m~/anaconda3/lib/python3.7/site-packages/wordcloud/tokenization.py\u001b[0m in \u001b[0;36munigrams_and_bigrams\u001b[0;34m(words, normalize_plurals)\u001b[0m\n\u001b[1;32m     56\u001b[0m         \u001b[0mword2\u001b[0m \u001b[0;34m=\u001b[0m \u001b[0mstandard_form\u001b[0m\u001b[0;34m[\u001b[0m\u001b[0mbigram\u001b[0m\u001b[0;34m[\u001b[0m\u001b[0;36m1\u001b[0m\u001b[0;34m]\u001b[0m\u001b[0;34m.\u001b[0m\u001b[0mlower\u001b[0m\u001b[0;34m(\u001b[0m\u001b[0;34m)\u001b[0m\u001b[0;34m]\u001b[0m\u001b[0;34m\u001b[0m\u001b[0;34m\u001b[0m\u001b[0m\n\u001b[1;32m     57\u001b[0m \u001b[0;34m\u001b[0m\u001b[0m\n\u001b[0;32m---> 58\u001b[0;31m         \u001b[0;32mif\u001b[0m \u001b[0mscore\u001b[0m\u001b[0;34m(\u001b[0m\u001b[0mcount\u001b[0m\u001b[0;34m,\u001b[0m \u001b[0mcounts\u001b[0m\u001b[0;34m[\u001b[0m\u001b[0mword1\u001b[0m\u001b[0;34m]\u001b[0m\u001b[0;34m,\u001b[0m \u001b[0mcounts\u001b[0m\u001b[0;34m[\u001b[0m\u001b[0mword2\u001b[0m\u001b[0;34m]\u001b[0m\u001b[0;34m,\u001b[0m \u001b[0mn_words\u001b[0m\u001b[0;34m)\u001b[0m \u001b[0;34m>\u001b[0m \u001b[0;36m30\u001b[0m\u001b[0;34m:\u001b[0m\u001b[0;34m\u001b[0m\u001b[0;34m\u001b[0m\u001b[0m\n\u001b[0m\u001b[1;32m     59\u001b[0m             \u001b[0;31m# bigram is a collocation\u001b[0m\u001b[0;34m\u001b[0m\u001b[0;34m\u001b[0m\u001b[0;34m\u001b[0m\u001b[0m\n\u001b[1;32m     60\u001b[0m             \u001b[0;31m# discount words in unigrams dict. hack because one word might\u001b[0m\u001b[0;34m\u001b[0m\u001b[0;34m\u001b[0m\u001b[0;34m\u001b[0m\u001b[0m\n",
      "\u001b[0;32m~/anaconda3/lib/python3.7/site-packages/wordcloud/tokenization.py\u001b[0m in \u001b[0;36mscore\u001b[0;34m(count_bigram, count1, count2, n_words)\u001b[0m\n\u001b[1;32m     23\u001b[0m     \u001b[0mp\u001b[0m \u001b[0;34m=\u001b[0m \u001b[0mc2\u001b[0m \u001b[0;34m/\u001b[0m \u001b[0mN\u001b[0m\u001b[0;34m\u001b[0m\u001b[0;34m\u001b[0m\u001b[0m\n\u001b[1;32m     24\u001b[0m     \u001b[0mp1\u001b[0m \u001b[0;34m=\u001b[0m \u001b[0mc12\u001b[0m \u001b[0;34m/\u001b[0m \u001b[0mc1\u001b[0m\u001b[0;34m\u001b[0m\u001b[0;34m\u001b[0m\u001b[0m\n\u001b[0;32m---> 25\u001b[0;31m     \u001b[0mp2\u001b[0m \u001b[0;34m=\u001b[0m \u001b[0;34m(\u001b[0m\u001b[0mc2\u001b[0m \u001b[0;34m-\u001b[0m \u001b[0mc12\u001b[0m\u001b[0;34m)\u001b[0m \u001b[0;34m/\u001b[0m \u001b[0;34m(\u001b[0m\u001b[0mN\u001b[0m \u001b[0;34m-\u001b[0m \u001b[0mc1\u001b[0m\u001b[0;34m)\u001b[0m\u001b[0;34m\u001b[0m\u001b[0;34m\u001b[0m\u001b[0m\n\u001b[0m\u001b[1;32m     26\u001b[0m     score = (l(c12, c1, p) + l(c2 - c12, N - c1, p)\n\u001b[1;32m     27\u001b[0m              - l(c12, c1, p1) - l(c2 - c12, N - c1, p2))\n",
      "\u001b[0;31mKeyboardInterrupt\u001b[0m: "
     ]
    }
   ],
   "source": [
    "all_tech_wc = WordCloud(stopwords = stopwords, background_color = 'white').generate(all_tech)"
   ]
  },
  {
   "cell_type": "code",
   "execution_count": 48,
   "metadata": {},
   "outputs": [
    {
     "ename": "NameError",
     "evalue": "name 'all_tech_wc' is not defined",
     "output_type": "error",
     "traceback": [
      "\u001b[0;31m---------------------------------------------------------------------------\u001b[0m",
      "\u001b[0;31mNameError\u001b[0m                                 Traceback (most recent call last)",
      "\u001b[0;32m<ipython-input-48-bb531d0a87e8>\u001b[0m in \u001b[0;36m<module>\u001b[0;34m\u001b[0m\n\u001b[0;32m----> 1\u001b[0;31m \u001b[0mplt\u001b[0m\u001b[0;34m.\u001b[0m\u001b[0mimshow\u001b[0m\u001b[0;34m(\u001b[0m\u001b[0mall_tech_wc\u001b[0m\u001b[0;34m,\u001b[0m \u001b[0minterpolation\u001b[0m \u001b[0;34m=\u001b[0m \u001b[0;34m'bilinear'\u001b[0m\u001b[0;34m)\u001b[0m\u001b[0;34m\u001b[0m\u001b[0;34m\u001b[0m\u001b[0m\n\u001b[0m\u001b[1;32m      2\u001b[0m \u001b[0mplt\u001b[0m\u001b[0;34m.\u001b[0m\u001b[0maxis\u001b[0m\u001b[0;34m(\u001b[0m\u001b[0;34m'off'\u001b[0m\u001b[0;34m)\u001b[0m\u001b[0;34m\u001b[0m\u001b[0;34m\u001b[0m\u001b[0m\n\u001b[1;32m      3\u001b[0m \u001b[0mplt\u001b[0m\u001b[0;34m.\u001b[0m\u001b[0mshow\u001b[0m\u001b[0;34m(\u001b[0m\u001b[0;34m)\u001b[0m\u001b[0;34m\u001b[0m\u001b[0;34m\u001b[0m\u001b[0m\n",
      "\u001b[0;31mNameError\u001b[0m: name 'all_tech_wc' is not defined"
     ]
    }
   ],
   "source": [
    "plt.imshow(all_tech_wc, interpolation = 'bilinear')\n",
    "plt.axis('off')\n",
    "plt.show()"
   ]
  },
  {
   "cell_type": "markdown",
   "metadata": {},
   "source": [
    "Taking a look at the description per category, there are some similarities but a huge difference is the word \"use\" from the technology category. It shows that they're mostly products that people would use compared to artwork that's meant to be appreciated rather than utilized.   \n",
    "Their similarities in words like \"design\", \"well\", \"made\", \"make\" both show the creativity required to do either project categories.   \n",
    "The art word cloud also utilizes more art related words like \"painting\", \"book\", \"image\", and \"artist\" while the technology word cloud shows more tech related words like \"device\", \"app\", \" system\", and \"control\". "
   ]
  },
  {
   "cell_type": "code",
   "execution_count": null,
   "metadata": {},
   "outputs": [],
   "source": []
  },
  {
   "cell_type": "code",
   "execution_count": null,
   "metadata": {},
   "outputs": [],
   "source": []
  },
  {
   "cell_type": "code",
   "execution_count": null,
   "metadata": {},
   "outputs": [],
   "source": []
  },
  {
   "cell_type": "code",
   "execution_count": null,
   "metadata": {},
   "outputs": [],
   "source": [
    "# Bivariate Analysis"
   ]
  },
  {
   "cell_type": "markdown",
   "metadata": {},
   "source": [
    "Immediately, I'd like to see whether or not many of these variables are connected to our eng goal which is the 'state' of the project.   \n",
    "Alternatively, we can create a 'success' column on whether the percent goal reached 100% or not. "
   ]
  },
  {
   "cell_type": "code",
   "execution_count": 51,
   "metadata": {},
   "outputs": [],
   "source": [
    "df['reach_goal'] = df['percent_goal'] >= 100.00"
   ]
  },
  {
   "cell_type": "code",
   "execution_count": null,
   "metadata": {},
   "outputs": [],
   "source": [
    "fig, ax = plt.subplots(figsize=(4, 6))\n",
    "\n",
    "df.boxplot(column = 'backers_count', by='reach_goal', ax = ax)\n",
    "ax.set_yscale('log')\n",
    "plt.show()\n",
    "## It makes sense that there are less backer that reaching their goal isn't a possibility. "
   ]
  },
  {
   "cell_type": "code",
   "execution_count": null,
   "metadata": {},
   "outputs": [],
   "source": [
    "fig, ax = plt.subplots(figsize=(4, 6))\n",
    "\n",
    "ax.bar(x=df['country'], height = df[df['reach_goal']==True].sum())\n",
    "\n",
    "plt.show()"
   ]
  },
  {
   "cell_type": "code",
   "execution_count": null,
   "metadata": {},
   "outputs": [],
   "source": [
    "df[df['reach_goal']==True]['reach_goal'].count()"
   ]
  },
  {
   "cell_type": "code",
   "execution_count": null,
   "metadata": {},
   "outputs": [],
   "source": []
  }
 ],
 "metadata": {
  "kernelspec": {
   "display_name": "Python 3",
   "language": "python",
   "name": "python3"
  },
  "language_info": {
   "codemirror_mode": {
    "name": "ipython",
    "version": 3
   },
   "file_extension": ".py",
   "mimetype": "text/x-python",
   "name": "python",
   "nbconvert_exporter": "python",
   "pygments_lexer": "ipython3",
   "version": "3.7.3"
  }
 },
 "nbformat": 4,
 "nbformat_minor": 2
}
